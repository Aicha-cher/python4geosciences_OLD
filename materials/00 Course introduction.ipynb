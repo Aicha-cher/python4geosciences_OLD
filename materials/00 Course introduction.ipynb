{
 "cells": [
  {
   "cell_type": "markdown",
   "metadata": {},
   "source": [
    "# Am I ready to take this course?\n",
    "\n",
    "Yes. Probably. Some programming experience will help, but is not required. There are lots of online resource that you can use to supplement things we learn in class. Some examples are:\n",
    "\n",
    " * [python.org Tutorial](https://docs.python.org/3/tutorial/index.html)\n",
    " * [software carpentry](http://software-carpentry.org)\n",
    " * [Google](http://google.com) (Just type in your question and follow the first [stackoverflow](http://stackoverflow.com) link. This is surprisingly effective; do this first.)"
   ]
  },
  {
   "cell_type": "markdown",
   "metadata": {},
   "source": [
    "# What computational resources do I need for class?\n",
    "\n",
    "We assume you have a laptop that you will bring to class and use to follow along. If you don't have access to some sort of portable device that you can use in class, please let us know as soon as possible."
   ]
  },
  {
   "cell_type": "markdown",
   "metadata": {},
   "source": [
    "# Who is teaching this class?\n",
    "\n",
    "### Rob Hetland (hetland@tamu.edu)\n",
    "Rob has been a professor at TAMU since 2000, and has about a decade worth of scientific python experience.\n",
    "\n",
    "### Kristen Thyng (kthyng@tamu.edu)\n",
    "Kristen is an assistant research scientist, and has been at TAMU since 2012. She has been active in scientific python and has helped organized the Scientific Python meetings in Austin since 2013."
   ]
  },
  {
   "cell_type": "markdown",
   "metadata": {},
   "source": [
    "# There are two instructors then?\n",
    "\n",
    "Yes. We will take turns teaching and helping out with the class. Please email both of us for all class-related contact, though feel free to address whoever is most relevant, if appropriate."
   ]
  },
  {
   "cell_type": "markdown",
   "metadata": {},
   "source": [
    "# Geosciences?!?\n",
    "\n",
    "The goal of this class is to provide information for all fields in geoscience. To that end, we will try to cover topics from geology, geography, atmospheric sciences, and oceanography. Specifically, we will focus on 1D timeseries, and 2D geospatial (i.e., on a map) analysis. If you have any topics you would like to cover, please let us know, and we will do our best to accommodate."
   ]
  },
  {
   "cell_type": "markdown",
   "metadata": {},
   "source": [
    "# Which version of Python should I use.\n",
    "\n",
    "Unless you have a good reason to do differently, you should use Python 3 (as opposed to Python version 2.x). The syntax between Python 2 and 3 is very similar, but there are some subtle differences. You should learn the newest version, so you don't need to unlearn those things later.\n",
    "\n",
    "Unless you have a good reason to do differently, you should use [Anaconda scientific python](https://www.continuum.io/downloads). This is the Python distribution we will use in class. Others will also work, but the Anaconda distribution is easy to install and maintain, and has everything we will need for class. It is also free, both as in speech and as in beer."
   ]
  },
  {
   "cell_type": "markdown",
   "metadata": {},
   "source": [
    "# Class setup\n",
    "\n",
    "## Class format\n",
    "\n",
    "We will go through course materials during class time. You should bring a laptop to class so that you can follow along and participate in exercises.\n",
    "\n",
    "\n",
    "## Git and GitHub\n",
    "\n",
    "All class materials will be shared through a [GitHub](http://github.org) repository. GitHub is a way to share and access code online which has been version-controlled using git. Version control allows changes in code to be tracked over time; this is important for reproducibility, retrieving code in case of accidents, and working on code in groups. Git is one way to version control your code — other methods include subversion (svn), cvs, and mercurial.\n",
    "\n",
    "![XKCD](https://imgs.xkcd.com/comics/git.png)\n",
    "\n",
    "[Git as explained by XKCD](https://xkcd.com/1597/)\n",
    "\n",
    "\n",
    "## Get set up with git\n",
    "\n",
    "You'll need an account on github if you don't already have one, and to have git installed on your computer. We will interact with github through a terminal window in class and through the website. You may also download the [GitHub Desktop application](https://desktop.github.com/) to use if you prefer, though we won't be able to help you much with the details of it.\n",
    "\n",
    "\n",
    "## Get the course materials\n",
    "\n",
    "The course materials are available in the [class repository](https://github.com/hetland/python4geosciences). To do this, in your terminal window, navigate to the location where you want the class materials, and then type: `git clone https://github.com/hetland/python4geosciences`.\n",
    "\n",
    "\n",
    "## Access the materials\n",
    "\n",
    "* The class materials are located in `python4geosciences/materials/` and are in the form of [Jupyter notebooks](http://jupyter.org/). This file format makes it easy to seamlessly combine text and code. The text can be plain or formatted with [Markdown](https://daringfireball.net/projects/markdown/). The code can be written in over 40 languages including Python, R, and Scala. Most importantly, the code can be interacted with when the notebook is opened in a local (that is, on your computer) iPython server. Alternatively, it can simply be viewed through a github repository (like [this very notebook](https://github.com/hetland/python4geosciences/blob/master/materials/00%20Course%20introduction.ipynb)) or through [nbviewer](http://nbviewer.ipython.org/). \n",
    "* Navigate to the class directory on your computer, then start a local iPython notebook server with `ipython notebook`. This will open a browser window to the local server through which you can select notebooks in the `materials` directory for the class notebooks."
   ]
  },
  {
   "cell_type": "markdown",
   "metadata": {},
   "source": [
    "# How do I submit homework?\n",
    "\n",
    "You will need to submit your homework through [github](http://github.org) from your own repository that you will use for the class. Your homeworks will be in the form of Jupyter notebooks."
   ]
  },
  {
   "cell_type": "code",
   "execution_count": null,
   "metadata": {
    "collapsed": true
   },
   "outputs": [],
   "source": []
  }
 ],
 "metadata": {
  "kernelspec": {
   "display_name": "Python 3",
   "language": "python",
   "name": "python3"
  },
  "language_info": {
   "codemirror_mode": {
    "name": "ipython",
    "version": 3
   },
   "file_extension": ".py",
   "mimetype": "text/x-python",
   "name": "python",
   "nbconvert_exporter": "python",
   "pygments_lexer": "ipython3",
   "version": "3.5.1"
  }
 },
 "nbformat": 4,
 "nbformat_minor": 0
}
