{
 "cells": [
  {
   "cell_type": "markdown",
   "metadata": {},
   "source": [
    "# Am I ready to take this course?\n",
    "\n",
    "Yes. Probably. Some programming experience will help, but is not required. There are lots of online resource that you can use to supplement things we learn in class. Some examples are:\n",
    "\n",
    " * [python.org Tutorial](https://docs.python.org/3/tutorial/index.html)\n",
    " * [software carpentry](http://software-carpentry.org)\n",
    " * [Google](http://google.com) (Just type in your question and follow the first [stackoverflow](http://stackoverflow.com) link. This is surprisingly effective; do this first.)"
   ]
  },
  {
   "cell_type": "markdown",
   "metadata": {},
   "source": [
    "# What computational resources do I need for class?\n",
    "\n",
    "We assume you have a laptop that you will bring to class and use to follow along. If you don't have access to some sort of portable device that you can use in class, please let us know as soon as possible."
   ]
  },
  {
   "cell_type": "markdown",
   "metadata": {},
   "source": [
    "# Who is teaching this class?\n",
    "\n",
    "### Rob Hetland (hetland@tamu.edu)\n",
    "Rob has been a professor at TAMU since 2000, and has about a decade worth of scientific python experience.\n",
    "\n",
    "### Kristen Thyng (kthyng@tamu.edu)\n",
    "Kristen is an assistant research scientist, and has been at TAMU since 2012. She has been active in scientific python and has helped organized the Scientific Python meetings in Austin since 2013."
   ]
  },
  {
   "cell_type": "markdown",
   "metadata": {},
   "source": [
    "# There are two instructors then?\n",
    "\n",
    "Yes. We will take turns teaching and helping out with the class. Please email both of us for all class-related contact, though feel free to address whoever is most relevant, if appropriate."
   ]
  },
  {
   "cell_type": "markdown",
   "metadata": {},
   "source": [
    "# Geosciences?!?\n",
    "\n",
    "The goal of this class is to provide information for all fields in geoscience. To that end, we will try to cover topics from geology, geography, atmospheric sciences, and oceanography. Specifically, we will focus on 1D timeseries, and 2D geospatial (i.e., on a map) analysis. If you have any topics you would like to cover, please let us know, and we will do our best to accommodate."
   ]
  },
  {
   "cell_type": "markdown",
   "metadata": {},
   "source": [
    "# Which version of Python should I use.\n",
    "\n",
    "Unless you have a good reason to do differently, you should use Python 3 (as opposed to Python version 2.x). The syntax between Python 2 and 3 is very similar, but there are some subtle differences. You should learn the newest version, so you don't need to unlearn those things later.\n",
    "\n",
    "Unless you have a good reason to do differently, you should use [Anaconda scientific python](https://www.continuum.io/downloads). This is the Python distribution we will use in class. Others will also work, but the Anaconda distribution is easy to install and maintain, and has everything we will need for class. It is also free, both as in speech and as in beer.\n",
    "\n",
    "Go download this."
   ]
  },
  {
   "cell_type": "markdown",
   "metadata": {},
   "source": [
    "# Class setup\n",
    "\n",
    "## Git and GitHub\n",
    "\n",
    "All class materials will be shared through a [GitHub](http://github.org) repository. GitHub is a way to share and access code online which has been version-controlled using git. Version control allows changes in code to be tracked over time; this is important for reproducibility, retrieving code in case of accidents, and working on code in groups. Git is one way to version control your code — other methods include subversion (svn), cvs, and mercurial.\n",
    "\n",
    "![XKCD](https://imgs.xkcd.com/comics/git.png)\n",
    "\n",
    "[Git as explained by XKCD](https://xkcd.com/1597/)\n",
    "\n",
    "\n",
    "## Get set up with git\n",
    "\n",
    "* Create an account on github if you don't already have one.\n",
    "* Install git on your computer.\n",
    "* We will interact with github through a terminal window and through the website. You may also download the [GitHub Desktop application](https://desktop.github.com/) to use if you prefer, though we won't be able to help you much with the details of it.\n",
    "\n",
    "\n",
    "## Get the class materials\n",
    "\n",
    "* Clone the [class repository](https://github.com/hetland/python4geosciences). To do this, in your terminal window, navigate to the location where you want the class materials, and then type: `git clone https://github.com/hetland/python4geosciences`.\n",
    "\n",
    "## "
   ]
  },
  {
   "cell_type": "markdown",
   "metadata": {},
   "source": [
    "# How do I submit homework?\n",
    "\n",
    "You will need to submit your homework through [github](http://github.org).\n",
    "\n",
    "Create an account, and then create a repository that you will use for the class. You will need to email us a link to your repository.\n",
    "\n",
    "* sample homework"
   ]
  },
  {
   "cell_type": "code",
   "execution_count": null,
   "metadata": {
    "collapsed": true
   },
   "outputs": [],
   "source": []
  }
 ],
 "metadata": {
  "kernelspec": {
   "display_name": "Python 3",
   "language": "python",
   "name": "python3"
  },
  "language_info": {
   "codemirror_mode": {
    "name": "ipython",
    "version": 3
   },
   "file_extension": ".py",
   "mimetype": "text/x-python",
   "name": "python",
   "nbconvert_exporter": "python",
   "pygments_lexer": "ipython3",
   "version": "3.5.1"
  }
 },
 "nbformat": 4,
 "nbformat_minor": 0
}
