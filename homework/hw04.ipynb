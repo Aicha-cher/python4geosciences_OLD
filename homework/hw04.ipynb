{
 "cells": [
  {
   "cell_type": "markdown",
   "metadata": {
    "collapsed": true
   },
   "source": [
    "# Homework 04\n",
    "\n",
    "## Due Tuesday, March 1st\n",
    "\n",
    "For all of the plots, make sure that you use labels with units as appropriate, and make good choices about all of the plot characteristics like fontsize, colors, and markersize. Choose colormaps that are appropriate for your data; that is, sequential for sequential data or diverging for diverging data. Don't use the default jet (rainbow) colormap!"
   ]
  },
  {
   "cell_type": "markdown",
   "metadata": {},
   "source": [
    "### 1. Basic Line Plotting\n",
    "\n",
    "Reproduce this image, showing river flow during flood years of the Merrimack River\n",
    "\n",
    "![Merrimack River Discharge](merrimack_discharge.png)\n",
    "\n",
    "The data used to create this plot can be found [un t](../data/merrimack_discharge.dat). You may read in the data any way you want. That is, you may extract the data for the years in question by hand, however part of your grade will be based on creating a flexible script that could read in values from another datafile, e.g., from another river gauge. Pay attention to detail.\n",
    "\n",
    "   - *Undergraduates*: Focus only on the four lines representing river flow in the four specific years (1936, 1938, 1960, 1987).\n",
    "   - *Graduates*: Do the undergrad work, and then add the black line representing the mean discharge (calculated from the data in the file), and the shaded region representing one standard deviation from the mean."
   ]
  },
  {
   "cell_type": "code",
   "execution_count": null,
   "metadata": {
    "collapsed": true
   },
   "outputs": [],
   "source": []
  },
  {
   "cell_type": "markdown",
   "metadata": {},
   "source": [
    "### 2. Plot 2D function multiple ways\n",
    "\n",
    "Use this code to define a set of gridded data, defined between -3 and 3 in both x and y.\n",
    "\n",
    "    X, Y = np.meshgrid(np.linspace(-4.2, 6.2, 101), np.linspace(-3.2, 3.2, 101))\n",
    "    Z = np.cos(X**2+Y**2)*(X**2+Y**2)**-0.25 + 0.2*X*Y*np.sin(Y) \\\n",
    "       + 0.01*X*Y**4*np.sin(X) + 0.2*np.exp(-Y**2)\n",
    "\n",
    "Create three different plots of Z over the X-Y plane. Use:\n",
    "* `pcolor`\n",
    "* `contourf`\n",
    "* `contour` (with dashed lines for negative values, solid lines for positive values)\n",
    "\n",
    "Make sure the aspect ratio is 1."
   ]
  },
  {
   "cell_type": "code",
   "execution_count": null,
   "metadata": {
    "collapsed": false
   },
   "outputs": [],
   "source": []
  },
  {
   "cell_type": "markdown",
   "metadata": {},
   "source": [
    "### 3. Read 2D data and make scatter plot\n",
    "\n",
    "Temperature and salinity are known to have an important relationship in oceanography. Investigate that relationship in the CTD data from one of the files stored in `data/MCH`. Read in the data and make the following plots as subplots in one figure:\n",
    "\n",
    "1. plot temperature vs. salinity, using black dots to mark the data points.\n",
    "1. plot temperature vs. salinity, and color the markers with the depth;\n",
    "1. plot temperature vs. salinity, color the markers with the depth, and then size the markers with another property of your choice from the file.\n",
    "\n",
    "Choose a colormap that is different from the default to use for the colors of your markers for the 2nd and 3rd plots."
   ]
  },
  {
   "cell_type": "code",
   "execution_count": null,
   "metadata": {
    "collapsed": true
   },
   "outputs": [],
   "source": []
  },
  {
   "cell_type": "markdown",
   "metadata": {},
   "source": [
    "### 4. Histogram\n",
    "\n",
    "Make a 1D histogram of wind speed from the BURL1 NOAA weather station. Load the data like this:\n",
    "\n",
    "    burl = np.genfromtxt('http://www.ndbc.noaa.gov/view_text_file.php?filename=burl1h2010.txt.gz&dir=data/historical/stdmet/')\n",
    "    wind_speed = burl[:, 6]\n",
    "\n",
    "*Bonus*: What kind of probability distribution does this look like? Plot your best guess on top of the histogram using a line."
   ]
  },
  {
   "cell_type": "code",
   "execution_count": null,
   "metadata": {
    "collapsed": true
   },
   "outputs": [],
   "source": []
  },
  {
   "cell_type": "markdown",
   "metadata": {},
   "source": [
    "### 5. (Grad) Fit and line and plot\n",
    "\n",
    "Load in the Mauna Loa carbon dioxide dataset:\n",
    "\n",
    "    mauna_loa_co2 = np.genfromtxt('ftp://aftp.cmdl.noaa.gov/products/trends/co2/co2_mm_mlo.txt')\n",
    "    years = mauna_loa_co2[:, 0]\n",
    "    months = mauna_loa_co2[:, 1]\n",
    "    co2 = mauna_loa_co2[:, 4]\n",
    "\n",
    "\n",
    "Fit a 1st (straight line), 2nd, and 5th order polynomial to the data. Use your polynomial fits to predict CO$_2$ in the year 2100. Which prediction do you think is most accurate?"
   ]
  },
  {
   "cell_type": "code",
   "execution_count": null,
   "metadata": {
    "collapsed": true
   },
   "outputs": [],
   "source": []
  },
  {
   "cell_type": "markdown",
   "metadata": {},
   "source": [
    "### 6. (Grad) Make a movie\n",
    "\n",
    "Make a movie of annual mean surface air temperature predictions from the AR4 model. Data are found in `data/surface_temp_predictions.npz`. Load the data using\n",
    "\n",
    "    lon, lat, mean_surf_temp = np.load('surface_temp_predictions.npz')['arr_0']\n",
    "\n",
    "The `['arr_0']` is needed because of the way zipped `npz` files store data; see the docstring for `np.savez`. If that doesn't work (if you get an 'ordinal not in range error), you will need to explicilty specify the encoding:\n",
    "\n",
    "    lat, lon, sst = np.load('python4geosciences/data/surface_temp_predictions.npz', encoding='latin1')['arr_0']\n",
    "\n",
    "(The source for the data can be found [here](http://nomads.ncdc.noaa.gov/thredds/dodsC/gfdlcm2x/Stable2000/tas_A1.200101-210012.nc.html)).\n",
    "Make sure your movie includes some representation of the earth (like coastlines), includes a colorbar, along with other appropriate labels.\n",
    "\n",
    "The process will be to create a loop that creates a series of frames, labeled `frame_003.png`, for example. You will want to create a string for the filename using some code like this:\n",
    "\n",
    "    frame_name = 'frame_%03d' % frame_number\n",
    "\n",
    "Use [ffmpeg](https://www.ffmpeg.org) to stitch the frames together to create an H264 animation that can be played by quicktime. I use a command like this:\n",
    "\n",
    "    $ ffmpeg -y -r 10 -i frames_%04d.png -c:v libx264 -pix_fmt yuv420p -crf 15 OUTFILE.mp4\n",
    "\n",
    "where the options mean\n",
    "\n",
    "    -y                  Overwrite old file\n",
    "    \n",
    "    -r 10               Play 10 frames per second\n",
    "    \n",
    "    -c:v libx264        Use the H264 library\n",
    "    \n",
    "    -crf 15             Use a compression factor of 15 (0=lossless, 51=poor.)\n",
    "                        Quicktime cannot play lossless encoded movies. 15 appears to be reasonable.\n",
    "\n",
    "    -pix_fmt yuv420p    Special command so that quicktime can play the movie.  Note, this requires\n",
    "                        an even number of pixels.  If you don't have this, you can use convert to \n",
    "                        crop a pixel off edge of the image.\n",
    "\n",
    "See [this page]https://trac.ffmpeg.org/wiki/x264EncodingGuide for more information.    "
   ]
  },
  {
   "cell_type": "code",
   "execution_count": null,
   "metadata": {
    "collapsed": true
   },
   "outputs": [],
   "source": []
  }
 ],
 "metadata": {
  "kernelspec": {
   "display_name": "Python 3",
   "language": "python",
   "name": "python3"
  },
  "language_info": {
   "codemirror_mode": {
    "name": "ipython",
    "version": 3
   },
   "file_extension": ".py",
   "mimetype": "text/x-python",
   "name": "python",
   "nbconvert_exporter": "python",
   "pygments_lexer": "ipython3",
   "version": "3.5.1"
  }
 },
 "nbformat": 4,
 "nbformat_minor": 0
}
