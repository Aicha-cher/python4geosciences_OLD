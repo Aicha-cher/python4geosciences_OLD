{
 "cells": [
  {
   "cell_type": "markdown",
   "metadata": {},
   "source": [
    "# Coding outside of Jupyter notebooks\n",
    "\n",
    "We have used Jupyter notebooks in this class as a useful tool for integrating text and interactive, usable code. However, most real life coding work would not use Jupyter notebooks but would instead be accomplished by typing the code in text files and then running them via a terminal window or in iPython. Many of you have done this before, perhaps analogously in Matlab by writing your code in a `.m` file and then running it in the Matlab GUI. Writing code in a separate file allows more heavy computations as well as allowing that code to be reused more easily that when it is written in a Jupyter notebook.\n",
    "\n",
    "Here, we will demonstrate typing Python code in a `.py` file and then running it in an iPython window."
   ]
  },
  {
   "cell_type": "code",
   "execution_count": 1,
   "metadata": {
    "collapsed": true
   },
   "outputs": [],
   "source": [
    "from __future__ import print_function\n",
    "import numpy as np\n",
    "import matplotlib.pyplot as plt\n",
    "%matplotlib inline"
   ]
  },
  {
   "cell_type": "code",
   "execution_count": 2,
   "metadata": {
    "collapsed": true
   },
   "outputs": [],
   "source": [
    "x = np.linspace(0, 10)\n",
    "y = x**2"
   ]
  },
  {
   "cell_type": "code",
   "execution_count": 3,
   "metadata": {
    "collapsed": false
   },
   "outputs": [
    {
     "data": {
      "text/plain": [
       "[<matplotlib.lines.Line2D at 0x10bc0a898>]"
      ]
     },
     "execution_count": 3,
     "metadata": {},
     "output_type": "execute_result"
    },
    {
     "data": {
      "image/png": "[encoded data removed]",
      "text/plain": [
       "<matplotlib.figure.Figure at 0x10b264eb8>"
      ]
     },
     "metadata": {},
     "output_type": "display_data"
    }
   ],
   "source": [
    "fig = plt.figure()\n",
    "ax = fig.add_subplot(111)\n",
    "ax.plot(x, y, 'k', lw=3)"
   ]
  },
  {
   "cell_type": "markdown",
   "metadata": {},
   "source": [
    "Now let's switch to a terminal window and a text file..."
   ]
  },
  {
   "cell_type": "markdown",
   "metadata": {},
   "source": [
    "# A. Open iPython\n",
    "\n",
    "Open a terminal window/command prompt and type\n",
    "\n",
    "> ipython\n",
    "\n",
    "Note that we will use this syntax to mean that it is something to be typed in your terminal window/command prompt (or it is part of an exercise). To open ipython with some niceties added so that you don't have to import them by hand each time you open the program (numpy and matplotlib in particular), open it with\n",
    "\n",
    "> ipython --pylab\n",
    "\n",
    "Once you have done this, you'll see a series of text lines indicating that you are now in the program ipython. You can now type code as if you were in a code window in a Jupyter notebook. "
   ]
  },
  {
   "cell_type": "markdown",
   "metadata": {},
   "source": [
    "---\n",
    "### *Exercise*\n",
    "\n",
    "> Copy in the code to define `x` and `y` from above, then make the figure. Notice how the figure appears as a separate window. Play with the figure window — you can change the size and properties of the plot using the GUI buttons, and you can zoom.\n",
    "\n",
    "---"
   ]
  },
  {
   "cell_type": "markdown",
   "metadata": {
    "collapsed": true
   },
   "source": [
    "# B. Text editor\n",
    "\n",
    "A typical coding set up is to have a terminal window with ipython running alongside a text window where you type your code. You can then go back and forth, trying things out in iPython, and keeping what works in the text window so that you finish with a working script, which can be run independently in the future. This is, of course, what you've been doing when you use Jupyter notebooks, except everything is combined into one place in that sort of setup. If you are familiar with Matlab, this is what you are used to when you have your Matlab window with your `*.m` text window alongside a \"terminal window\" where you can type things. (There is also a variable viewer included in Matlab.)\n",
    "\n",
    "A good text editor should be able to highlight syntax – that is, use color and font style to differentiate between special key words and types for a given programming language. This is what has been happening in our Jupyter notebooks, when strings are colored red, for example. The editors will also key off typical behaviors in the language to try to be helpful, such as when in a Jupyter notebook if you write an `if` statement with a colon at the end and push `enter`, the next line will be automatically indented so that you can just start typing. These behaviors can be adjusted by changing user settings.\n",
    "\n",
    "We like to use [TextMate](https://macromates.com/) for Mac, which costs money, and [Sublime Text](https://www.sublimetext.com/) which works on all operating systems and also costs money. For this class, we recommend using [Atom](https://atom.io/), which is free, works across operating systems, and integrates with GitHub since they wrote it."
   ]
  },
  {
   "cell_type": "markdown",
   "metadata": {},
   "source": [
    "---\n",
    "### *Exercise*\n",
    "\n",
    "> Copy and paste the code from above into a new text file in your text editor. Save it, then run the file in ipython with\n",
    "\n",
    "> run [filename]\n",
    "\n",
    "---"
   ]
  },
  {
   "cell_type": "markdown",
   "metadata": {},
   "source": [
    "# C. Run a script\n",
    "\n",
    "Will run anything that is just sitting there (not in a function) and whatever is in __name__ etc\n",
    "\n",
    "__name__\n",
    "\n",
    "Have them use an example script and run it in iPython (rob's code)."
   ]
  },
  {
   "cell_type": "markdown",
   "metadata": {},
   "source": [
    "---\n",
    "### *Exercise*\n",
    "\n",
    "> Run the example code in examples/BLAH. Which part of the code actually runs? Why?\n",
    "\n",
    "---"
   ]
  },
  {
   "cell_type": "markdown",
   "metadata": {},
   "source": [
    "# D. Importing your own code\n",
    "\n",
    "Importing your own code is just like importing numpy or some other package: same syntax. Same ability to query. \n",
    "\n",
    "reload also (Python2 vs Python3). Show example for reloading\n",
    "\n",
    "Have them write their own simple script with a function in it. Try running it. Then try importing it. Query it. Add a docstring. to the file. Query. Reload. Add a docstring to a function. Reload. Query. "
   ]
  },
  {
   "cell_type": "markdown",
   "metadata": {},
   "source": [
    "---\n",
    "### *Exercise*\n",
    "\n",
    "> Write your own simple script with a function in it — your function should take at least one input (maybe several numbers) and return something (maybe a number that is the result of some calculation). \n",
    "\n",
    "> Now, use your code in several ways. Run the code in ipython with\n",
    "\n",
    "> run [filename]\n",
    "\n",
    "> Make sure you have a __name__ definition for this. Now import the code and use it:\n",
    "\n",
    "> import [filename]\n",
    "\n",
    "> Add a docstring to the top of the file and reload your package, then query the code. Do you see the docstring? Add a docstring to the function in the file, reload, and query. Do you see the docstring?\n",
    "\n",
    "> You should have been able to run your code both ways: running it directly, and importing it, then using a function that is within the code.\n",
    "\n",
    "---"
   ]
  },
  {
   "cell_type": "markdown",
   "metadata": {},
   "source": [
    "# E. Unit testing\n",
    "\n",
    "explain idea\n",
    "\n",
    "explain how to do (py.test or nosetests)\n",
    "\n",
    "have them add a unit test to their script and then use it to run a test."
   ]
  },
  {
   "cell_type": "markdown",
   "metadata": {},
   "source": [
    "---\n",
    "### *Exercise*\n",
    "\n",
    "> Start another file called `test_[something].py`. In here, write a test function, `test_[somethingelse]`, that checks the accuracy of your original function in some way. Then run it with `py.test` and `nosetest`.\n",
    "\n",
    "---"
   ]
  },
  {
   "cell_type": "markdown",
   "metadata": {},
   "source": [
    "# F. pep 8\n",
    "\n",
    "Number of characters\n",
    "spaces\n",
    "good practices"
   ]
  },
  {
   "cell_type": "markdown",
   "metadata": {},
   "source": [
    "---\n",
    "### *Exercise*\n",
    "\n",
    "> Go back and clean up your code you've been writing so that it follows PEP 8 standards.\n",
    "\n",
    "---"
   ]
  },
  {
   "cell_type": "markdown",
   "metadata": {},
   "source": [
    "# G. Debugging\n",
    "\n",
    "You can use the package `pdb` while running your code to pause it intermittently and poke around to check variable values and understand what is going on. "
   ]
  },
  {
   "cell_type": "markdown",
   "metadata": {},
   "source": [
    "# H. Make a package\n",
    "\n",
    "Link to other info about this and setup.py"
   ]
  },
  {
   "cell_type": "code",
   "execution_count": null,
   "metadata": {
    "collapsed": true
   },
   "outputs": [],
   "source": []
  }
 ],
 "metadata": {
  "kernelspec": {
   "display_name": "Python 3",
   "language": "python",
   "name": "python3"
  },
  "language_info": {
   "codemirror_mode": {
    "name": "ipython",
    "version": 3
   },
   "file_extension": ".py",
   "mimetype": "text/x-python",
   "name": "python",
   "nbconvert_exporter": "python",
   "pygments_lexer": "ipython3",
   "version": "3.5.1"
  }
 },
 "nbformat": 4,
 "nbformat_minor": 0
}
