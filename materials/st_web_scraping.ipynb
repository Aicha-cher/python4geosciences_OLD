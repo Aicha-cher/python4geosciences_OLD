{
 "cells": [
  {
   "cell_type": "markdown",
   "metadata": {},
   "source": [
    "# Special topics: Web scraping\n",
    "\n",
    "Web scraping is the process of capturing information from websites. Sometimes this is a simple as copying-and-pasting or downloading a file from the internet, which we have done many times. When it comes to coding, though, we are thinking about searching through websites for series of data sets we want to be able to capture in some sort of process.\n",
    "\n",
    "[Here](https://blog.hartleybrody.com/web-scraping/) is a nice resource for this that we will use for parts of this topic."
   ]
  },
  {
   "cell_type": "code",
   "execution_count": 71,
   "metadata": {
    "collapsed": false
   },
   "outputs": [],
   "source": [
    "from bs4 import BeautifulSoup\n",
    "import requests"
   ]
  },
  {
   "cell_type": "markdown",
   "metadata": {},
   "source": [
    "## 1. Data\n",
    "\n",
    "### The data for today\n",
    "\n",
    "Here is the example we'll be using for this topic: satellite data. A seminar speaker in Oceanography in fall 2015, Dr. Chuanmin Hu, shared with this department about some of his algorithms for satellite data processing. Satellite data gives an incredible spatial scale of information – literally the whole earth! – but require quite a bit of clever processing to get out the data that researchers actually want to use. This becomes increasingly true as we collectively build more complex algorithms to root out new perspectives, and to try to remove visual obstacles like clouds. Dr. Hu, in particular, has found a way to remove sun glint from some satellite data, which can be very useful if you care about a latitude where this tends to be a problem.\n",
    "\n",
    "Dr. Hu's data is [hosted online](http://optics.marine.usf.edu/); we'll be using it today. Our goal is to select a data type and to then automate the process of downloading a year's worth of image files of that data."
   ]
  },
  {
   "cell_type": "markdown",
   "metadata": {},
   "source": [
    "### Fetching data in general\n",
    "\n",
    "First, some general notes from our resource listed above:\n",
    "\n",
    "> So the first thing you’re going to need to do is fetch the data. You’ll need to start by finding your “endpoints” — the URL or URLs that return the data you need.\n",
    "\n",
    "> If you know you need your information organized in a certain way — or only need a specific subset of it — you can browse through the site using their navigation. Pay attention to the URLs and how they change as you click between sections and drill down into sub-sections.\n",
    "\n",
    "> The other option for getting started is to go straight to the site’s search functionality. Try typing in a few different terms and again, pay attention to the URL and how it changes depending on what you search for. You’ll probably see a GET parameter like q= that always changes based on you search term.\n",
    "\n",
    "> Try removing other unnecessary GET parameters from the URL, until you’re left with only the ones you need to load your data. Make sure that there’s always a beginning ? to start the query string and a & between each key/value pair."
   ]
  },
  {
   "cell_type": "markdown",
   "metadata": {},
   "source": [
    "### Fetching our data in particular\n",
    "\n",
    "Let's click around on the website. First we should navigate to the Satellite Data Products. We'll try North America > Mississippi River. Notice the web address now:\n",
    "\n",
    "`http://optics.marine.usf.edu/cgi-bin/optics_data?roi=MRIVER&current=1`\n",
    "\n",
    "but also note that it doesn't change when we click on other time tabs or dates."
   ]
  },
  {
   "cell_type": "markdown",
   "metadata": {},
   "source": [
    "---\n",
    "### *Exercise*\n",
    "\n",
    "> Check out April 5, 2016 — there are a lot of neat, unobstructed datasets over several times for different satellite passes for this day. Explore the data. What happens when you click on an image?\n",
    "\n",
    "---"
   ]
  },
  {
   "cell_type": "markdown",
   "metadata": {},
   "source": [
    "### Data locations\n",
    "\n",
    "So we've seen now that any particular satellite data image has its own unique address, for example:\n",
    "\n",
    "`http://optics.marine.usf.edu/subscription/modis/MRIVER/2016/daily/096/A20160961915.QKM.MRIVER.PASS.L3D_RRC.RGB.png`\n",
    "\n",
    "and another to compare with:\n",
    "\n",
    "`http://optics.marine.usf.edu/subscription/modis/MRIVER/2016/daily/096/T20160961605.QKM.MRIVER.PASS.L3D.ERGB.png`\n",
    "\n",
    "We want to get all of the files like this, but we don't want to file on each and save them by hand. In order to automate downloading this data, we need to search out the unique addresses for each of the times it is available, loop over those addresses, and save the data — pretty simple! The difficult part is deconstructing the webpage in order to automate this process.\n",
    "\n",
    "Let's take apart this image web address. We see that the first part, `http://optics.marine.usf.edu/subscription/`, is consistent between the two and looks like just a base address. These two images are from different satellites (MODIS-A and MODIS-T, respectively), but they both still have `modis` next in the address. We can guess that `MRIVER` is for Mississippi river, so it is selecting out this particular geographic region. Then we see the year, `2016`, and start getting into what is probably details about this particular file."
   ]
  },
  {
   "cell_type": "markdown",
   "metadata": {},
   "source": [
    "---\n",
    "### *Exercise*\n",
    "\n",
    "> To navigate through and understand the file system, go to `http://optics.marine.usf.edu/subscription/modis/MRIVER` and click around the links. What does each level of links refer to? How do you navigate to a single image file? What are all the different image files? Which one do you actually want, from the large list of image files you find?\n",
    "\n",
    "> Out of this exercise, you should come away with a sample link of a particular kind of data you want to automate the selection of, and have an understanding of all the pieces of the web address, such that you know which parts of the address are consistent between different image addresses and what is distinct and would need to be looped over to capture all of these files.\n",
    "\n",
    "---"
   ]
  },
  {
   "cell_type": "markdown",
   "metadata": {},
   "source": [
    "## 2. The webpage\n",
    "\n",
    "Now that we better understand the makeup of the web addresses we'll be using, we need to look at how to take apart the web site in order to dynamically access all of these files. That means, using the bit of knowledge we just gained, we want to be able to mine the necessary data file locations from the website itself with as few things hard-coded in as possible. (The more things we hard-code in, the more likely it is that a minor change on the website will break our code.)\n",
    "\n",
    "We'll be using [requests](http://docs.python-requests.org/en/latest/index.html) and [Beautiful Soup](https://www.crummy.com/software/BeautifulSoup/) for this analysis. (For people who have done some of this before, note that Requests is now used preferentially over urllib and urllib2. More [here](http://stackoverflow.com/questions/2018026/what-are-the-differences-between-the-urllib-urllib2-and-requests-module).)"
   ]
  },
  {
   "cell_type": "markdown",
   "metadata": {},
   "source": [
    "### Accessing the website\n",
    "\n",
    "We use Requests to access the website, starting with a particular year, 2016. We could instead not specify the year and instead read in all of the years' worth of files, but to limit the scope of our exercise, we'll just use 2016. Note that we have already investigated and seen that \"daily\" is the only subsequent option on the 2016 page, so we add that in here too."
   ]
  },
  {
   "cell_type": "code",
   "execution_count": 72,
   "metadata": {
    "collapsed": false
   },
   "outputs": [
    {
     "data": {
      "text/plain": [
       "'<!DOCTYPE HTML PUBLIC \"-//W3C//DTD HTML 3.2 Final//EN\">\\n<html>\\n <head>\\n  <title>Index of /subscription/modis/MRIVER/2016/daily</title>\\n </head>\\n <body>\\n<h1>Index of /subscription/modis/MRIVER/2016/daily</h1>\\n<table><tr><th><img src=\"/icons/blank.gif\" alt=\"[ICO]\"></th><th><a href=\"?C=N;O=D\">Name</a></th><th><a href=\"?C=M;O=A\">Last modified</a></th><th><a href=\"?C=S;O=A\">Size</a></th><th><a href=\"?C=D;O=A\">Description</a></th></tr><tr><th colspan=\"5\"><hr></th></tr>\\n<tr><td valign=\"top\"><img src=\"/icons/back.gif\" alt=\"[DIR]\"></td><td><a href=\"/subscription/modis/MRIVER/2016/\">Parent Directory</a></td><td>&nbsp;</td><td align=\"right\">  - </td><td>&nbsp;</td></tr>\\n<tr><td valign=\"top\"><img src=\"/icons/folder.gif\" alt=\"[DIR]\"></td><td><a href=\"001/\">001/</a></td><td align=\"right\">22-Jan-2016 18:18  </td><td align=\"right\">  - </td><td>&nbsp;</td></tr>\\n<tr><td valign=\"top\"><img src=\"/icons/folder.gif\" alt=\"[DIR]\"></td><td><a href=\"002/\">002/</a></td><td align=\"right\">22-Jan-2016 19:49  </td><td align=\"right\">  - </td><td>&nbsp;</td></tr>\\n<tr><td valign=\"top\"><img src=\"/icons/folder.gif\" alt=\"[DIR]\"></td><td><a href=\"003/\">003/</a></td><td align=\"right\">22-Jan-2016 21:08  </td><td align=\"right\">  - </td><td>&nbsp;</td></tr>\\n<tr><td valign=\"top\"><img src=\"/icons/folder.gif\" alt=\"[DIR]\"></td><td><a href=\"004/\">004/</a></td><td align=\"right\">22-Jan-2016 22:33  </td><td align=\"right\">  - </td><td>&nbsp;</td></tr>\\n<tr><td valign=\"top\"><img src=\"/icons/folder.gif\" alt=\"[DIR]\"></td><td><a href=\"005/\">005/</a></td><td align=\"right\">22-Jan-2016 23:38  </td><td align=\"right\">  - </td><td>&nbsp;</td></tr>\\n<tr><td valign=\"top\"><img src=\"/icons/folder.gif\" alt=\"[DIR]\"></td><td><a href=\"006/\">006/</a></td><td align=\"right\">23-Jan-2016 01:20  </td><td align=\"right\">  - </td><td>&nbsp;</td></tr>\\n<tr><td valign=\"top\"><img src=\"/icons/folder.gif\" alt=\"[DIR]\"></td><td><a href=\"007/\">007/</a></td><td align=\"right\">23-Jan-2016 02:54  </td><td align=\"right\">  - </td><td>&nbsp;</td></tr>\\n<tr><td valign=\"top\"><img src=\"/icons/folder.gif\" alt=\"[DIR]\"></td><td><a href=\"008/\">008/</a></td><td align=\"right\">23-Jan-2016 04:39  </td><td align=\"right\">  - </td><td>&nbsp;</td></tr>\\n<tr><td valign=\"top\"><img src=\"/icons/folder.gif\" alt=\"[DIR]\"></td><td><a href=\"009/\">009/</a></td><td align=\"right\">23-Jan-2016 06:19  </td><td align=\"right\">  - </td><td>&nbsp;</td></tr>\\n<tr><td valign=\"top\"><img src=\"/icons/folder.gif\" alt=\"[DIR]\"></td><td><a href=\"010/\">010/</a></td><td align=\"right\">25-Jan-2016 02:03  </td><td align=\"right\">  - </td><td>&nbsp;</td></tr>\\n<tr><td valign=\"top\"><img src=\"/icons/folder.gif\" alt=\"[DIR]\"></td><td><a href=\"011/\">011/</a></td><td align=\"right\">25-Jan-2016 02:46  </td><td align=\"right\">  - </td><td>&nbsp;</td></tr>\\n<tr><td valign=\"top\"><img src=\"/icons/folder.gif\" alt=\"[DIR]\"></td><td><a href=\"012/\">012/</a></td><td align=\"right\">25-Jan-2016 03:25  </td><td align=\"right\">  - </td><td>&nbsp;</td></tr>\\n<tr><td valign=\"top\"><img src=\"/icons/folder.gif\" alt=\"[DIR]\"></td><td><a href=\"013/\">013/</a></td><td align=\"right\">25-Jan-2016 04:16  </td><td align=\"right\">  - </td><td>&nbsp;</td></tr>\\n<tr><td valign=\"top\"><img src=\"/icons/folder.gif\" alt=\"[DIR]\"></td><td><a href=\"014/\">014/</a></td><td align=\"right\">25-Jan-2016 04:45  </td><td align=\"right\">  - </td><td>&nbsp;</td></tr>\\n<tr><td valign=\"top\"><img src=\"/icons/folder.gif\" alt=\"[DIR]\"></td><td><a href=\"015/\">015/</a></td><td align=\"right\">25-Jan-2016 05:34  </td><td align=\"right\">  - </td><td>&nbsp;</td></tr>\\n<tr><td valign=\"top\"><img src=\"/icons/folder.gif\" alt=\"[DIR]\"></td><td><a href=\"016/\">016/</a></td><td align=\"right\">25-Jan-2016 06:07  </td><td align=\"right\">  - </td><td>&nbsp;</td></tr>\\n<tr><td valign=\"top\"><img src=\"/icons/folder.gif\" alt=\"[DIR]\"></td><td><a href=\"017/\">017/</a></td><td align=\"right\">25-Jan-2016 06:58  </td><td align=\"right\">  - </td><td>&nbsp;</td></tr>\\n<tr><td valign=\"top\"><img src=\"/icons/folder.gif\" alt=\"[DIR]\"></td><td><a href=\"018/\">018/</a></td><td align=\"right\">25-Jan-2016 07:41  </td><td align=\"right\">  - </td><td>&nbsp;</td></tr>\\n<tr><td valign=\"top\"><img src=\"/icons/folder.gif\" alt=\"[DIR]\"></td><td><a href=\"019/\">019/</a></td><td align=\"right\">25-Jan-2016 08:17  </td><td align=\"right\">  - </td><td>&nbsp;</td></tr>\\n<tr><td valign=\"top\"><img src=\"/icons/folder.gif\" alt=\"[DIR]\"></td><td><a href=\"020/\">020/</a></td><td align=\"right\">24-Jan-2016 04:00  </td><td align=\"right\">  - </td><td>&nbsp;</td></tr>\\n<tr><td valign=\"top\"><img src=\"/icons/folder.gif\" alt=\"[DIR]\"></td><td><a href=\"021/\">021/</a></td><td align=\"right\">21-Jan-2016 20:41  </td><td align=\"right\">  - </td><td>&nbsp;</td></tr>\\n<tr><td valign=\"top\"><img src=\"/icons/folder.gif\" alt=\"[DIR]\"></td><td><a href=\"022/\">022/</a></td><td align=\"right\">23-Jan-2016 07:54  </td><td align=\"right\">  - </td><td>&nbsp;</td></tr>\\n<tr><td valign=\"top\"><img src=\"/icons/folder.gif\" alt=\"[DIR]\"></td><td><a href=\"023/\">023/</a></td><td align=\"right\">23-Jan-2016 21:15  </td><td align=\"right\">  - </td><td>&nbsp;</td></tr>\\n<tr><td valign=\"top\"><img src=\"/icons/folder.gif\" alt=\"[DIR]\"></td><td><a href=\"024/\">024/</a></td><td align=\"right\">25-Jan-2016 08:50  </td><td align=\"right\">  - </td><td>&nbsp;</td></tr>\\n<tr><td valign=\"top\"><img src=\"/icons/folder.gif\" alt=\"[DIR]\"></td><td><a href=\"025/\">025/</a></td><td align=\"right\">25-Jan-2016 21:35  </td><td align=\"right\">  - </td><td>&nbsp;</td></tr>\\n<tr><td valign=\"top\"><img src=\"/icons/folder.gif\" alt=\"[DIR]\"></td><td><a href=\"026/\">026/</a></td><td align=\"right\">26-Jan-2016 21:10  </td><td align=\"right\">  - </td><td>&nbsp;</td></tr>\\n<tr><td valign=\"top\"><img src=\"/icons/folder.gif\" alt=\"[DIR]\"></td><td><a href=\"027/\">027/</a></td><td align=\"right\">27-Jan-2016 21:30  </td><td align=\"right\">  - </td><td>&nbsp;</td></tr>\\n<tr><td valign=\"top\"><img src=\"/icons/folder.gif\" alt=\"[DIR]\"></td><td><a href=\"028/\">028/</a></td><td align=\"right\">28-Jan-2016 20:02  </td><td align=\"right\">  - </td><td>&nbsp;</td></tr>\\n<tr><td valign=\"top\"><img src=\"/icons/folder.gif\" alt=\"[DIR]\"></td><td><a href=\"029/\">029/</a></td><td align=\"right\">29-Jan-2016 19:37  </td><td align=\"right\">  - </td><td>&nbsp;</td></tr>\\n<tr><td valign=\"top\"><img src=\"/icons/folder.gif\" alt=\"[DIR]\"></td><td><a href=\"030/\">030/</a></td><td align=\"right\">30-Jan-2016 21:00  </td><td align=\"right\">  - </td><td>&nbsp;</td></tr>\\n<tr><td valign=\"top\"><img src=\"/icons/folder.gif\" alt=\"[DIR]\"></td><td><a href=\"031/\">031/</a></td><td align=\"right\">31-Jan-2016 20:07  </td><td align=\"right\">  - </td><td>&nbsp;</td></tr>\\n<tr><td valign=\"top\"><img src=\"/icons/folder.gif\" alt=\"[DIR]\"></td><td><a href=\"032/\">032/</a></td><td align=\"right\">02-Feb-2016 12:04  </td><td align=\"right\">  - </td><td>&nbsp;</td></tr>\\n<tr><td valign=\"top\"><img src=\"/icons/folder.gif\" alt=\"[DIR]\"></td><td><a href=\"033/\">033/</a></td><td align=\"right\">02-Feb-2016 21:05  </td><td align=\"right\">  - </td><td>&nbsp;</td></tr>\\n<tr><td valign=\"top\"><img src=\"/icons/folder.gif\" alt=\"[DIR]\"></td><td><a href=\"034/\">034/</a></td><td align=\"right\">03-Feb-2016 20:10  </td><td align=\"right\">  - </td><td>&nbsp;</td></tr>\\n<tr><td valign=\"top\"><img src=\"/icons/folder.gif\" alt=\"[DIR]\"></td><td><a href=\"035/\">035/</a></td><td align=\"right\">04-Feb-2016 19:15  </td><td align=\"right\">  - </td><td>&nbsp;</td></tr>\\n<tr><td valign=\"top\"><img src=\"/icons/folder.gif\" alt=\"[DIR]\"></td><td><a href=\"036/\">036/</a></td><td align=\"right\">05-Feb-2016 20:33  </td><td align=\"right\">  - </td><td>&nbsp;</td></tr>\\n<tr><td valign=\"top\"><img src=\"/icons/folder.gif\" alt=\"[DIR]\"></td><td><a href=\"037/\">037/</a></td><td align=\"right\">06-Feb-2016 20:08  </td><td align=\"right\">  - </td><td>&nbsp;</td></tr>\\n<tr><td valign=\"top\"><img src=\"/icons/folder.gif\" alt=\"[DIR]\"></td><td><a href=\"038/\">038/</a></td><td align=\"right\">07-Feb-2016 21:07  </td><td align=\"right\">  - </td><td>&nbsp;</td></tr>\\n<tr><td valign=\"top\"><img src=\"/icons/folder.gif\" alt=\"[DIR]\"></td><td><a href=\"039/\">039/</a></td><td align=\"right\">08-Feb-2016 19:41  </td><td align=\"right\">  - </td><td>&nbsp;</td></tr>\\n<tr><td valign=\"top\"><img src=\"/icons/folder.gif\" alt=\"[DIR]\"></td><td><a href=\"040/\">040/</a></td><td align=\"right\">09-Feb-2016 21:05  </td><td align=\"right\">  - </td><td>&nbsp;</td></tr>\\n<tr><td valign=\"top\"><img src=\"/icons/folder.gif\" alt=\"[DIR]\"></td><td><a href=\"041/\">041/</a></td><td align=\"right\">10-Feb-2016 20:01  </td><td align=\"right\">  - </td><td>&nbsp;</td></tr>\\n<tr><td valign=\"top\"><img src=\"/icons/folder.gif\" alt=\"[DIR]\"></td><td><a href=\"042/\">042/</a></td><td align=\"right\">11-Feb-2016 21:13  </td><td align=\"right\">  - </td><td>&nbsp;</td></tr>\\n<tr><td valign=\"top\"><img src=\"/icons/folder.gif\" alt=\"[DIR]\"></td><td><a href=\"043/\">043/</a></td><td align=\"right\">12-Feb-2016 20:03  </td><td align=\"right\">  - </td><td>&nbsp;</td></tr>\\n<tr><td valign=\"top\"><img src=\"/icons/folder.gif\" alt=\"[DIR]\"></td><td><a href=\"044/\">044/</a></td><td align=\"right\">13-Feb-2016 19:40  </td><td align=\"right\">  - </td><td>&nbsp;</td></tr>\\n<tr><td valign=\"top\"><img src=\"/icons/folder.gif\" alt=\"[DIR]\"></td><td><a href=\"045/\">045/</a></td><td align=\"right\">14-Feb-2016 21:05  </td><td align=\"right\">  - </td><td>&nbsp;</td></tr>\\n<tr><td valign=\"top\"><img src=\"/icons/folder.gif\" alt=\"[DIR]\"></td><td><a href=\"046/\">046/</a></td><td align=\"right\">15-Feb-2016 20:37  </td><td align=\"right\">  - </td><td>&nbsp;</td></tr>\\n<tr><td valign=\"top\"><img src=\"/icons/folder.gif\" alt=\"[DIR]\"></td><td><a href=\"047/\">047/</a></td><td align=\"right\">16-Feb-2016 19:59  </td><td align=\"right\">  - </td><td>&nbsp;</td></tr>\\n<tr><td valign=\"top\"><img src=\"/icons/folder.gif\" alt=\"[DIR]\"></td><td><a href=\"048/\">048/</a></td><td align=\"right\">17-Feb-2016 20:42  </td><td align=\"right\">  - </td><td>&nbsp;</td></tr>\\n<tr><td valign=\"top\"><img src=\"/icons/folder.gif\" alt=\"[DIR]\"></td><td><a href=\"049/\">049/</a></td><td align=\"right\">18-Feb-2016 16:59  </td><td align=\"right\">  - </td><td>&nbsp;</td></tr>\\n<tr><td valign=\"top\"><img src=\"/icons/folder.gif\" alt=\"[DIR]\"></td><td><a href=\"050/\">050/</a></td><td align=\"right\">19-Feb-2016 16:49  </td><td align=\"right\">  - </td><td>&nbsp;</td></tr>\\n<tr><td valign=\"top\"><img src=\"/icons/folder.gif\" alt=\"[DIR]\"></td><td><a href=\"051/\">051/</a></td><td align=\"right\">20-Feb-2016 17:34  </td><td align=\"right\">  - </td><td>&nbsp;</td></tr>\\n<tr><td valign=\"top\"><img src=\"/icons/folder.gif\" alt=\"[DIR]\"></td><td><a href=\"052/\">052/</a></td><td align=\"right\">21-Feb-2016 16:01  </td><td align=\"right\">  - </td><td>&nbsp;</td></tr>\\n<tr><td valign=\"top\"><img src=\"/icons/folder.gif\" alt=\"[DIR]\"></td><td><a href=\"053/\">053/</a></td><td align=\"right\">22-Feb-2016 17:03  </td><td align=\"right\">  - </td><td>&nbsp;</td></tr>\\n<tr><td valign=\"top\"><img src=\"/icons/folder.gif\" alt=\"[DIR]\"></td><td><a href=\"054/\">054/</a></td><td align=\"right\">23-Feb-2016 16:16  </td><td align=\"right\">  - </td><td>&nbsp;</td></tr>\\n<tr><td valign=\"top\"><img src=\"/icons/folder.gif\" alt=\"[DIR]\"></td><td><a href=\"055/\">055/</a></td><td align=\"right\">24-Feb-2016 17:11  </td><td align=\"right\">  - </td><td>&nbsp;</td></tr>\\n<tr><td valign=\"top\"><img src=\"/icons/folder.gif\" alt=\"[DIR]\"></td><td><a href=\"056/\">056/</a></td><td align=\"right\">25-Feb-2016 20:41  </td><td align=\"right\">  - </td><td>&nbsp;</td></tr>\\n<tr><td valign=\"top\"><img src=\"/icons/folder.gif\" alt=\"[DIR]\"></td><td><a href=\"057/\">057/</a></td><td align=\"right\">26-Feb-2016 19:42  </td><td align=\"right\">  - </td><td>&nbsp;</td></tr>\\n<tr><td valign=\"top\"><img src=\"/icons/folder.gif\" alt=\"[DIR]\"></td><td><a href=\"058/\">058/</a></td><td align=\"right\">27-Feb-2016 21:14  </td><td align=\"right\">  - </td><td>&nbsp;</td></tr>\\n<tr><td valign=\"top\"><img src=\"/icons/folder.gif\" alt=\"[DIR]\"></td><td><a href=\"059/\">059/</a></td><td align=\"right\">28-Feb-2016 20:02  </td><td align=\"right\">  - </td><td>&nbsp;</td></tr>\\n<tr><td valign=\"top\"><img src=\"/icons/folder.gif\" alt=\"[DIR]\"></td><td><a href=\"060/\">060/</a></td><td align=\"right\">29-Feb-2016 19:24  </td><td align=\"right\">  - </td><td>&nbsp;</td></tr>\\n<tr><td valign=\"top\"><img src=\"/icons/folder.gif\" alt=\"[DIR]\"></td><td><a href=\"061/\">061/</a></td><td align=\"right\">01-Mar-2016 20:03  </td><td align=\"right\">  - </td><td>&nbsp;</td></tr>\\n<tr><td valign=\"top\"><img src=\"/icons/folder.gif\" alt=\"[DIR]\"></td><td><a href=\"062/\">062/</a></td><td align=\"right\">02-Mar-2016 22:08  </td><td align=\"right\">  - </td><td>&nbsp;</td></tr>\\n<tr><td valign=\"top\"><img src=\"/icons/folder.gif\" alt=\"[DIR]\"></td><td><a href=\"063/\">063/</a></td><td align=\"right\">03-Mar-2016 20:04  </td><td align=\"right\">  - </td><td>&nbsp;</td></tr>\\n<tr><td valign=\"top\"><img src=\"/icons/folder.gif\" alt=\"[DIR]\"></td><td><a href=\"064/\">064/</a></td><td align=\"right\">04-Mar-2016 20:12  </td><td align=\"right\">  - </td><td>&nbsp;</td></tr>\\n<tr><td valign=\"top\"><img src=\"/icons/folder.gif\" alt=\"[DIR]\"></td><td><a href=\"065/\">065/</a></td><td align=\"right\">05-Mar-2016 21:17  </td><td align=\"right\">  - </td><td>&nbsp;</td></tr>\\n<tr><td valign=\"top\"><img src=\"/icons/folder.gif\" alt=\"[DIR]\"></td><td><a href=\"066/\">066/</a></td><td align=\"right\">06-Mar-2016 19:31  </td><td align=\"right\">  - </td><td>&nbsp;</td></tr>\\n<tr><td valign=\"top\"><img src=\"/icons/folder.gif\" alt=\"[DIR]\"></td><td><a href=\"067/\">067/</a></td><td align=\"right\">07-Mar-2016 21:13  </td><td align=\"right\">  - </td><td>&nbsp;</td></tr>\\n<tr><td valign=\"top\"><img src=\"/icons/folder.gif\" alt=\"[DIR]\"></td><td><a href=\"068/\">068/</a></td><td align=\"right\">08-Mar-2016 20:04  </td><td align=\"right\">  - </td><td>&nbsp;</td></tr>\\n<tr><td valign=\"top\"><img src=\"/icons/folder.gif\" alt=\"[DIR]\"></td><td><a href=\"069/\">069/</a></td><td align=\"right\">09-Mar-2016 19:22  </td><td align=\"right\">  - </td><td>&nbsp;</td></tr>\\n<tr><td valign=\"top\"><img src=\"/icons/folder.gif\" alt=\"[DIR]\"></td><td><a href=\"070/\">070/</a></td><td align=\"right\">14-Mar-2016 02:07  </td><td align=\"right\">  - </td><td>&nbsp;</td></tr>\\n<tr><td valign=\"top\"><img src=\"/icons/folder.gif\" alt=\"[DIR]\"></td><td><a href=\"071/\">071/</a></td><td align=\"right\">11-Mar-2016 21:46  </td><td align=\"right\">  - </td><td>&nbsp;</td></tr>\\n<tr><td valign=\"top\"><img src=\"/icons/folder.gif\" alt=\"[DIR]\"></td><td><a href=\"072/\">072/</a></td><td align=\"right\">12-Mar-2016 20:20  </td><td align=\"right\">  - </td><td>&nbsp;</td></tr>\\n<tr><td valign=\"top\"><img src=\"/icons/folder.gif\" alt=\"[DIR]\"></td><td><a href=\"073/\">073/</a></td><td align=\"right\">13-Mar-2016 22:17  </td><td align=\"right\">  - </td><td>&nbsp;</td></tr>\\n<tr><td valign=\"top\"><img src=\"/icons/folder.gif\" alt=\"[DIR]\"></td><td><a href=\"074/\">074/</a></td><td align=\"right\">14-Mar-2016 21:12  </td><td align=\"right\">  - </td><td>&nbsp;</td></tr>\\n<tr><td valign=\"top\"><img src=\"/icons/folder.gif\" alt=\"[DIR]\"></td><td><a href=\"075/\">075/</a></td><td align=\"right\">15-Mar-2016 22:03  </td><td align=\"right\">  - </td><td>&nbsp;</td></tr>\\n<tr><td valign=\"top\"><img src=\"/icons/folder.gif\" alt=\"[DIR]\"></td><td><a href=\"076/\">076/</a></td><td align=\"right\">16-Mar-2016 21:18  </td><td align=\"right\">  - </td><td>&nbsp;</td></tr>\\n<tr><td valign=\"top\"><img src=\"/icons/folder.gif\" alt=\"[DIR]\"></td><td><a href=\"077/\">077/</a></td><td align=\"right\">17-Mar-2016 20:37  </td><td align=\"right\">  - </td><td>&nbsp;</td></tr>\\n<tr><td valign=\"top\"><img src=\"/icons/folder.gif\" alt=\"[DIR]\"></td><td><a href=\"078/\">078/</a></td><td align=\"right\">18-Mar-2016 22:17  </td><td align=\"right\">  - </td><td>&nbsp;</td></tr>\\n<tr><td valign=\"top\"><img src=\"/icons/folder.gif\" alt=\"[DIR]\"></td><td><a href=\"079/\">079/</a></td><td align=\"right\">19-Mar-2016 21:09  </td><td align=\"right\">  - </td><td>&nbsp;</td></tr>\\n<tr><td valign=\"top\"><img src=\"/icons/folder.gif\" alt=\"[DIR]\"></td><td><a href=\"080/\">080/</a></td><td align=\"right\">20-Mar-2016 22:13  </td><td align=\"right\">  - </td><td>&nbsp;</td></tr>\\n<tr><td valign=\"top\"><img src=\"/icons/folder.gif\" alt=\"[DIR]\"></td><td><a href=\"081/\">081/</a></td><td align=\"right\">21-Mar-2016 21:10  </td><td align=\"right\">  - </td><td>&nbsp;</td></tr>\\n<tr><td valign=\"top\"><img src=\"/icons/folder.gif\" alt=\"[DIR]\"></td><td><a href=\"082/\">082/</a></td><td align=\"right\">22-Mar-2016 20:09  </td><td align=\"right\">  - </td><td>&nbsp;</td></tr>\\n<tr><td valign=\"top\"><img src=\"/icons/folder.gif\" alt=\"[DIR]\"></td><td><a href=\"083/\">083/</a></td><td align=\"right\">23-Mar-2016 21:07  </td><td align=\"right\">  - </td><td>&nbsp;</td></tr>\\n<tr><td valign=\"top\"><img src=\"/icons/folder.gif\" alt=\"[DIR]\"></td><td><a href=\"084/\">084/</a></td><td align=\"right\">24-Mar-2016 20:31  </td><td align=\"right\">  - </td><td>&nbsp;</td></tr>\\n<tr><td valign=\"top\"><img src=\"/icons/folder.gif\" alt=\"[DIR]\"></td><td><a href=\"085/\">085/</a></td><td align=\"right\">25-Mar-2016 21:05  </td><td align=\"right\">  - </td><td>&nbsp;</td></tr>\\n<tr><td valign=\"top\"><img src=\"/icons/folder.gif\" alt=\"[DIR]\"></td><td><a href=\"086/\">086/</a></td><td align=\"right\">26-Mar-2016 20:45  </td><td align=\"right\">  - </td><td>&nbsp;</td></tr>\\n<tr><td valign=\"top\"><img src=\"/icons/folder.gif\" alt=\"[DIR]\"></td><td><a href=\"087/\">087/</a></td><td align=\"right\">27-Mar-2016 21:40  </td><td align=\"right\">  - </td><td>&nbsp;</td></tr>\\n<tr><td valign=\"top\"><img src=\"/icons/folder.gif\" alt=\"[DIR]\"></td><td><a href=\"088/\">088/</a></td><td align=\"right\">28-Mar-2016 20:36  </td><td align=\"right\">  - </td><td>&nbsp;</td></tr>\\n<tr><td valign=\"top\"><img src=\"/icons/folder.gif\" alt=\"[DIR]\"></td><td><a href=\"089/\">089/</a></td><td align=\"right\">29-Mar-2016 21:19  </td><td align=\"right\">  - </td><td>&nbsp;</td></tr>\\n<tr><td valign=\"top\"><img src=\"/icons/folder.gif\" alt=\"[DIR]\"></td><td><a href=\"090/\">090/</a></td><td align=\"right\">30-Mar-2016 22:07  </td><td align=\"right\">  - </td><td>&nbsp;</td></tr>\\n<tr><td valign=\"top\"><img src=\"/icons/folder.gif\" alt=\"[DIR]\"></td><td><a href=\"091/\">091/</a></td><td align=\"right\">31-Mar-2016 21:34  </td><td align=\"right\">  - </td><td>&nbsp;</td></tr>\\n<tr><td valign=\"top\"><img src=\"/icons/folder.gif\" alt=\"[DIR]\"></td><td><a href=\"092/\">092/</a></td><td align=\"right\">01-Apr-2016 20:11  </td><td align=\"right\">  - </td><td>&nbsp;</td></tr>\\n<tr><td valign=\"top\"><img src=\"/icons/folder.gif\" alt=\"[DIR]\"></td><td><a href=\"093/\">093/</a></td><td align=\"right\">02-Apr-2016 21:01  </td><td align=\"right\">  - </td><td>&nbsp;</td></tr>\\n<tr><td valign=\"top\"><img src=\"/icons/folder.gif\" alt=\"[DIR]\"></td><td><a href=\"094/\">094/</a></td><td align=\"right\">03-Apr-2016 22:39  </td><td align=\"right\">  - </td><td>&nbsp;</td></tr>\\n<tr><td valign=\"top\"><img src=\"/icons/folder.gif\" alt=\"[DIR]\"></td><td><a href=\"095/\">095/</a></td><td align=\"right\">04-Apr-2016 21:38  </td><td align=\"right\">  - </td><td>&nbsp;</td></tr>\\n<tr><td valign=\"top\"><img src=\"/icons/folder.gif\" alt=\"[DIR]\"></td><td><a href=\"096/\">096/</a></td><td align=\"right\">05-Apr-2016 21:14  </td><td align=\"right\">  - </td><td>&nbsp;</td></tr>\\n<tr><td valign=\"top\"><img src=\"/icons/folder.gif\" alt=\"[DIR]\"></td><td><a href=\"097/\">097/</a></td><td align=\"right\">06-Apr-2016 20:16  </td><td align=\"right\">  - </td><td>&nbsp;</td></tr>\\n<tr><td valign=\"top\"><img src=\"/icons/folder.gif\" alt=\"[DIR]\"></td><td><a href=\"098/\">098/</a></td><td align=\"right\">07-Apr-2016 07:30  </td><td align=\"right\">  - </td><td>&nbsp;</td></tr>\\n<tr><th colspan=\"5\"><hr></th></tr>\\n</table>\\n</body></html>\\n'"
      ]
     },
     "execution_count": 72,
     "metadata": {},
     "output_type": "execute_result"
    }
   ],
   "source": [
    "url = 'http://optics.marine.usf.edu/subscription/modis/MRIVER/2016/daily/'\n",
    "# returns a \"response\" object from the website, then give the text content of that response\n",
    "restext = requests.get(url).text\n",
    "restext  # messy"
   ]
  },
  {
   "cell_type": "code",
   "execution_count": 73,
   "metadata": {
    "collapsed": false
   },
   "outputs": [
    {
     "data": {
      "text/plain": [
       "<!DOCTYPE HTML PUBLIC \"-//W3C//DTD HTML 3.2 Final//EN\">\n",
       "<html>\n",
       "<head>\n",
       "<title>Index of /subscription/modis/MRIVER/2016/daily</title>\n",
       "</head>\n",
       "<body>\n",
       "<h1>Index of /subscription/modis/MRIVER/2016/daily</h1>\n",
       "<table><tr><th><img alt=\"[ICO]\" src=\"/icons/blank.gif\"/></th><th><a href=\"?C=N;O=D\">Name</a></th><th><a href=\"?C=M;O=A\">Last modified</a></th><th><a href=\"?C=S;O=A\">Size</a></th><th><a href=\"?C=D;O=A\">Description</a></th></tr><tr><th colspan=\"5\"><hr/></th></tr>\n",
       "<tr><td valign=\"top\"><img alt=\"[DIR]\" src=\"/icons/back.gif\"/></td><td><a href=\"/subscription/modis/MRIVER/2016/\">Parent Directory</a></td><td> </td><td align=\"right\">  - </td><td> </td></tr>\n",
       "<tr><td valign=\"top\"><img alt=\"[DIR]\" src=\"/icons/folder.gif\"/></td><td><a href=\"001/\">001/</a></td><td align=\"right\">22-Jan-2016 18:18  </td><td align=\"right\">  - </td><td> </td></tr>\n",
       "<tr><td valign=\"top\"><img alt=\"[DIR]\" src=\"/icons/folder.gif\"/></td><td><a href=\"002/\">002/</a></td><td align=\"right\">22-Jan-2016 19:49  </td><td align=\"right\">  - </td><td> </td></tr>\n",
       "<tr><td valign=\"top\"><img alt=\"[DIR]\" src=\"/icons/folder.gif\"/></td><td><a href=\"003/\">003/</a></td><td align=\"right\">22-Jan-2016 21:08  </td><td align=\"right\">  - </td><td> </td></tr>\n",
       "<tr><td valign=\"top\"><img alt=\"[DIR]\" src=\"/icons/folder.gif\"/></td><td><a href=\"004/\">004/</a></td><td align=\"right\">22-Jan-2016 22:33  </td><td align=\"right\">  - </td><td> </td></tr>\n",
       "<tr><td valign=\"top\"><img alt=\"[DIR]\" src=\"/icons/folder.gif\"/></td><td><a href=\"005/\">005/</a></td><td align=\"right\">22-Jan-2016 23:38  </td><td align=\"right\">  - </td><td> </td></tr>\n",
       "<tr><td valign=\"top\"><img alt=\"[DIR]\" src=\"/icons/folder.gif\"/></td><td><a href=\"006/\">006/</a></td><td align=\"right\">23-Jan-2016 01:20  </td><td align=\"right\">  - </td><td> </td></tr>\n",
       "<tr><td valign=\"top\"><img alt=\"[DIR]\" src=\"/icons/folder.gif\"/></td><td><a href=\"007/\">007/</a></td><td align=\"right\">23-Jan-2016 02:54  </td><td align=\"right\">  - </td><td> </td></tr>\n",
       "<tr><td valign=\"top\"><img alt=\"[DIR]\" src=\"/icons/folder.gif\"/></td><td><a href=\"008/\">008/</a></td><td align=\"right\">23-Jan-2016 04:39  </td><td align=\"right\">  - </td><td> </td></tr>\n",
       "<tr><td valign=\"top\"><img alt=\"[DIR]\" src=\"/icons/folder.gif\"/></td><td><a href=\"009/\">009/</a></td><td align=\"right\">23-Jan-2016 06:19  </td><td align=\"right\">  - </td><td> </td></tr>\n",
       "<tr><td valign=\"top\"><img alt=\"[DIR]\" src=\"/icons/folder.gif\"/></td><td><a href=\"010/\">010/</a></td><td align=\"right\">25-Jan-2016 02:03  </td><td align=\"right\">  - </td><td> </td></tr>\n",
       "<tr><td valign=\"top\"><img alt=\"[DIR]\" src=\"/icons/folder.gif\"/></td><td><a href=\"011/\">011/</a></td><td align=\"right\">25-Jan-2016 02:46  </td><td align=\"right\">  - </td><td> </td></tr>\n",
       "<tr><td valign=\"top\"><img alt=\"[DIR]\" src=\"/icons/folder.gif\"/></td><td><a href=\"012/\">012/</a></td><td align=\"right\">25-Jan-2016 03:25  </td><td align=\"right\">  - </td><td> </td></tr>\n",
       "<tr><td valign=\"top\"><img alt=\"[DIR]\" src=\"/icons/folder.gif\"/></td><td><a href=\"013/\">013/</a></td><td align=\"right\">25-Jan-2016 04:16  </td><td align=\"right\">  - </td><td> </td></tr>\n",
       "<tr><td valign=\"top\"><img alt=\"[DIR]\" src=\"/icons/folder.gif\"/></td><td><a href=\"014/\">014/</a></td><td align=\"right\">25-Jan-2016 04:45  </td><td align=\"right\">  - </td><td> </td></tr>\n",
       "<tr><td valign=\"top\"><img alt=\"[DIR]\" src=\"/icons/folder.gif\"/></td><td><a href=\"015/\">015/</a></td><td align=\"right\">25-Jan-2016 05:34  </td><td align=\"right\">  - </td><td> </td></tr>\n",
       "<tr><td valign=\"top\"><img alt=\"[DIR]\" src=\"/icons/folder.gif\"/></td><td><a href=\"016/\">016/</a></td><td align=\"right\">25-Jan-2016 06:07  </td><td align=\"right\">  - </td><td> </td></tr>\n",
       "<tr><td valign=\"top\"><img alt=\"[DIR]\" src=\"/icons/folder.gif\"/></td><td><a href=\"017/\">017/</a></td><td align=\"right\">25-Jan-2016 06:58  </td><td align=\"right\">  - </td><td> </td></tr>\n",
       "<tr><td valign=\"top\"><img alt=\"[DIR]\" src=\"/icons/folder.gif\"/></td><td><a href=\"018/\">018/</a></td><td align=\"right\">25-Jan-2016 07:41  </td><td align=\"right\">  - </td><td> </td></tr>\n",
       "<tr><td valign=\"top\"><img alt=\"[DIR]\" src=\"/icons/folder.gif\"/></td><td><a href=\"019/\">019/</a></td><td align=\"right\">25-Jan-2016 08:17  </td><td align=\"right\">  - </td><td> </td></tr>\n",
       "<tr><td valign=\"top\"><img alt=\"[DIR]\" src=\"/icons/folder.gif\"/></td><td><a href=\"020/\">020/</a></td><td align=\"right\">24-Jan-2016 04:00  </td><td align=\"right\">  - </td><td> </td></tr>\n",
       "<tr><td valign=\"top\"><img alt=\"[DIR]\" src=\"/icons/folder.gif\"/></td><td><a href=\"021/\">021/</a></td><td align=\"right\">21-Jan-2016 20:41  </td><td align=\"right\">  - </td><td> </td></tr>\n",
       "<tr><td valign=\"top\"><img alt=\"[DIR]\" src=\"/icons/folder.gif\"/></td><td><a href=\"022/\">022/</a></td><td align=\"right\">23-Jan-2016 07:54  </td><td align=\"right\">  - </td><td> </td></tr>\n",
       "<tr><td valign=\"top\"><img alt=\"[DIR]\" src=\"/icons/folder.gif\"/></td><td><a href=\"023/\">023/</a></td><td align=\"right\">23-Jan-2016 21:15  </td><td align=\"right\">  - </td><td> </td></tr>\n",
       "<tr><td valign=\"top\"><img alt=\"[DIR]\" src=\"/icons/folder.gif\"/></td><td><a href=\"024/\">024/</a></td><td align=\"right\">25-Jan-2016 08:50  </td><td align=\"right\">  - </td><td> </td></tr>\n",
       "<tr><td valign=\"top\"><img alt=\"[DIR]\" src=\"/icons/folder.gif\"/></td><td><a href=\"025/\">025/</a></td><td align=\"right\">25-Jan-2016 21:35  </td><td align=\"right\">  - </td><td> </td></tr>\n",
       "<tr><td valign=\"top\"><img alt=\"[DIR]\" src=\"/icons/folder.gif\"/></td><td><a href=\"026/\">026/</a></td><td align=\"right\">26-Jan-2016 21:10  </td><td align=\"right\">  - </td><td> </td></tr>\n",
       "<tr><td valign=\"top\"><img alt=\"[DIR]\" src=\"/icons/folder.gif\"/></td><td><a href=\"027/\">027/</a></td><td align=\"right\">27-Jan-2016 21:30  </td><td align=\"right\">  - </td><td> </td></tr>\n",
       "<tr><td valign=\"top\"><img alt=\"[DIR]\" src=\"/icons/folder.gif\"/></td><td><a href=\"028/\">028/</a></td><td align=\"right\">28-Jan-2016 20:02  </td><td align=\"right\">  - </td><td> </td></tr>\n",
       "<tr><td valign=\"top\"><img alt=\"[DIR]\" src=\"/icons/folder.gif\"/></td><td><a href=\"029/\">029/</a></td><td align=\"right\">29-Jan-2016 19:37  </td><td align=\"right\">  - </td><td> </td></tr>\n",
       "<tr><td valign=\"top\"><img alt=\"[DIR]\" src=\"/icons/folder.gif\"/></td><td><a href=\"030/\">030/</a></td><td align=\"right\">30-Jan-2016 21:00  </td><td align=\"right\">  - </td><td> </td></tr>\n",
       "<tr><td valign=\"top\"><img alt=\"[DIR]\" src=\"/icons/folder.gif\"/></td><td><a href=\"031/\">031/</a></td><td align=\"right\">31-Jan-2016 20:07  </td><td align=\"right\">  - </td><td> </td></tr>\n",
       "<tr><td valign=\"top\"><img alt=\"[DIR]\" src=\"/icons/folder.gif\"/></td><td><a href=\"032/\">032/</a></td><td align=\"right\">02-Feb-2016 12:04  </td><td align=\"right\">  - </td><td> </td></tr>\n",
       "<tr><td valign=\"top\"><img alt=\"[DIR]\" src=\"/icons/folder.gif\"/></td><td><a href=\"033/\">033/</a></td><td align=\"right\">02-Feb-2016 21:05  </td><td align=\"right\">  - </td><td> </td></tr>\n",
       "<tr><td valign=\"top\"><img alt=\"[DIR]\" src=\"/icons/folder.gif\"/></td><td><a href=\"034/\">034/</a></td><td align=\"right\">03-Feb-2016 20:10  </td><td align=\"right\">  - </td><td> </td></tr>\n",
       "<tr><td valign=\"top\"><img alt=\"[DIR]\" src=\"/icons/folder.gif\"/></td><td><a href=\"035/\">035/</a></td><td align=\"right\">04-Feb-2016 19:15  </td><td align=\"right\">  - </td><td> </td></tr>\n",
       "<tr><td valign=\"top\"><img alt=\"[DIR]\" src=\"/icons/folder.gif\"/></td><td><a href=\"036/\">036/</a></td><td align=\"right\">05-Feb-2016 20:33  </td><td align=\"right\">  - </td><td> </td></tr>\n",
       "<tr><td valign=\"top\"><img alt=\"[DIR]\" src=\"/icons/folder.gif\"/></td><td><a href=\"037/\">037/</a></td><td align=\"right\">06-Feb-2016 20:08  </td><td align=\"right\">  - </td><td> </td></tr>\n",
       "<tr><td valign=\"top\"><img alt=\"[DIR]\" src=\"/icons/folder.gif\"/></td><td><a href=\"038/\">038/</a></td><td align=\"right\">07-Feb-2016 21:07  </td><td align=\"right\">  - </td><td> </td></tr>\n",
       "<tr><td valign=\"top\"><img alt=\"[DIR]\" src=\"/icons/folder.gif\"/></td><td><a href=\"039/\">039/</a></td><td align=\"right\">08-Feb-2016 19:41  </td><td align=\"right\">  - </td><td> </td></tr>\n",
       "<tr><td valign=\"top\"><img alt=\"[DIR]\" src=\"/icons/folder.gif\"/></td><td><a href=\"040/\">040/</a></td><td align=\"right\">09-Feb-2016 21:05  </td><td align=\"right\">  - </td><td> </td></tr>\n",
       "<tr><td valign=\"top\"><img alt=\"[DIR]\" src=\"/icons/folder.gif\"/></td><td><a href=\"041/\">041/</a></td><td align=\"right\">10-Feb-2016 20:01  </td><td align=\"right\">  - </td><td> </td></tr>\n",
       "<tr><td valign=\"top\"><img alt=\"[DIR]\" src=\"/icons/folder.gif\"/></td><td><a href=\"042/\">042/</a></td><td align=\"right\">11-Feb-2016 21:13  </td><td align=\"right\">  - </td><td> </td></tr>\n",
       "<tr><td valign=\"top\"><img alt=\"[DIR]\" src=\"/icons/folder.gif\"/></td><td><a href=\"043/\">043/</a></td><td align=\"right\">12-Feb-2016 20:03  </td><td align=\"right\">  - </td><td> </td></tr>\n",
       "<tr><td valign=\"top\"><img alt=\"[DIR]\" src=\"/icons/folder.gif\"/></td><td><a href=\"044/\">044/</a></td><td align=\"right\">13-Feb-2016 19:40  </td><td align=\"right\">  - </td><td> </td></tr>\n",
       "<tr><td valign=\"top\"><img alt=\"[DIR]\" src=\"/icons/folder.gif\"/></td><td><a href=\"045/\">045/</a></td><td align=\"right\">14-Feb-2016 21:05  </td><td align=\"right\">  - </td><td> </td></tr>\n",
       "<tr><td valign=\"top\"><img alt=\"[DIR]\" src=\"/icons/folder.gif\"/></td><td><a href=\"046/\">046/</a></td><td align=\"right\">15-Feb-2016 20:37  </td><td align=\"right\">  - </td><td> </td></tr>\n",
       "<tr><td valign=\"top\"><img alt=\"[DIR]\" src=\"/icons/folder.gif\"/></td><td><a href=\"047/\">047/</a></td><td align=\"right\">16-Feb-2016 19:59  </td><td align=\"right\">  - </td><td> </td></tr>\n",
       "<tr><td valign=\"top\"><img alt=\"[DIR]\" src=\"/icons/folder.gif\"/></td><td><a href=\"048/\">048/</a></td><td align=\"right\">17-Feb-2016 20:42  </td><td align=\"right\">  - </td><td> </td></tr>\n",
       "<tr><td valign=\"top\"><img alt=\"[DIR]\" src=\"/icons/folder.gif\"/></td><td><a href=\"049/\">049/</a></td><td align=\"right\">18-Feb-2016 16:59  </td><td align=\"right\">  - </td><td> </td></tr>\n",
       "<tr><td valign=\"top\"><img alt=\"[DIR]\" src=\"/icons/folder.gif\"/></td><td><a href=\"050/\">050/</a></td><td align=\"right\">19-Feb-2016 16:49  </td><td align=\"right\">  - </td><td> </td></tr>\n",
       "<tr><td valign=\"top\"><img alt=\"[DIR]\" src=\"/icons/folder.gif\"/></td><td><a href=\"051/\">051/</a></td><td align=\"right\">20-Feb-2016 17:34  </td><td align=\"right\">  - </td><td> </td></tr>\n",
       "<tr><td valign=\"top\"><img alt=\"[DIR]\" src=\"/icons/folder.gif\"/></td><td><a href=\"052/\">052/</a></td><td align=\"right\">21-Feb-2016 16:01  </td><td align=\"right\">  - </td><td> </td></tr>\n",
       "<tr><td valign=\"top\"><img alt=\"[DIR]\" src=\"/icons/folder.gif\"/></td><td><a href=\"053/\">053/</a></td><td align=\"right\">22-Feb-2016 17:03  </td><td align=\"right\">  - </td><td> </td></tr>\n",
       "<tr><td valign=\"top\"><img alt=\"[DIR]\" src=\"/icons/folder.gif\"/></td><td><a href=\"054/\">054/</a></td><td align=\"right\">23-Feb-2016 16:16  </td><td align=\"right\">  - </td><td> </td></tr>\n",
       "<tr><td valign=\"top\"><img alt=\"[DIR]\" src=\"/icons/folder.gif\"/></td><td><a href=\"055/\">055/</a></td><td align=\"right\">24-Feb-2016 17:11  </td><td align=\"right\">  - </td><td> </td></tr>\n",
       "<tr><td valign=\"top\"><img alt=\"[DIR]\" src=\"/icons/folder.gif\"/></td><td><a href=\"056/\">056/</a></td><td align=\"right\">25-Feb-2016 20:41  </td><td align=\"right\">  - </td><td> </td></tr>\n",
       "<tr><td valign=\"top\"><img alt=\"[DIR]\" src=\"/icons/folder.gif\"/></td><td><a href=\"057/\">057/</a></td><td align=\"right\">26-Feb-2016 19:42  </td><td align=\"right\">  - </td><td> </td></tr>\n",
       "<tr><td valign=\"top\"><img alt=\"[DIR]\" src=\"/icons/folder.gif\"/></td><td><a href=\"058/\">058/</a></td><td align=\"right\">27-Feb-2016 21:14  </td><td align=\"right\">  - </td><td> </td></tr>\n",
       "<tr><td valign=\"top\"><img alt=\"[DIR]\" src=\"/icons/folder.gif\"/></td><td><a href=\"059/\">059/</a></td><td align=\"right\">28-Feb-2016 20:02  </td><td align=\"right\">  - </td><td> </td></tr>\n",
       "<tr><td valign=\"top\"><img alt=\"[DIR]\" src=\"/icons/folder.gif\"/></td><td><a href=\"060/\">060/</a></td><td align=\"right\">29-Feb-2016 19:24  </td><td align=\"right\">  - </td><td> </td></tr>\n",
       "<tr><td valign=\"top\"><img alt=\"[DIR]\" src=\"/icons/folder.gif\"/></td><td><a href=\"061/\">061/</a></td><td align=\"right\">01-Mar-2016 20:03  </td><td align=\"right\">  - </td><td> </td></tr>\n",
       "<tr><td valign=\"top\"><img alt=\"[DIR]\" src=\"/icons/folder.gif\"/></td><td><a href=\"062/\">062/</a></td><td align=\"right\">02-Mar-2016 22:08  </td><td align=\"right\">  - </td><td> </td></tr>\n",
       "<tr><td valign=\"top\"><img alt=\"[DIR]\" src=\"/icons/folder.gif\"/></td><td><a href=\"063/\">063/</a></td><td align=\"right\">03-Mar-2016 20:04  </td><td align=\"right\">  - </td><td> </td></tr>\n",
       "<tr><td valign=\"top\"><img alt=\"[DIR]\" src=\"/icons/folder.gif\"/></td><td><a href=\"064/\">064/</a></td><td align=\"right\">04-Mar-2016 20:12  </td><td align=\"right\">  - </td><td> </td></tr>\n",
       "<tr><td valign=\"top\"><img alt=\"[DIR]\" src=\"/icons/folder.gif\"/></td><td><a href=\"065/\">065/</a></td><td align=\"right\">05-Mar-2016 21:17  </td><td align=\"right\">  - </td><td> </td></tr>\n",
       "<tr><td valign=\"top\"><img alt=\"[DIR]\" src=\"/icons/folder.gif\"/></td><td><a href=\"066/\">066/</a></td><td align=\"right\">06-Mar-2016 19:31  </td><td align=\"right\">  - </td><td> </td></tr>\n",
       "<tr><td valign=\"top\"><img alt=\"[DIR]\" src=\"/icons/folder.gif\"/></td><td><a href=\"067/\">067/</a></td><td align=\"right\">07-Mar-2016 21:13  </td><td align=\"right\">  - </td><td> </td></tr>\n",
       "<tr><td valign=\"top\"><img alt=\"[DIR]\" src=\"/icons/folder.gif\"/></td><td><a href=\"068/\">068/</a></td><td align=\"right\">08-Mar-2016 20:04  </td><td align=\"right\">  - </td><td> </td></tr>\n",
       "<tr><td valign=\"top\"><img alt=\"[DIR]\" src=\"/icons/folder.gif\"/></td><td><a href=\"069/\">069/</a></td><td align=\"right\">09-Mar-2016 19:22  </td><td align=\"right\">  - </td><td> </td></tr>\n",
       "<tr><td valign=\"top\"><img alt=\"[DIR]\" src=\"/icons/folder.gif\"/></td><td><a href=\"070/\">070/</a></td><td align=\"right\">14-Mar-2016 02:07  </td><td align=\"right\">  - </td><td> </td></tr>\n",
       "<tr><td valign=\"top\"><img alt=\"[DIR]\" src=\"/icons/folder.gif\"/></td><td><a href=\"071/\">071/</a></td><td align=\"right\">11-Mar-2016 21:46  </td><td align=\"right\">  - </td><td> </td></tr>\n",
       "<tr><td valign=\"top\"><img alt=\"[DIR]\" src=\"/icons/folder.gif\"/></td><td><a href=\"072/\">072/</a></td><td align=\"right\">12-Mar-2016 20:20  </td><td align=\"right\">  - </td><td> </td></tr>\n",
       "<tr><td valign=\"top\"><img alt=\"[DIR]\" src=\"/icons/folder.gif\"/></td><td><a href=\"073/\">073/</a></td><td align=\"right\">13-Mar-2016 22:17  </td><td align=\"right\">  - </td><td> </td></tr>\n",
       "<tr><td valign=\"top\"><img alt=\"[DIR]\" src=\"/icons/folder.gif\"/></td><td><a href=\"074/\">074/</a></td><td align=\"right\">14-Mar-2016 21:12  </td><td align=\"right\">  - </td><td> </td></tr>\n",
       "<tr><td valign=\"top\"><img alt=\"[DIR]\" src=\"/icons/folder.gif\"/></td><td><a href=\"075/\">075/</a></td><td align=\"right\">15-Mar-2016 22:03  </td><td align=\"right\">  - </td><td> </td></tr>\n",
       "<tr><td valign=\"top\"><img alt=\"[DIR]\" src=\"/icons/folder.gif\"/></td><td><a href=\"076/\">076/</a></td><td align=\"right\">16-Mar-2016 21:18  </td><td align=\"right\">  - </td><td> </td></tr>\n",
       "<tr><td valign=\"top\"><img alt=\"[DIR]\" src=\"/icons/folder.gif\"/></td><td><a href=\"077/\">077/</a></td><td align=\"right\">17-Mar-2016 20:37  </td><td align=\"right\">  - </td><td> </td></tr>\n",
       "<tr><td valign=\"top\"><img alt=\"[DIR]\" src=\"/icons/folder.gif\"/></td><td><a href=\"078/\">078/</a></td><td align=\"right\">18-Mar-2016 22:17  </td><td align=\"right\">  - </td><td> </td></tr>\n",
       "<tr><td valign=\"top\"><img alt=\"[DIR]\" src=\"/icons/folder.gif\"/></td><td><a href=\"079/\">079/</a></td><td align=\"right\">19-Mar-2016 21:09  </td><td align=\"right\">  - </td><td> </td></tr>\n",
       "<tr><td valign=\"top\"><img alt=\"[DIR]\" src=\"/icons/folder.gif\"/></td><td><a href=\"080/\">080/</a></td><td align=\"right\">20-Mar-2016 22:13  </td><td align=\"right\">  - </td><td> </td></tr>\n",
       "<tr><td valign=\"top\"><img alt=\"[DIR]\" src=\"/icons/folder.gif\"/></td><td><a href=\"081/\">081/</a></td><td align=\"right\">21-Mar-2016 21:10  </td><td align=\"right\">  - </td><td> </td></tr>\n",
       "<tr><td valign=\"top\"><img alt=\"[DIR]\" src=\"/icons/folder.gif\"/></td><td><a href=\"082/\">082/</a></td><td align=\"right\">22-Mar-2016 20:09  </td><td align=\"right\">  - </td><td> </td></tr>\n",
       "<tr><td valign=\"top\"><img alt=\"[DIR]\" src=\"/icons/folder.gif\"/></td><td><a href=\"083/\">083/</a></td><td align=\"right\">23-Mar-2016 21:07  </td><td align=\"right\">  - </td><td> </td></tr>\n",
       "<tr><td valign=\"top\"><img alt=\"[DIR]\" src=\"/icons/folder.gif\"/></td><td><a href=\"084/\">084/</a></td><td align=\"right\">24-Mar-2016 20:31  </td><td align=\"right\">  - </td><td> </td></tr>\n",
       "<tr><td valign=\"top\"><img alt=\"[DIR]\" src=\"/icons/folder.gif\"/></td><td><a href=\"085/\">085/</a></td><td align=\"right\">25-Mar-2016 21:05  </td><td align=\"right\">  - </td><td> </td></tr>\n",
       "<tr><td valign=\"top\"><img alt=\"[DIR]\" src=\"/icons/folder.gif\"/></td><td><a href=\"086/\">086/</a></td><td align=\"right\">26-Mar-2016 20:45  </td><td align=\"right\">  - </td><td> </td></tr>\n",
       "<tr><td valign=\"top\"><img alt=\"[DIR]\" src=\"/icons/folder.gif\"/></td><td><a href=\"087/\">087/</a></td><td align=\"right\">27-Mar-2016 21:40  </td><td align=\"right\">  - </td><td> </td></tr>\n",
       "<tr><td valign=\"top\"><img alt=\"[DIR]\" src=\"/icons/folder.gif\"/></td><td><a href=\"088/\">088/</a></td><td align=\"right\">28-Mar-2016 20:36  </td><td align=\"right\">  - </td><td> </td></tr>\n",
       "<tr><td valign=\"top\"><img alt=\"[DIR]\" src=\"/icons/folder.gif\"/></td><td><a href=\"089/\">089/</a></td><td align=\"right\">29-Mar-2016 21:19  </td><td align=\"right\">  - </td><td> </td></tr>\n",
       "<tr><td valign=\"top\"><img alt=\"[DIR]\" src=\"/icons/folder.gif\"/></td><td><a href=\"090/\">090/</a></td><td align=\"right\">30-Mar-2016 22:07  </td><td align=\"right\">  - </td><td> </td></tr>\n",
       "<tr><td valign=\"top\"><img alt=\"[DIR]\" src=\"/icons/folder.gif\"/></td><td><a href=\"091/\">091/</a></td><td align=\"right\">31-Mar-2016 21:34  </td><td align=\"right\">  - </td><td> </td></tr>\n",
       "<tr><td valign=\"top\"><img alt=\"[DIR]\" src=\"/icons/folder.gif\"/></td><td><a href=\"092/\">092/</a></td><td align=\"right\">01-Apr-2016 20:11  </td><td align=\"right\">  - </td><td> </td></tr>\n",
       "<tr><td valign=\"top\"><img alt=\"[DIR]\" src=\"/icons/folder.gif\"/></td><td><a href=\"093/\">093/</a></td><td align=\"right\">02-Apr-2016 21:01  </td><td align=\"right\">  - </td><td> </td></tr>\n",
       "<tr><td valign=\"top\"><img alt=\"[DIR]\" src=\"/icons/folder.gif\"/></td><td><a href=\"094/\">094/</a></td><td align=\"right\">03-Apr-2016 22:39  </td><td align=\"right\">  - </td><td> </td></tr>\n",
       "<tr><td valign=\"top\"><img alt=\"[DIR]\" src=\"/icons/folder.gif\"/></td><td><a href=\"095/\">095/</a></td><td align=\"right\">04-Apr-2016 21:38  </td><td align=\"right\">  - </td><td> </td></tr>\n",
       "<tr><td valign=\"top\"><img alt=\"[DIR]\" src=\"/icons/folder.gif\"/></td><td><a href=\"096/\">096/</a></td><td align=\"right\">05-Apr-2016 21:14  </td><td align=\"right\">  - </td><td> </td></tr>\n",
       "<tr><td valign=\"top\"><img alt=\"[DIR]\" src=\"/icons/folder.gif\"/></td><td><a href=\"097/\">097/</a></td><td align=\"right\">06-Apr-2016 20:16  </td><td align=\"right\">  - </td><td> </td></tr>\n",
       "<tr><td valign=\"top\"><img alt=\"[DIR]\" src=\"/icons/folder.gif\"/></td><td><a href=\"098/\">098/</a></td><td align=\"right\">07-Apr-2016 07:30  </td><td align=\"right\">  - </td><td> </td></tr>\n",
       "<tr><th colspan=\"5\"><hr/></th></tr>\n",
       "</table>\n",
       "</body></html>"
      ]
     },
     "execution_count": 73,
     "metadata": {},
     "output_type": "execute_result"
    }
   ],
   "source": [
    "soup = BeautifulSoup(restext, \"lxml\")  # interprets the text from the website\n",
    "soup  # more organized"
   ]
  },
  {
   "cell_type": "markdown",
   "metadata": {},
   "source": [
    "---\n",
    "### *Exercise*\n",
    "\n",
    "> Figure out how to \"View Source\" on a website. You might need to google to find this for your browser, but usually you can just right-click and choose the option there. Compare the source for the .../2016/daily webpage with what we see above.\n",
    "\n",
    "---"
   ]
  },
  {
   "cell_type": "markdown",
   "metadata": {},
   "source": [
    "What we are seeing here is the makeup of the website, the html. If we look closely, we can pick out what we saw on the website: some header links and then links to each day of files. We want to harvest these links to where files are stored to avoid doing it manually. To do this, we need to think about how we might be able to move through the rows of the file, just like at the beginning of this class when we worked on reading files in line-by-line. We can use the method of a Beautiful Soup object, `findAll`, to pull out text that have certain named types.\n",
    "\n",
    "For example, below we pull out the part of this site with is a header 1:"
   ]
  },
  {
   "cell_type": "code",
   "execution_count": 74,
   "metadata": {
    "collapsed": false
   },
   "outputs": [
    {
     "data": {
      "text/plain": [
       "[<h1>Index of /subscription/modis/MRIVER/2016/daily</h1>]"
      ]
     },
     "execution_count": 74,
     "metadata": {},
     "output_type": "execute_result"
    }
   ],
   "source": [
    "soup.findAll('h1')"
   ]
  },
  {
   "cell_type": "markdown",
   "metadata": {},
   "source": [
    "---\n",
    "### *Exercise*\n",
    "\n",
    "> Try sorting the html by other tags. What do you find? We'd like to be able to separately access each link to a day of files. What tag would let us do that?\n",
    "\n",
    "---"
   ]
  },
  {
   "cell_type": "code",
   "execution_count": null,
   "metadata": {
    "collapsed": true
   },
   "outputs": [],
   "source": []
  },
  {
   "cell_type": "markdown",
   "metadata": {},
   "source": [
    "Let's try sorting by the tag 'a', which is for links in html."
   ]
  },
  {
   "cell_type": "code",
   "execution_count": 75,
   "metadata": {
    "collapsed": false
   },
   "outputs": [
    {
     "data": {
      "text/plain": [
       "[<a href=\"?C=N;O=D\">Name</a>,\n",
       " <a href=\"?C=M;O=A\">Last modified</a>,\n",
       " <a href=\"?C=S;O=A\">Size</a>,\n",
       " <a href=\"?C=D;O=A\">Description</a>,\n",
       " <a href=\"/subscription/modis/MRIVER/2016/\">Parent Directory</a>,\n",
       " <a href=\"001/\">001/</a>,\n",
       " <a href=\"002/\">002/</a>,\n",
       " <a href=\"003/\">003/</a>,\n",
       " <a href=\"004/\">004/</a>,\n",
       " <a href=\"005/\">005/</a>,\n",
       " <a href=\"006/\">006/</a>,\n",
       " <a href=\"007/\">007/</a>,\n",
       " <a href=\"008/\">008/</a>,\n",
       " <a href=\"009/\">009/</a>,\n",
       " <a href=\"010/\">010/</a>,\n",
       " <a href=\"011/\">011/</a>,\n",
       " <a href=\"012/\">012/</a>,\n",
       " <a href=\"013/\">013/</a>,\n",
       " <a href=\"014/\">014/</a>,\n",
       " <a href=\"015/\">015/</a>,\n",
       " <a href=\"016/\">016/</a>,\n",
       " <a href=\"017/\">017/</a>,\n",
       " <a href=\"018/\">018/</a>,\n",
       " <a href=\"019/\">019/</a>,\n",
       " <a href=\"020/\">020/</a>,\n",
       " <a href=\"021/\">021/</a>,\n",
       " <a href=\"022/\">022/</a>,\n",
       " <a href=\"023/\">023/</a>,\n",
       " <a href=\"024/\">024/</a>,\n",
       " <a href=\"025/\">025/</a>,\n",
       " <a href=\"026/\">026/</a>,\n",
       " <a href=\"027/\">027/</a>,\n",
       " <a href=\"028/\">028/</a>,\n",
       " <a href=\"029/\">029/</a>,\n",
       " <a href=\"030/\">030/</a>,\n",
       " <a href=\"031/\">031/</a>,\n",
       " <a href=\"032/\">032/</a>,\n",
       " <a href=\"033/\">033/</a>,\n",
       " <a href=\"034/\">034/</a>,\n",
       " <a href=\"035/\">035/</a>,\n",
       " <a href=\"036/\">036/</a>,\n",
       " <a href=\"037/\">037/</a>,\n",
       " <a href=\"038/\">038/</a>,\n",
       " <a href=\"039/\">039/</a>,\n",
       " <a href=\"040/\">040/</a>,\n",
       " <a href=\"041/\">041/</a>,\n",
       " <a href=\"042/\">042/</a>,\n",
       " <a href=\"043/\">043/</a>,\n",
       " <a href=\"044/\">044/</a>,\n",
       " <a href=\"045/\">045/</a>,\n",
       " <a href=\"046/\">046/</a>,\n",
       " <a href=\"047/\">047/</a>,\n",
       " <a href=\"048/\">048/</a>,\n",
       " <a href=\"049/\">049/</a>,\n",
       " <a href=\"050/\">050/</a>,\n",
       " <a href=\"051/\">051/</a>,\n",
       " <a href=\"052/\">052/</a>,\n",
       " <a href=\"053/\">053/</a>,\n",
       " <a href=\"054/\">054/</a>,\n",
       " <a href=\"055/\">055/</a>,\n",
       " <a href=\"056/\">056/</a>,\n",
       " <a href=\"057/\">057/</a>,\n",
       " <a href=\"058/\">058/</a>,\n",
       " <a href=\"059/\">059/</a>,\n",
       " <a href=\"060/\">060/</a>,\n",
       " <a href=\"061/\">061/</a>,\n",
       " <a href=\"062/\">062/</a>,\n",
       " <a href=\"063/\">063/</a>,\n",
       " <a href=\"064/\">064/</a>,\n",
       " <a href=\"065/\">065/</a>,\n",
       " <a href=\"066/\">066/</a>,\n",
       " <a href=\"067/\">067/</a>,\n",
       " <a href=\"068/\">068/</a>,\n",
       " <a href=\"069/\">069/</a>,\n",
       " <a href=\"070/\">070/</a>,\n",
       " <a href=\"071/\">071/</a>,\n",
       " <a href=\"072/\">072/</a>,\n",
       " <a href=\"073/\">073/</a>,\n",
       " <a href=\"074/\">074/</a>,\n",
       " <a href=\"075/\">075/</a>,\n",
       " <a href=\"076/\">076/</a>,\n",
       " <a href=\"077/\">077/</a>,\n",
       " <a href=\"078/\">078/</a>,\n",
       " <a href=\"079/\">079/</a>,\n",
       " <a href=\"080/\">080/</a>,\n",
       " <a href=\"081/\">081/</a>,\n",
       " <a href=\"082/\">082/</a>,\n",
       " <a href=\"083/\">083/</a>,\n",
       " <a href=\"084/\">084/</a>,\n",
       " <a href=\"085/\">085/</a>,\n",
       " <a href=\"086/\">086/</a>,\n",
       " <a href=\"087/\">087/</a>,\n",
       " <a href=\"088/\">088/</a>,\n",
       " <a href=\"089/\">089/</a>,\n",
       " <a href=\"090/\">090/</a>,\n",
       " <a href=\"091/\">091/</a>,\n",
       " <a href=\"092/\">092/</a>,\n",
       " <a href=\"093/\">093/</a>,\n",
       " <a href=\"094/\">094/</a>,\n",
       " <a href=\"095/\">095/</a>,\n",
       " <a href=\"096/\">096/</a>,\n",
       " <a href=\"097/\">097/</a>,\n",
       " <a href=\"098/\">098/</a>]"
      ]
     },
     "execution_count": 75,
     "metadata": {},
     "output_type": "execute_result"
    }
   ],
   "source": [
    "soup.findAll('a')"
   ]
  },
  {
   "cell_type": "markdown",
   "metadata": {},
   "source": [
    "Ok! So we found something here maybe. The first few entries are for links that seem to be a header at the top of the page; in fact, we can compare with other pages to see that it is consistent. So, let's use this to grab all the links we want to gather, and just skip the first few entries.\n",
    "\n",
    "How can we access each of these sub-webpages using what we have here?"
   ]
  },
  {
   "cell_type": "code",
   "execution_count": 76,
   "metadata": {
    "collapsed": false
   },
   "outputs": [
    {
     "name": "stdout",
     "output_type": "stream",
     "text": [
      "row:\n",
      " <a href=\"001/\">001/</a> \n",
      "\n"
     ]
    }
   ],
   "source": [
    "row = soup.findAll('a')[5]  # grab the first row that contains a link we want\n",
    "print('row:\\n', row, '\\n')"
   ]
  },
  {
   "cell_type": "markdown",
   "metadata": {},
   "source": [
    "But we need this in the form of another web address:"
   ]
  },
  {
   "cell_type": "code",
   "execution_count": 77,
   "metadata": {
    "collapsed": false
   },
   "outputs": [
    {
     "data": {
      "text/plain": [
       "'http://optics.marine.usf.edu/subscription/modis/MRIVER/2016/daily/001/'"
      ]
     },
     "execution_count": 77,
     "metadata": {},
     "output_type": "execute_result"
    }
   ],
   "source": [
    "url + row.string  # .string() returns just the string inside the object"
   ]
  },
  {
   "cell_type": "markdown",
   "metadata": {},
   "source": [
    "Now that we have an address, we can access it the same way we did for the first website:"
   ]
  },
  {
   "cell_type": "code",
   "execution_count": 78,
   "metadata": {
    "collapsed": false
   },
   "outputs": [
    {
     "data": {
      "text/plain": [
       "<!DOCTYPE HTML PUBLIC \"-//W3C//DTD HTML 3.2 Final//EN\">\n",
       "<html>\n",
       "<head>\n",
       "<title>Index of /subscription/modis/MRIVER/2016/daily/001</title>\n",
       "</head>\n",
       "<body>\n",
       "<h1>Index of /subscription/modis/MRIVER/2016/daily/001</h1>\n",
       "<table><tr><th><img alt=\"[ICO]\" src=\"/icons/blank.gif\"/></th><th><a href=\"?C=N;O=D\">Name</a></th><th><a href=\"?C=M;O=A\">Last modified</a></th><th><a href=\"?C=S;O=A\">Size</a></th><th><a href=\"?C=D;O=A\">Description</a></th></tr><tr><th colspan=\"5\"><hr/></th></tr>\n",
       "<tr><td valign=\"top\"><img alt=\"[DIR]\" src=\"/icons/back.gif\"/></td><td><a href=\"/subscription/modis/MRIVER/2016/daily/\">Parent Directory</a></td><td> </td><td align=\"right\">  - </td><td> </td></tr>\n",
       "<tr><td valign=\"top\"><img alt=\"[IMG]\" src=\"/icons/image2.gif\"/></td><td><a href=\"A20160010720.QKM.MRIVER.PASS.L3D.SST.200.png\">A20160010720.QKM.MRIVER.PASS.L3D.SST.200.png</a></td><td align=\"right\">22-Jan-2016 06:47  </td><td align=\"right\">1.7K</td><td> </td></tr>\n",
       "<tr><td valign=\"top\"><img alt=\"[IMG]\" src=\"/icons/image2.gif\"/></td><td><a href=\"A20160010720.QKM.MRIVER.PASS.L3D.SST.400.png\">A20160010720.QKM.MRIVER.PASS.L3D.SST.400.png</a></td><td align=\"right\">22-Jan-2016 06:47  </td><td align=\"right\">4.3K</td><td> </td></tr>\n",
       "<tr><td valign=\"top\"><img alt=\"[IMG]\" src=\"/icons/image2.gif\"/></td><td><a href=\"A20160010720.QKM.MRIVER.PASS.L3D.SST.png\">A20160010720.QKM.MRIVER.PASS.L3D.SST.png</a></td><td align=\"right\">22-Jan-2016 06:47  </td><td align=\"right\"> 25K</td><td> </td></tr>\n",
       "<tr><td valign=\"top\"><img alt=\"[IMG]\" src=\"/icons/image2.gif\"/></td><td><a href=\"A20160010720.QKM.MRIVER.PASS.L3D.SST4.200.png\">A20160010720.QKM.MRIVER.PASS.L3D.SST4.200.png</a></td><td align=\"right\">22-Jan-2016 06:47  </td><td align=\"right\">1.7K</td><td> </td></tr>\n",
       "<tr><td valign=\"top\"><img alt=\"[IMG]\" src=\"/icons/image2.gif\"/></td><td><a href=\"A20160010720.QKM.MRIVER.PASS.L3D.SST4.400.png\">A20160010720.QKM.MRIVER.PASS.L3D.SST4.400.png</a></td><td align=\"right\">22-Jan-2016 06:47  </td><td align=\"right\">4.3K</td><td> </td></tr>\n",
       "<tr><td valign=\"top\"><img alt=\"[IMG]\" src=\"/icons/image2.gif\"/></td><td><a href=\"A20160010720.QKM.MRIVER.PASS.L3D.SST4.png\">A20160010720.QKM.MRIVER.PASS.L3D.SST4.png</a></td><td align=\"right\">22-Jan-2016 06:47  </td><td align=\"right\"> 25K</td><td> </td></tr>\n",
       "<tr><td valign=\"top\"><img alt=\"[   ]\" src=\"/icons/unknown.gif\"/></td><td><a href=\"A20160010720.QKM.MRIVER.PASS.L3D.h5\">A20160010720.QKM.MRIVER.PASS.L3D.h5</a></td><td align=\"right\">22-Jan-2016 06:47  </td><td align=\"right\">1.0M</td><td> </td></tr>\n",
       "<tr><td valign=\"top\"><img alt=\"[IMG]\" src=\"/icons/image2.gif\"/></td><td><a href=\"A20160011820.QKM.MRIVER.PASS.L3D.CHL.200.png\">A20160011820.QKM.MRIVER.PASS.L3D.CHL.200.png</a></td><td align=\"right\">22-Jan-2016 06:48  </td><td align=\"right\">1.7K</td><td> </td></tr>\n",
       "<tr><td valign=\"top\"><img alt=\"[IMG]\" src=\"/icons/image2.gif\"/></td><td><a href=\"A20160011820.QKM.MRIVER.PASS.L3D.CHL.400.png\">A20160011820.QKM.MRIVER.PASS.L3D.CHL.400.png</a></td><td align=\"right\">22-Jan-2016 06:48  </td><td align=\"right\">4.3K</td><td> </td></tr>\n",
       "<tr><td valign=\"top\"><img alt=\"[IMG]\" src=\"/icons/image2.gif\"/></td><td><a href=\"A20160011820.QKM.MRIVER.PASS.L3D.CHL.png\">A20160011820.QKM.MRIVER.PASS.L3D.CHL.png</a></td><td align=\"right\">22-Jan-2016 06:48  </td><td align=\"right\"> 25K</td><td> </td></tr>\n",
       "<tr><td valign=\"top\"><img alt=\"[IMG]\" src=\"/icons/image2.gif\"/></td><td><a href=\"A20160011820.QKM.MRIVER.PASS.L3D.ERGB.200.png\">A20160011820.QKM.MRIVER.PASS.L3D.ERGB.200.png</a></td><td align=\"right\">22-Jan-2016 06:48  </td><td align=\"right\">1.4K</td><td> </td></tr>\n",
       "<tr><td valign=\"top\"><img alt=\"[IMG]\" src=\"/icons/image2.gif\"/></td><td><a href=\"A20160011820.QKM.MRIVER.PASS.L3D.ERGB.400.png\">A20160011820.QKM.MRIVER.PASS.L3D.ERGB.400.png</a></td><td align=\"right\">22-Jan-2016 06:48  </td><td align=\"right\">3.7K</td><td> </td></tr>\n",
       "<tr><td valign=\"top\"><img alt=\"[IMG]\" src=\"/icons/image2.gif\"/></td><td><a href=\"A20160011820.QKM.MRIVER.PASS.L3D.ERGB.png\">A20160011820.QKM.MRIVER.PASS.L3D.ERGB.png</a></td><td align=\"right\">22-Jan-2016 06:48  </td><td align=\"right\"> 34K</td><td> </td></tr>\n",
       "<tr><td valign=\"top\"><img alt=\"[IMG]\" src=\"/icons/image2.gif\"/></td><td><a href=\"A20160011820.QKM.MRIVER.PASS.L3D.NFLH.200.png\">A20160011820.QKM.MRIVER.PASS.L3D.NFLH.200.png</a></td><td align=\"right\">22-Jan-2016 06:48  </td><td align=\"right\">1.7K</td><td> </td></tr>\n",
       "<tr><td valign=\"top\"><img alt=\"[IMG]\" src=\"/icons/image2.gif\"/></td><td><a href=\"A20160011820.QKM.MRIVER.PASS.L3D.NFLH.400.png\">A20160011820.QKM.MRIVER.PASS.L3D.NFLH.400.png</a></td><td align=\"right\">22-Jan-2016 06:48  </td><td align=\"right\">4.3K</td><td> </td></tr>\n",
       "<tr><td valign=\"top\"><img alt=\"[IMG]\" src=\"/icons/image2.gif\"/></td><td><a href=\"A20160011820.QKM.MRIVER.PASS.L3D.NFLH.png\">A20160011820.QKM.MRIVER.PASS.L3D.NFLH.png</a></td><td align=\"right\">22-Jan-2016 06:48  </td><td align=\"right\"> 25K</td><td> </td></tr>\n",
       "<tr><td valign=\"top\"><img alt=\"[IMG]\" src=\"/icons/image2.gif\"/></td><td><a href=\"A20160011820.QKM.MRIVER.PASS.L3D.SST.200.png\">A20160011820.QKM.MRIVER.PASS.L3D.SST.200.png</a></td><td align=\"right\">22-Jan-2016 06:48  </td><td align=\"right\">1.7K</td><td> </td></tr>\n",
       "<tr><td valign=\"top\"><img alt=\"[IMG]\" src=\"/icons/image2.gif\"/></td><td><a href=\"A20160011820.QKM.MRIVER.PASS.L3D.SST.400.png\">A20160011820.QKM.MRIVER.PASS.L3D.SST.400.png</a></td><td align=\"right\">22-Jan-2016 06:48  </td><td align=\"right\">4.3K</td><td> </td></tr>\n",
       "<tr><td valign=\"top\"><img alt=\"[IMG]\" src=\"/icons/image2.gif\"/></td><td><a href=\"A20160011820.QKM.MRIVER.PASS.L3D.SST.png\">A20160011820.QKM.MRIVER.PASS.L3D.SST.png</a></td><td align=\"right\">22-Jan-2016 06:48  </td><td align=\"right\"> 25K</td><td> </td></tr>\n",
       "<tr><td valign=\"top\"><img alt=\"[   ]\" src=\"/icons/unknown.gif\"/></td><td><a href=\"A20160011820.QKM.MRIVER.PASS.L3D.h5\">A20160011820.QKM.MRIVER.PASS.L3D.h5</a></td><td align=\"right\">22-Jan-2016 06:49  </td><td align=\"right\">5.6M</td><td> </td></tr>\n",
       "<tr><td valign=\"top\"><img alt=\"[IMG]\" src=\"/icons/image2.gif\"/></td><td><a href=\"A20160011820.QKM.MRIVER.PASS.L3D_RRC.CI.200.png\">A20160011820.QKM.MRIVER.PASS.L3D_RRC.CI.200.png</a></td><td align=\"right\">22-Jan-2016 06:49  </td><td align=\"right\">1.0K</td><td> </td></tr>\n",
       "<tr><td valign=\"top\"><img alt=\"[IMG]\" src=\"/icons/image2.gif\"/></td><td><a href=\"A20160011820.QKM.MRIVER.PASS.L3D_RRC.CI.400.png\">A20160011820.QKM.MRIVER.PASS.L3D_RRC.CI.400.png</a></td><td align=\"right\">22-Jan-2016 06:49  </td><td align=\"right\">3.3K</td><td> </td></tr>\n",
       "<tr><td valign=\"top\"><img alt=\"[IMG]\" src=\"/icons/image2.gif\"/></td><td><a href=\"A20160011820.QKM.MRIVER.PASS.L3D_RRC.CI.png\">A20160011820.QKM.MRIVER.PASS.L3D_RRC.CI.png</a></td><td align=\"right\">22-Jan-2016 06:49  </td><td align=\"right\"> 23K</td><td> </td></tr>\n",
       "<tr><td valign=\"top\"><img alt=\"[IMG]\" src=\"/icons/image2.gif\"/></td><td><a href=\"A20160011820.QKM.MRIVER.PASS.L3D_RRC.EFAI.200.png\">A20160011820.QKM.MRIVER.PASS.L3D_RRC.EFAI.200.png</a></td><td align=\"right\">22-Jan-2016 06:49  </td><td align=\"right\">1.4K</td><td> </td></tr>\n",
       "<tr><td valign=\"top\"><img alt=\"[IMG]\" src=\"/icons/image2.gif\"/></td><td><a href=\"A20160011820.QKM.MRIVER.PASS.L3D_RRC.EFAI.400.png\">A20160011820.QKM.MRIVER.PASS.L3D_RRC.EFAI.400.png</a></td><td align=\"right\">22-Jan-2016 06:49  </td><td align=\"right\">3.7K</td><td> </td></tr>\n",
       "<tr><td valign=\"top\"><img alt=\"[IMG]\" src=\"/icons/image2.gif\"/></td><td><a href=\"A20160011820.QKM.MRIVER.PASS.L3D_RRC.EFAI.png\">A20160011820.QKM.MRIVER.PASS.L3D_RRC.EFAI.png</a></td><td align=\"right\">22-Jan-2016 06:49  </td><td align=\"right\"> 25K</td><td> </td></tr>\n",
       "<tr><td valign=\"top\"><img alt=\"[IMG]\" src=\"/icons/image2.gif\"/></td><td><a href=\"A20160011820.QKM.MRIVER.PASS.L3D_RRC.FAI.200.png\">A20160011820.QKM.MRIVER.PASS.L3D_RRC.FAI.200.png</a></td><td align=\"right\">22-Jan-2016 06:48  </td><td align=\"right\">7.7K</td><td> </td></tr>\n",
       "<tr><td valign=\"top\"><img alt=\"[IMG]\" src=\"/icons/image2.gif\"/></td><td><a href=\"A20160011820.QKM.MRIVER.PASS.L3D_RRC.FAI.400.png\">A20160011820.QKM.MRIVER.PASS.L3D_RRC.FAI.400.png</a></td><td align=\"right\">22-Jan-2016 06:48  </td><td align=\"right\"> 25K</td><td> </td></tr>\n",
       "<tr><td valign=\"top\"><img alt=\"[IMG]\" src=\"/icons/image2.gif\"/></td><td><a href=\"A20160011820.QKM.MRIVER.PASS.L3D_RRC.FAI.png\">A20160011820.QKM.MRIVER.PASS.L3D_RRC.FAI.png</a></td><td align=\"right\">22-Jan-2016 06:48  </td><td align=\"right\">106K</td><td> </td></tr>\n",
       "<tr><td valign=\"top\"><img alt=\"[IMG]\" src=\"/icons/image2.gif\"/></td><td><a href=\"A20160011820.QKM.MRIVER.PASS.L3D_RRC.FLH.200.png\">A20160011820.QKM.MRIVER.PASS.L3D_RRC.FLH.200.png</a></td><td align=\"right\">22-Jan-2016 06:49  </td><td align=\"right\">1.7K</td><td> </td></tr>\n",
       "<tr><td valign=\"top\"><img alt=\"[IMG]\" src=\"/icons/image2.gif\"/></td><td><a href=\"A20160011820.QKM.MRIVER.PASS.L3D_RRC.FLH.400.png\">A20160011820.QKM.MRIVER.PASS.L3D_RRC.FLH.400.png</a></td><td align=\"right\">22-Jan-2016 06:49  </td><td align=\"right\">4.3K</td><td> </td></tr>\n",
       "<tr><td valign=\"top\"><img alt=\"[IMG]\" src=\"/icons/image2.gif\"/></td><td><a href=\"A20160011820.QKM.MRIVER.PASS.L3D_RRC.FLH.png\">A20160011820.QKM.MRIVER.PASS.L3D_RRC.FLH.png</a></td><td align=\"right\">22-Jan-2016 06:49  </td><td align=\"right\"> 25K</td><td> </td></tr>\n",
       "<tr><td valign=\"top\"><img alt=\"[IMG]\" src=\"/icons/image2.gif\"/></td><td><a href=\"A20160011820.QKM.MRIVER.PASS.L3D_RRC.RGB.200.png\">A20160011820.QKM.MRIVER.PASS.L3D_RRC.RGB.200.png</a></td><td align=\"right\">22-Jan-2016 06:49  </td><td align=\"right\"> 14K</td><td> </td></tr>\n",
       "<tr><td valign=\"top\"><img alt=\"[IMG]\" src=\"/icons/image2.gif\"/></td><td><a href=\"A20160011820.QKM.MRIVER.PASS.L3D_RRC.RGB.400.png\">A20160011820.QKM.MRIVER.PASS.L3D_RRC.RGB.400.png</a></td><td align=\"right\">22-Jan-2016 06:49  </td><td align=\"right\"> 46K</td><td> </td></tr>\n",
       "<tr><td valign=\"top\"><img alt=\"[IMG]\" src=\"/icons/image2.gif\"/></td><td><a href=\"A20160011820.QKM.MRIVER.PASS.L3D_RRC.RGB.png\">A20160011820.QKM.MRIVER.PASS.L3D_RRC.RGB.png</a></td><td align=\"right\">22-Jan-2016 06:49  </td><td align=\"right\">239K</td><td> </td></tr>\n",
       "<tr><td valign=\"top\"><img alt=\"[IMG]\" src=\"/icons/image2.gif\"/></td><td><a href=\"A20160012000.QKM.MRIVER.PASS.L3D.CHL.200.png\">A20160012000.QKM.MRIVER.PASS.L3D.CHL.200.png</a></td><td align=\"right\">22-Jan-2016 06:49  </td><td align=\"right\">1.7K</td><td> </td></tr>\n",
       "<tr><td valign=\"top\"><img alt=\"[IMG]\" src=\"/icons/image2.gif\"/></td><td><a href=\"A20160012000.QKM.MRIVER.PASS.L3D.CHL.400.png\">A20160012000.QKM.MRIVER.PASS.L3D.CHL.400.png</a></td><td align=\"right\">22-Jan-2016 06:49  </td><td align=\"right\">4.3K</td><td> </td></tr>\n",
       "<tr><td valign=\"top\"><img alt=\"[IMG]\" src=\"/icons/image2.gif\"/></td><td><a href=\"A20160012000.QKM.MRIVER.PASS.L3D.CHL.png\">A20160012000.QKM.MRIVER.PASS.L3D.CHL.png</a></td><td align=\"right\">22-Jan-2016 06:49  </td><td align=\"right\"> 25K</td><td> </td></tr>\n",
       "<tr><td valign=\"top\"><img alt=\"[IMG]\" src=\"/icons/image2.gif\"/></td><td><a href=\"A20160012000.QKM.MRIVER.PASS.L3D.ERGB.200.png\">A20160012000.QKM.MRIVER.PASS.L3D.ERGB.200.png</a></td><td align=\"right\">22-Jan-2016 06:49  </td><td align=\"right\">1.7K</td><td> </td></tr>\n",
       "<tr><td valign=\"top\"><img alt=\"[IMG]\" src=\"/icons/image2.gif\"/></td><td><a href=\"A20160012000.QKM.MRIVER.PASS.L3D.ERGB.400.png\">A20160012000.QKM.MRIVER.PASS.L3D.ERGB.400.png</a></td><td align=\"right\">22-Jan-2016 06:49  </td><td align=\"right\">4.3K</td><td> </td></tr>\n",
       "<tr><td valign=\"top\"><img alt=\"[IMG]\" src=\"/icons/image2.gif\"/></td><td><a href=\"A20160012000.QKM.MRIVER.PASS.L3D.ERGB.png\">A20160012000.QKM.MRIVER.PASS.L3D.ERGB.png</a></td><td align=\"right\">22-Jan-2016 06:49  </td><td align=\"right\"> 36K</td><td> </td></tr>\n",
       "<tr><td valign=\"top\"><img alt=\"[IMG]\" src=\"/icons/image2.gif\"/></td><td><a href=\"A20160012000.QKM.MRIVER.PASS.L3D.NFLH.200.png\">A20160012000.QKM.MRIVER.PASS.L3D.NFLH.200.png</a></td><td align=\"right\">22-Jan-2016 06:49  </td><td align=\"right\">1.7K</td><td> </td></tr>\n",
       "<tr><td valign=\"top\"><img alt=\"[IMG]\" src=\"/icons/image2.gif\"/></td><td><a href=\"A20160012000.QKM.MRIVER.PASS.L3D.NFLH.400.png\">A20160012000.QKM.MRIVER.PASS.L3D.NFLH.400.png</a></td><td align=\"right\">22-Jan-2016 06:49  </td><td align=\"right\">4.3K</td><td> </td></tr>\n",
       "<tr><td valign=\"top\"><img alt=\"[IMG]\" src=\"/icons/image2.gif\"/></td><td><a href=\"A20160012000.QKM.MRIVER.PASS.L3D.NFLH.png\">A20160012000.QKM.MRIVER.PASS.L3D.NFLH.png</a></td><td align=\"right\">22-Jan-2016 06:49  </td><td align=\"right\"> 25K</td><td> </td></tr>\n",
       "<tr><td valign=\"top\"><img alt=\"[IMG]\" src=\"/icons/image2.gif\"/></td><td><a href=\"A20160012000.QKM.MRIVER.PASS.L3D.SST.200.png\">A20160012000.QKM.MRIVER.PASS.L3D.SST.200.png</a></td><td align=\"right\">22-Jan-2016 06:49  </td><td align=\"right\">1.7K</td><td> </td></tr>\n",
       "<tr><td valign=\"top\"><img alt=\"[IMG]\" src=\"/icons/image2.gif\"/></td><td><a href=\"A20160012000.QKM.MRIVER.PASS.L3D.SST.400.png\">A20160012000.QKM.MRIVER.PASS.L3D.SST.400.png</a></td><td align=\"right\">22-Jan-2016 06:49  </td><td align=\"right\">4.3K</td><td> </td></tr>\n",
       "<tr><td valign=\"top\"><img alt=\"[IMG]\" src=\"/icons/image2.gif\"/></td><td><a href=\"A20160012000.QKM.MRIVER.PASS.L3D.SST.png\">A20160012000.QKM.MRIVER.PASS.L3D.SST.png</a></td><td align=\"right\">22-Jan-2016 06:49  </td><td align=\"right\"> 25K</td><td> </td></tr>\n",
       "<tr><td valign=\"top\"><img alt=\"[   ]\" src=\"/icons/unknown.gif\"/></td><td><a href=\"A20160012000.QKM.MRIVER.PASS.L3D.h5\">A20160012000.QKM.MRIVER.PASS.L3D.h5</a></td><td align=\"right\">22-Jan-2016 06:49  </td><td align=\"right\"> 12M</td><td> </td></tr>\n",
       "<tr><td valign=\"top\"><img alt=\"[IMG]\" src=\"/icons/image2.gif\"/></td><td><a href=\"A20160012000.QKM.MRIVER.PASS.L3D_RRC.CI.200.png\">A20160012000.QKM.MRIVER.PASS.L3D_RRC.CI.200.png</a></td><td align=\"right\">22-Jan-2016 06:49  </td><td align=\"right\">3.1K</td><td> </td></tr>\n",
       "<tr><td valign=\"top\"><img alt=\"[IMG]\" src=\"/icons/image2.gif\"/></td><td><a href=\"A20160012000.QKM.MRIVER.PASS.L3D_RRC.CI.400.png\">A20160012000.QKM.MRIVER.PASS.L3D_RRC.CI.400.png</a></td><td align=\"right\">22-Jan-2016 06:49  </td><td align=\"right\">8.6K</td><td> </td></tr>\n",
       "<tr><td valign=\"top\"><img alt=\"[IMG]\" src=\"/icons/image2.gif\"/></td><td><a href=\"A20160012000.QKM.MRIVER.PASS.L3D_RRC.CI.png\">A20160012000.QKM.MRIVER.PASS.L3D_RRC.CI.png</a></td><td align=\"right\">22-Jan-2016 06:49  </td><td align=\"right\"> 41K</td><td> </td></tr>\n",
       "<tr><td valign=\"top\"><img alt=\"[IMG]\" src=\"/icons/image2.gif\"/></td><td><a href=\"A20160012000.QKM.MRIVER.PASS.L3D_RRC.EFAI.200.png\">A20160012000.QKM.MRIVER.PASS.L3D_RRC.EFAI.200.png</a></td><td align=\"right\">22-Jan-2016 06:49  </td><td align=\"right\">1.7K</td><td> </td></tr>\n",
       "<tr><td valign=\"top\"><img alt=\"[IMG]\" src=\"/icons/image2.gif\"/></td><td><a href=\"A20160012000.QKM.MRIVER.PASS.L3D_RRC.EFAI.400.png\">A20160012000.QKM.MRIVER.PASS.L3D_RRC.EFAI.400.png</a></td><td align=\"right\">22-Jan-2016 06:49  </td><td align=\"right\">4.3K</td><td> </td></tr>\n",
       "<tr><td valign=\"top\"><img alt=\"[IMG]\" src=\"/icons/image2.gif\"/></td><td><a href=\"A20160012000.QKM.MRIVER.PASS.L3D_RRC.EFAI.png\">A20160012000.QKM.MRIVER.PASS.L3D_RRC.EFAI.png</a></td><td align=\"right\">22-Jan-2016 06:49  </td><td align=\"right\"> 27K</td><td> </td></tr>\n",
       "<tr><td valign=\"top\"><img alt=\"[IMG]\" src=\"/icons/image2.gif\"/></td><td><a href=\"A20160012000.QKM.MRIVER.PASS.L3D_RRC.FAI.200.png\">A20160012000.QKM.MRIVER.PASS.L3D_RRC.FAI.200.png</a></td><td align=\"right\">22-Jan-2016 06:49  </td><td align=\"right\"> 18K</td><td> </td></tr>\n",
       "<tr><td valign=\"top\"><img alt=\"[IMG]\" src=\"/icons/image2.gif\"/></td><td><a href=\"A20160012000.QKM.MRIVER.PASS.L3D_RRC.FAI.400.png\">A20160012000.QKM.MRIVER.PASS.L3D_RRC.FAI.400.png</a></td><td align=\"right\">22-Jan-2016 06:49  </td><td align=\"right\"> 58K</td><td> </td></tr>\n",
       "<tr><td valign=\"top\"><img alt=\"[IMG]\" src=\"/icons/image2.gif\"/></td><td><a href=\"A20160012000.QKM.MRIVER.PASS.L3D_RRC.FAI.png\">A20160012000.QKM.MRIVER.PASS.L3D_RRC.FAI.png</a></td><td align=\"right\">22-Jan-2016 06:49  </td><td align=\"right\">183K</td><td> </td></tr>\n",
       "<tr><td valign=\"top\"><img alt=\"[IMG]\" src=\"/icons/image2.gif\"/></td><td><a href=\"A20160012000.QKM.MRIVER.PASS.L3D_RRC.FLH.200.png\">A20160012000.QKM.MRIVER.PASS.L3D_RRC.FLH.200.png</a></td><td align=\"right\">22-Jan-2016 06:49  </td><td align=\"right\">1.7K</td><td> </td></tr>\n",
       "<tr><td valign=\"top\"><img alt=\"[IMG]\" src=\"/icons/image2.gif\"/></td><td><a href=\"A20160012000.QKM.MRIVER.PASS.L3D_RRC.FLH.400.png\">A20160012000.QKM.MRIVER.PASS.L3D_RRC.FLH.400.png</a></td><td align=\"right\">22-Jan-2016 06:49  </td><td align=\"right\">4.3K</td><td> </td></tr>\n",
       "<tr><td valign=\"top\"><img alt=\"[IMG]\" src=\"/icons/image2.gif\"/></td><td><a href=\"A20160012000.QKM.MRIVER.PASS.L3D_RRC.FLH.png\">A20160012000.QKM.MRIVER.PASS.L3D_RRC.FLH.png</a></td><td align=\"right\">22-Jan-2016 06:49  </td><td align=\"right\"> 25K</td><td> </td></tr>\n",
       "<tr><td valign=\"top\"><img alt=\"[IMG]\" src=\"/icons/image2.gif\"/></td><td><a href=\"A20160012000.QKM.MRIVER.PASS.L3D_RRC.RGB.200.png\">A20160012000.QKM.MRIVER.PASS.L3D_RRC.RGB.200.png</a></td><td align=\"right\">22-Jan-2016 06:49  </td><td align=\"right\"> 36K</td><td> </td></tr>\n",
       "<tr><td valign=\"top\"><img alt=\"[IMG]\" src=\"/icons/image2.gif\"/></td><td><a href=\"A20160012000.QKM.MRIVER.PASS.L3D_RRC.RGB.400.png\">A20160012000.QKM.MRIVER.PASS.L3D_RRC.RGB.400.png</a></td><td align=\"right\">22-Jan-2016 06:49  </td><td align=\"right\">113K</td><td> </td></tr>\n",
       "<tr><td valign=\"top\"><img alt=\"[IMG]\" src=\"/icons/image2.gif\"/></td><td><a href=\"A20160012000.QKM.MRIVER.PASS.L3D_RRC.RGB.png\">A20160012000.QKM.MRIVER.PASS.L3D_RRC.RGB.png</a></td><td align=\"right\">22-Jan-2016 06:49  </td><td align=\"right\">518K</td><td> </td></tr>\n",
       "<tr><td valign=\"top\"><img alt=\"[IMG]\" src=\"/icons/image2.gif\"/></td><td><a href=\"T20160010440.QKM.MRIVER.PASS.L3D.SST.200.png\">T20160010440.QKM.MRIVER.PASS.L3D.SST.200.png</a></td><td align=\"right\">22-Jan-2016 17:17  </td><td align=\"right\">1.7K</td><td> </td></tr>\n",
       "<tr><td valign=\"top\"><img alt=\"[IMG]\" src=\"/icons/image2.gif\"/></td><td><a href=\"T20160010440.QKM.MRIVER.PASS.L3D.SST.400.png\">T20160010440.QKM.MRIVER.PASS.L3D.SST.400.png</a></td><td align=\"right\">22-Jan-2016 17:17  </td><td align=\"right\">4.3K</td><td> </td></tr>\n",
       "<tr><td valign=\"top\"><img alt=\"[IMG]\" src=\"/icons/image2.gif\"/></td><td><a href=\"T20160010440.QKM.MRIVER.PASS.L3D.SST.png\">T20160010440.QKM.MRIVER.PASS.L3D.SST.png</a></td><td align=\"right\">22-Jan-2016 17:17  </td><td align=\"right\"> 25K</td><td> </td></tr>\n",
       "<tr><td valign=\"top\"><img alt=\"[IMG]\" src=\"/icons/image2.gif\"/></td><td><a href=\"T20160010440.QKM.MRIVER.PASS.L3D.SST4.200.png\">T20160010440.QKM.MRIVER.PASS.L3D.SST4.200.png</a></td><td align=\"right\">22-Jan-2016 17:17  </td><td align=\"right\">1.7K</td><td> </td></tr>\n",
       "<tr><td valign=\"top\"><img alt=\"[IMG]\" src=\"/icons/image2.gif\"/></td><td><a href=\"T20160010440.QKM.MRIVER.PASS.L3D.SST4.400.png\">T20160010440.QKM.MRIVER.PASS.L3D.SST4.400.png</a></td><td align=\"right\">22-Jan-2016 17:17  </td><td align=\"right\">4.3K</td><td> </td></tr>\n",
       "<tr><td valign=\"top\"><img alt=\"[IMG]\" src=\"/icons/image2.gif\"/></td><td><a href=\"T20160010440.QKM.MRIVER.PASS.L3D.SST4.png\">T20160010440.QKM.MRIVER.PASS.L3D.SST4.png</a></td><td align=\"right\">22-Jan-2016 17:17  </td><td align=\"right\"> 25K</td><td> </td></tr>\n",
       "<tr><td valign=\"top\"><img alt=\"[   ]\" src=\"/icons/unknown.gif\"/></td><td><a href=\"T20160010440.QKM.MRIVER.PASS.L3D.h5\">T20160010440.QKM.MRIVER.PASS.L3D.h5</a></td><td align=\"right\">22-Jan-2016 17:17  </td><td align=\"right\">1.0M</td><td> </td></tr>\n",
       "<tr><td valign=\"top\"><img alt=\"[IMG]\" src=\"/icons/image2.gif\"/></td><td><a href=\"T20160011645.QKM.MRIVER.PASS.L3D.CHL.200.png\">T20160011645.QKM.MRIVER.PASS.L3D.CHL.200.png</a></td><td align=\"right\">22-Jan-2016 18:17  </td><td align=\"right\">1.7K</td><td> </td></tr>\n",
       "<tr><td valign=\"top\"><img alt=\"[IMG]\" src=\"/icons/image2.gif\"/></td><td><a href=\"T20160011645.QKM.MRIVER.PASS.L3D.CHL.400.png\">T20160011645.QKM.MRIVER.PASS.L3D.CHL.400.png</a></td><td align=\"right\">22-Jan-2016 18:17  </td><td align=\"right\">4.3K</td><td> </td></tr>\n",
       "<tr><td valign=\"top\"><img alt=\"[IMG]\" src=\"/icons/image2.gif\"/></td><td><a href=\"T20160011645.QKM.MRIVER.PASS.L3D.CHL.png\">T20160011645.QKM.MRIVER.PASS.L3D.CHL.png</a></td><td align=\"right\">22-Jan-2016 18:17  </td><td align=\"right\"> 25K</td><td> </td></tr>\n",
       "<tr><td valign=\"top\"><img alt=\"[IMG]\" src=\"/icons/image2.gif\"/></td><td><a href=\"T20160011645.QKM.MRIVER.PASS.L3D.ERGB.200.png\">T20160011645.QKM.MRIVER.PASS.L3D.ERGB.200.png</a></td><td align=\"right\">22-Jan-2016 18:17  </td><td align=\"right\">1.7K</td><td> </td></tr>\n",
       "<tr><td valign=\"top\"><img alt=\"[IMG]\" src=\"/icons/image2.gif\"/></td><td><a href=\"T20160011645.QKM.MRIVER.PASS.L3D.ERGB.400.png\">T20160011645.QKM.MRIVER.PASS.L3D.ERGB.400.png</a></td><td align=\"right\">22-Jan-2016 18:17  </td><td align=\"right\">4.3K</td><td> </td></tr>\n",
       "<tr><td valign=\"top\"><img alt=\"[IMG]\" src=\"/icons/image2.gif\"/></td><td><a href=\"T20160011645.QKM.MRIVER.PASS.L3D.ERGB.png\">T20160011645.QKM.MRIVER.PASS.L3D.ERGB.png</a></td><td align=\"right\">22-Jan-2016 18:17  </td><td align=\"right\"> 35K</td><td> </td></tr>\n",
       "<tr><td valign=\"top\"><img alt=\"[IMG]\" src=\"/icons/image2.gif\"/></td><td><a href=\"T20160011645.QKM.MRIVER.PASS.L3D.NFLH.200.png\">T20160011645.QKM.MRIVER.PASS.L3D.NFLH.200.png</a></td><td align=\"right\">22-Jan-2016 18:17  </td><td align=\"right\">1.7K</td><td> </td></tr>\n",
       "<tr><td valign=\"top\"><img alt=\"[IMG]\" src=\"/icons/image2.gif\"/></td><td><a href=\"T20160011645.QKM.MRIVER.PASS.L3D.NFLH.400.png\">T20160011645.QKM.MRIVER.PASS.L3D.NFLH.400.png</a></td><td align=\"right\">22-Jan-2016 18:17  </td><td align=\"right\">4.3K</td><td> </td></tr>\n",
       "<tr><td valign=\"top\"><img alt=\"[IMG]\" src=\"/icons/image2.gif\"/></td><td><a href=\"T20160011645.QKM.MRIVER.PASS.L3D.NFLH.png\">T20160011645.QKM.MRIVER.PASS.L3D.NFLH.png</a></td><td align=\"right\">22-Jan-2016 18:17  </td><td align=\"right\"> 25K</td><td> </td></tr>\n",
       "<tr><td valign=\"top\"><img alt=\"[IMG]\" src=\"/icons/image2.gif\"/></td><td><a href=\"T20160011645.QKM.MRIVER.PASS.L3D.SST.200.png\">T20160011645.QKM.MRIVER.PASS.L3D.SST.200.png</a></td><td align=\"right\">22-Jan-2016 18:17  </td><td align=\"right\">1.7K</td><td> </td></tr>\n",
       "<tr><td valign=\"top\"><img alt=\"[IMG]\" src=\"/icons/image2.gif\"/></td><td><a href=\"T20160011645.QKM.MRIVER.PASS.L3D.SST.400.png\">T20160011645.QKM.MRIVER.PASS.L3D.SST.400.png</a></td><td align=\"right\">22-Jan-2016 18:17  </td><td align=\"right\">4.3K</td><td> </td></tr>\n",
       "<tr><td valign=\"top\"><img alt=\"[IMG]\" src=\"/icons/image2.gif\"/></td><td><a href=\"T20160011645.QKM.MRIVER.PASS.L3D.SST.png\">T20160011645.QKM.MRIVER.PASS.L3D.SST.png</a></td><td align=\"right\">22-Jan-2016 18:17  </td><td align=\"right\"> 25K</td><td> </td></tr>\n",
       "<tr><td valign=\"top\"><img alt=\"[   ]\" src=\"/icons/unknown.gif\"/></td><td><a href=\"T20160011645.QKM.MRIVER.PASS.L3D.h5\">T20160011645.QKM.MRIVER.PASS.L3D.h5</a></td><td align=\"right\">22-Jan-2016 18:18  </td><td align=\"right\"> 64M</td><td> </td></tr>\n",
       "<tr><td valign=\"top\"><img alt=\"[IMG]\" src=\"/icons/image2.gif\"/></td><td><a href=\"T20160011645.QKM.MRIVER.PASS.L3D_RRC.CI.200.png\">T20160011645.QKM.MRIVER.PASS.L3D_RRC.CI.200.png</a></td><td align=\"right\">22-Jan-2016 18:18  </td><td align=\"right\">1.6K</td><td> </td></tr>\n",
       "<tr><td valign=\"top\"><img alt=\"[IMG]\" src=\"/icons/image2.gif\"/></td><td><a href=\"T20160011645.QKM.MRIVER.PASS.L3D_RRC.CI.400.png\">T20160011645.QKM.MRIVER.PASS.L3D_RRC.CI.400.png</a></td><td align=\"right\">22-Jan-2016 18:18  </td><td align=\"right\">4.7K</td><td> </td></tr>\n",
       "<tr><td valign=\"top\"><img alt=\"[IMG]\" src=\"/icons/image2.gif\"/></td><td><a href=\"T20160011645.QKM.MRIVER.PASS.L3D_RRC.CI.png\">T20160011645.QKM.MRIVER.PASS.L3D_RRC.CI.png</a></td><td align=\"right\">22-Jan-2016 18:18  </td><td align=\"right\"> 28K</td><td> </td></tr>\n",
       "<tr><td valign=\"top\"><img alt=\"[IMG]\" src=\"/icons/image2.gif\"/></td><td><a href=\"T20160011645.QKM.MRIVER.PASS.L3D_RRC.EFAI.200.png\">T20160011645.QKM.MRIVER.PASS.L3D_RRC.EFAI.200.png</a></td><td align=\"right\">22-Jan-2016 18:18  </td><td align=\"right\">1.9K</td><td> </td></tr>\n",
       "<tr><td valign=\"top\"><img alt=\"[IMG]\" src=\"/icons/image2.gif\"/></td><td><a href=\"T20160011645.QKM.MRIVER.PASS.L3D_RRC.EFAI.400.png\">T20160011645.QKM.MRIVER.PASS.L3D_RRC.EFAI.400.png</a></td><td align=\"right\">22-Jan-2016 18:18  </td><td align=\"right\">5.9K</td><td> </td></tr>\n",
       "<tr><td valign=\"top\"><img alt=\"[IMG]\" src=\"/icons/image2.gif\"/></td><td><a href=\"T20160011645.QKM.MRIVER.PASS.L3D_RRC.EFAI.png\">T20160011645.QKM.MRIVER.PASS.L3D_RRC.EFAI.png</a></td><td align=\"right\">22-Jan-2016 18:18  </td><td align=\"right\"> 26K</td><td> </td></tr>\n",
       "<tr><td valign=\"top\"><img alt=\"[IMG]\" src=\"/icons/image2.gif\"/></td><td><a href=\"T20160011645.QKM.MRIVER.PASS.L3D_RRC.FAI.200.png\">T20160011645.QKM.MRIVER.PASS.L3D_RRC.FAI.200.png</a></td><td align=\"right\">22-Jan-2016 18:18  </td><td align=\"right\"> 28K</td><td> </td></tr>\n",
       "<tr><td valign=\"top\"><img alt=\"[IMG]\" src=\"/icons/image2.gif\"/></td><td><a href=\"T20160011645.QKM.MRIVER.PASS.L3D_RRC.FAI.400.png\">T20160011645.QKM.MRIVER.PASS.L3D_RRC.FAI.400.png</a></td><td align=\"right\">22-Jan-2016 18:18  </td><td align=\"right\">105K</td><td> </td></tr>\n",
       "<tr><td valign=\"top\"><img alt=\"[IMG]\" src=\"/icons/image2.gif\"/></td><td><a href=\"T20160011645.QKM.MRIVER.PASS.L3D_RRC.FAI.png\">T20160011645.QKM.MRIVER.PASS.L3D_RRC.FAI.png</a></td><td align=\"right\">22-Jan-2016 18:18  </td><td align=\"right\">758K</td><td> </td></tr>\n",
       "<tr><td valign=\"top\"><img alt=\"[IMG]\" src=\"/icons/image2.gif\"/></td><td><a href=\"T20160011645.QKM.MRIVER.PASS.L3D_RRC.FLH.200.png\">T20160011645.QKM.MRIVER.PASS.L3D_RRC.FLH.200.png</a></td><td align=\"right\">22-Jan-2016 18:18  </td><td align=\"right\">1.7K</td><td> </td></tr>\n",
       "<tr><td valign=\"top\"><img alt=\"[IMG]\" src=\"/icons/image2.gif\"/></td><td><a href=\"T20160011645.QKM.MRIVER.PASS.L3D_RRC.FLH.400.png\">T20160011645.QKM.MRIVER.PASS.L3D_RRC.FLH.400.png</a></td><td align=\"right\">22-Jan-2016 18:18  </td><td align=\"right\">4.3K</td><td> </td></tr>\n",
       "<tr><td valign=\"top\"><img alt=\"[IMG]\" src=\"/icons/image2.gif\"/></td><td><a href=\"T20160011645.QKM.MRIVER.PASS.L3D_RRC.FLH.png\">T20160011645.QKM.MRIVER.PASS.L3D_RRC.FLH.png</a></td><td align=\"right\">22-Jan-2016 18:18  </td><td align=\"right\"> 25K</td><td> </td></tr>\n",
       "<tr><td valign=\"top\"><img alt=\"[IMG]\" src=\"/icons/image2.gif\"/></td><td><a href=\"T20160011645.QKM.MRIVER.PASS.L3D_RRC.RGB.200.png\">T20160011645.QKM.MRIVER.PASS.L3D_RRC.RGB.200.png</a></td><td align=\"right\">22-Jan-2016 18:18  </td><td align=\"right\"> 63K</td><td> </td></tr>\n",
       "<tr><td valign=\"top\"><img alt=\"[IMG]\" src=\"/icons/image2.gif\"/></td><td><a href=\"T20160011645.QKM.MRIVER.PASS.L3D_RRC.RGB.400.png\">T20160011645.QKM.MRIVER.PASS.L3D_RRC.RGB.400.png</a></td><td align=\"right\">22-Jan-2016 18:18  </td><td align=\"right\">218K</td><td> </td></tr>\n",
       "<tr><td valign=\"top\"><img alt=\"[IMG]\" src=\"/icons/image2.gif\"/></td><td><a href=\"T20160011645.QKM.MRIVER.PASS.L3D_RRC.RGB.png\">T20160011645.QKM.MRIVER.PASS.L3D_RRC.RGB.png</a></td><td align=\"right\">22-Jan-2016 18:18  </td><td align=\"right\">1.3M</td><td> </td></tr>\n",
       "<tr><th colspan=\"5\"><hr/></th></tr>\n",
       "</table>\n",
       "</body></html>"
      ]
     },
     "execution_count": 78,
     "metadata": {},
     "output_type": "execute_result"
    }
   ],
   "source": [
    "restext = requests.get(url + row.string).text  # access text on new website\n",
    "soup_dir = BeautifulSoup(restext, \"lxml\")  # open up page for a day\n",
    "soup_dir"
   ]
  },
  {
   "cell_type": "markdown",
   "metadata": {},
   "source": [
    "We can again compare this with the website itself to help understand what we are seeing: another list of links."
   ]
  },
  {
   "cell_type": "markdown",
   "metadata": {},
   "source": [
    "---\n",
    "### *Exercise*\n",
    "\n",
    "> We already spent time earlier understanding what the different parts of the web address for an image file represents. So, find the sort of file that you want from the available options for this day. Which variable do you want to access? Which size image? Note that there is more than one time per day and more than one satellite data source.\n",
    "\n",
    "---"
   ]
  },
  {
   "cell_type": "markdown",
   "metadata": {},
   "source": [
    "Now we can now set up a loop to loop over the lines with links on both the first page (list of links to the daily page) and the second (list of links of files from a given day)."
   ]
  },
  {
   "cell_type": "code",
   "execution_count": 79,
   "metadata": {
    "collapsed": false
   },
   "outputs": [],
   "source": [
    "image_locs = []\n",
    "for row in soup.findAll('a')[5:20]:  # loop through each day, but only do first part of Jan 2016 to save time\n",
    "    \n",
    "    restext = requests.get(url + row.string).text\n",
    "    soup_dir = BeautifulSoup(restext, \"lxml\")  # open up page for a day\n",
    "    \n",
    "    for File in soup_dir.findAll('a')[5:]:  # find all files for this day\n",
    "\n",
    "        # search for the image file we want, might be more than one for a day\n",
    "        fname = '.QKM.MRIVER.PASS.L3D_RRC.RGB.png'\n",
    "\n",
    "        if fname in File.string:  # check for which link on this page is the data we want\n",
    "            image_locs.append(url + row.string + File.string)  # save file address"
   ]
  },
  {
   "cell_type": "markdown",
   "metadata": {},
   "source": [
    "Now we have all of the web addresses for the data files of this type for 2016:"
   ]
  },
  {
   "cell_type": "code",
   "execution_count": 81,
   "metadata": {
    "collapsed": false
   },
   "outputs": [
    {
     "data": {
      "text/plain": [
       "['http://optics.marine.usf.edu/subscription/modis/MRIVER/2016/daily/001/A20160011820.QKM.MRIVER.PASS.L3D_RRC.RGB.png',\n",
       " 'http://optics.marine.usf.edu/subscription/modis/MRIVER/2016/daily/001/A20160012000.QKM.MRIVER.PASS.L3D_RRC.RGB.png',\n",
       " 'http://optics.marine.usf.edu/subscription/modis/MRIVER/2016/daily/001/T20160011645.QKM.MRIVER.PASS.L3D_RRC.RGB.png',\n",
       " 'http://optics.marine.usf.edu/subscription/modis/MRIVER/2016/daily/002/A20160021905.QKM.MRIVER.PASS.L3D_RRC.RGB.png',\n",
       " 'http://optics.marine.usf.edu/subscription/modis/MRIVER/2016/daily/002/T20160021550.QKM.MRIVER.PASS.L3D_RRC.RGB.png',\n",
       " 'http://optics.marine.usf.edu/subscription/modis/MRIVER/2016/daily/002/T20160021730.QKM.MRIVER.PASS.L3D_RRC.RGB.png',\n",
       " 'http://optics.marine.usf.edu/subscription/modis/MRIVER/2016/daily/003/A20160031945.QKM.MRIVER.PASS.L3D_RRC.RGB.png',\n",
       " 'http://optics.marine.usf.edu/subscription/modis/MRIVER/2016/daily/003/T20160031635.QKM.MRIVER.PASS.L3D_RRC.RGB.png',\n",
       " 'http://optics.marine.usf.edu/subscription/modis/MRIVER/2016/daily/004/A20160041850.QKM.MRIVER.PASS.L3D_RRC.RGB.png',\n",
       " 'http://optics.marine.usf.edu/subscription/modis/MRIVER/2016/daily/004/T20160041720.QKM.MRIVER.PASS.L3D_RRC.RGB.png',\n",
       " 'http://optics.marine.usf.edu/subscription/modis/MRIVER/2016/daily/005/A20160051935.QKM.MRIVER.PASS.L3D_RRC.RGB.png',\n",
       " 'http://optics.marine.usf.edu/subscription/modis/MRIVER/2016/daily/005/T20160051620.QKM.MRIVER.PASS.L3D_RRC.RGB.png',\n",
       " 'http://optics.marine.usf.edu/subscription/modis/MRIVER/2016/daily/006/A20160061840.QKM.MRIVER.PASS.L3D_RRC.RGB.png',\n",
       " 'http://optics.marine.usf.edu/subscription/modis/MRIVER/2016/daily/006/T20160061705.QKM.MRIVER.PASS.L3D_RRC.RGB.png',\n",
       " 'http://optics.marine.usf.edu/subscription/modis/MRIVER/2016/daily/007/A20160071920.QKM.MRIVER.PASS.L3D_RRC.RGB.png',\n",
       " 'http://optics.marine.usf.edu/subscription/modis/MRIVER/2016/daily/007/T20160071610.QKM.MRIVER.PASS.L3D_RRC.RGB.png',\n",
       " 'http://optics.marine.usf.edu/subscription/modis/MRIVER/2016/daily/008/A20160081825.QKM.MRIVER.PASS.L3D_RRC.RGB.png',\n",
       " 'http://optics.marine.usf.edu/subscription/modis/MRIVER/2016/daily/008/A20160082005.QKM.MRIVER.PASS.L3D_RRC.RGB.png',\n",
       " 'http://optics.marine.usf.edu/subscription/modis/MRIVER/2016/daily/008/T20160081655.QKM.MRIVER.PASS.L3D_RRC.RGB.png',\n",
       " 'http://optics.marine.usf.edu/subscription/modis/MRIVER/2016/daily/009/A20160091910.QKM.MRIVER.PASS.L3D_RRC.RGB.png',\n",
       " 'http://optics.marine.usf.edu/subscription/modis/MRIVER/2016/daily/009/T20160091555.QKM.MRIVER.PASS.L3D_RRC.RGB.png',\n",
       " 'http://optics.marine.usf.edu/subscription/modis/MRIVER/2016/daily/009/T20160091735.QKM.MRIVER.PASS.L3D_RRC.RGB.png',\n",
       " 'http://optics.marine.usf.edu/subscription/modis/MRIVER/2016/daily/010/A20160101955.QKM.MRIVER.PASS.L3D_RRC.RGB.png',\n",
       " 'http://optics.marine.usf.edu/subscription/modis/MRIVER/2016/daily/010/T20160101640.QKM.MRIVER.PASS.L3D_RRC.RGB.png',\n",
       " 'http://optics.marine.usf.edu/subscription/modis/MRIVER/2016/daily/011/A20160111855.QKM.MRIVER.PASS.L3D_RRC.RGB.png',\n",
       " 'http://optics.marine.usf.edu/subscription/modis/MRIVER/2016/daily/011/T20160111725.QKM.MRIVER.PASS.L3D_RRC.RGB.png',\n",
       " 'http://optics.marine.usf.edu/subscription/modis/MRIVER/2016/daily/012/A20160121940.QKM.MRIVER.PASS.L3D_RRC.RGB.png',\n",
       " 'http://optics.marine.usf.edu/subscription/modis/MRIVER/2016/daily/012/T20160121630.QKM.MRIVER.PASS.L3D_RRC.RGB.png',\n",
       " 'http://optics.marine.usf.edu/subscription/modis/MRIVER/2016/daily/013/A20160131845.QKM.MRIVER.PASS.L3D_RRC.RGB.png',\n",
       " 'http://optics.marine.usf.edu/subscription/modis/MRIVER/2016/daily/013/T20160131710.QKM.MRIVER.PASS.L3D_RRC.RGB.png',\n",
       " 'http://optics.marine.usf.edu/subscription/modis/MRIVER/2016/daily/014/A20160141930.QKM.MRIVER.PASS.L3D_RRC.RGB.png',\n",
       " 'http://optics.marine.usf.edu/subscription/modis/MRIVER/2016/daily/014/T20160141615.QKM.MRIVER.PASS.L3D_RRC.RGB.png',\n",
       " 'http://optics.marine.usf.edu/subscription/modis/MRIVER/2016/daily/015/A20160151835.QKM.MRIVER.PASS.L3D_RRC.RGB.png',\n",
       " 'http://optics.marine.usf.edu/subscription/modis/MRIVER/2016/daily/015/T20160151700.QKM.MRIVER.PASS.L3D_RRC.RGB.png']"
      ]
     },
     "execution_count": 81,
     "metadata": {},
     "output_type": "execute_result"
    }
   ],
   "source": [
    "image_locs"
   ]
  },
  {
   "cell_type": "markdown",
   "metadata": {},
   "source": [
    "Our next step would be to read in the data from these addresses, with something like the following:"
   ]
  },
  {
   "cell_type": "code",
   "execution_count": 80,
   "metadata": {
    "collapsed": false
   },
   "outputs": [],
   "source": [
    "from PIL import Image\n",
    "from io import BytesIO\n",
    "import numpy as np\n",
    "\n",
    "response = requests.get(image_locs[0])\n",
    "img = Image.open(BytesIO(response.content))\n",
    "foo = np.asarray(img)"
   ]
  },
  {
   "cell_type": "markdown",
   "metadata": {},
   "source": [
    "But, we will talk about image processing in a subsequent class."
   ]
  },
  {
   "cell_type": "markdown",
   "metadata": {},
   "source": [
    "## 3. Result\n",
    "\n",
    "I did these steps previously in order to gather relevant satellite data for my research on my own computer so I could use it, and in order to make the plots myself and use better colormaps.\n",
    "\n",
    "[Here](https://github.com/kthyng/sat/blob/master/plot_sat.py) is my code for that effort. You will recognize a lot of it!\n",
    "\n",
    "And [here](http://pong.tamu.edu/~kthyng/projects/sat/figures/) are the satellite images I made."
   ]
  }
 ],
 "metadata": {
  "kernelspec": {
   "display_name": "Python 3",
   "language": "python",
   "name": "python3"
  },
  "language_info": {
   "codemirror_mode": {
    "name": "ipython",
    "version": 3
   },
   "file_extension": ".py",
   "mimetype": "text/x-python",
   "name": "python",
   "nbconvert_exporter": "python",
   "pygments_lexer": "ipython3",
   "version": "3.5.1"
  }
 },
 "nbformat": 4,
 "nbformat_minor": 0
}
