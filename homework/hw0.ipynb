{
 "cells": [
  {
   "cell_type": "markdown",
   "metadata": {},
   "source": [
    "# Homework 0\n",
    "## Due Thursday Jan. 21st\n",
    "\n",
    "This homework largely relies on information in  `materials/00 Course introduction`. The overall idea is that we want you and your computer to be prepared to actively follow along in class."
   ]
  },
  {
   "cell_type": "markdown",
   "metadata": {},
   "source": [
    "### 1. Get Python 3\n",
    "Download Python 3 using Anaconda."
   ]
  },
  {
   "cell_type": "markdown",
   "metadata": {},
   "source": [
    "### 2. Git and Jupyter notebooks\n",
    "\n",
    "Create an account on GitHub. Install git on your computer. Clone the class repository. Open a Jupyter notebook from the class materials on a local notebook server."
   ]
  },
  {
   "cell_type": "markdown",
   "metadata": {},
   "source": [
    "### 3. Create your homework\n",
    "\n",
    "#### Create your homework solution repository\n",
    "In your account on the github webpage, click on the Repositories tab and then the green \"New\" button in the upper right. You'll need to keep this repo public. After creating this new repo, follow the instructions on the next page for quick setup or to create a new repository on the command line. This makes it so that you have the repo both on github and on your local machine. Email to us the location of this repo on github — it should be something like `http://github.com/kthyng/python4geosciences-hw`, where \"kthyng\" is replaced with your github username.\n",
    "\n",
    "#### Make your homework solution notebook\n",
    "Start up your local notebook server in your new repo and create a new Jupyter notebook called `hw0-solution.ipynb`. Go through the steps to push this notebook to your github repo, where we will be able to see it."
   ]
  }
 ],
 "metadata": {
  "kernelspec": {
   "display_name": "Python 3",
   "language": "python",
   "name": "python3"
  },
  "language_info": {
   "codemirror_mode": {
    "name": "ipython",
    "version": 3
   },
   "file_extension": ".py",
   "mimetype": "text/x-python",
   "name": "python",
   "nbconvert_exporter": "python",
   "pygments_lexer": "ipython3",
   "version": "3.5.1"
  }
 },
 "nbformat": 4,
 "nbformat_minor": 0
}
