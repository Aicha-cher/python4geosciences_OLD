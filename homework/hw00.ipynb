{
 "cells": [
  {
   "cell_type": "markdown",
   "metadata": {},
   "source": [
    "# Homework 0\n",
    "## Due Thursday Jan. 21st\n",
    "\n",
    "This homework largely relies on information in  `materials/00 Course introduction`. The overall idea is that we want you and your computer to be prepared to actively follow along in class. In your homework solution for this and subsequent weeks, please imitate the format of this notebook and respond to each question individually, even if just to acknowledge that you have done it."
   ]
  },
  {
   "cell_type": "markdown",
   "metadata": {},
   "source": [
    "## 1. Get Python 3\n",
    "Download Python 3 using Anaconda."
   ]
  },
  {
   "cell_type": "markdown",
   "metadata": {},
   "source": [
    "## 2. Git and Jupyter notebooks\n",
    "\n",
    "Create an account on GitHub. Install git on your computer. Clone the class repository. Open a Jupyter notebook from the class materials on a local notebook server.\n",
    "\n",
    "If you are using GitHub Desktop (a way to avoid using the terminal window), you'll still need an account on github and you can then interact with it through the GitHub Desktop application instead of through the terminal window."
   ]
  },
  {
   "cell_type": "markdown",
   "metadata": {},
   "source": [
    "## 3. Create your homework\n",
    "\n",
    "### Create your homework solution repository\n",
    "Email to us the location of this repo on github — it should be something like `http://github.com/kthyng/python4geosciences-hw`, where \"kthyng\" is replaced with your github username.\n",
    "\n",
    "### Make your homework solution notebook\n",
    "Create a new Jupyter notebook called `hw0-solution.ipynb`. Type `hello world` (or anything, really) into a cell, and save your file. Go through the steps to push this notebook to your github repo, where we will be able to see it."
   ]
  },
  {
   "cell_type": "code",
   "execution_count": null,
   "metadata": {
    "collapsed": true
   },
   "outputs": [],
   "source": []
  }
 ],
 "metadata": {
  "kernelspec": {
   "display_name": "Python 3",
   "language": "python",
   "name": "python3"
  },
  "language_info": {
   "codemirror_mode": {
    "name": "ipython",
    "version": 3
   },
   "file_extension": ".py",
   "mimetype": "text/x-python",
   "name": "python",
   "nbconvert_exporter": "python",
   "pygments_lexer": "ipython3",
   "version": "3.5.1"
  }
 },
 "nbformat": 4,
 "nbformat_minor": 0
}
