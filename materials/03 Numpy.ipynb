{
 "cells": [
  {
   "cell_type": "markdown",
   "metadata": {},
   "source": [
    "# 03 Numpy"
   ]
  },
  {
   "cell_type": "code",
   "execution_count": 3,
   "metadata": {
    "collapsed": true
   },
   "outputs": [],
   "source": [
    "import numpy as np"
   ]
  },
  {
   "cell_type": "markdown",
   "metadata": {},
   "source": [
    "The core of the `numpy` package is the `array` class. Let's examine that first. We can make an array out of a sequence, like a list."
   ]
  },
  {
   "cell_type": "code",
   "execution_count": 4,
   "metadata": {
    "collapsed": false
   },
   "outputs": [
    {
     "data": {
      "text/plain": [
       "array([1, 2, 3, 4, 5])"
      ]
     },
     "execution_count": 4,
     "metadata": {},
     "output_type": "execute_result"
    }
   ],
   "source": [
    "d = [1, 2, 3, 4, 5]\n",
    "np.array(d)"
   ]
  },
  {
   "cell_type": "markdown",
   "metadata": {},
   "source": [
    "### data types\n",
    "\n",
    "Unlike lists, arrays must be homogeneous, in that the data types of each element must be the same. The data type of the array us upcast to be able to represent all of the data. So, if only one element is a float, all elements will be converted to floats."
   ]
  },
  {
   "cell_type": "code",
   "execution_count": 5,
   "metadata": {
    "collapsed": false
   },
   "outputs": [
    {
     "data": {
      "text/plain": [
       "array([ 1.    ,  2.    ,  3.1415,  4.    ,  5.    ])"
      ]
     },
     "execution_count": 5,
     "metadata": {},
     "output_type": "execute_result"
    }
   ],
   "source": [
    "d = [1, 2, 3.1415, 4, 5]\n",
    "np.array(d)"
   ]
  },
  {
   "cell_type": "markdown",
   "metadata": {},
   "source": [
    "You can query the datatype by examaning the dtype attribute of the array."
   ]
  },
  {
   "cell_type": "code",
   "execution_count": 49,
   "metadata": {
    "collapsed": false
   },
   "outputs": [
    {
     "data": {
      "text/plain": [
       "dtype('float64')"
      ]
     },
     "execution_count": 49,
     "metadata": {},
     "output_type": "execute_result"
    }
   ],
   "source": [
    "d = [1, 2, 3.1415, 4, 5]\n",
    "arr = np.array(d)\n",
    "arr.dtype"
   ]
  },
  {
   "cell_type": "markdown",
   "metadata": {},
   "source": [
    "Array types may be defined explicity in the call"
   ]
  },
  {
   "cell_type": "code",
   "execution_count": 52,
   "metadata": {
    "collapsed": false
   },
   "outputs": [
    {
     "data": {
      "text/plain": [
       "array([ 1.,  2.,  3.,  4.,  5.], dtype=float32)"
      ]
     },
     "execution_count": 52,
     "metadata": {},
     "output_type": "execute_result"
    }
   ],
   "source": [
    "arr = np.array([1, 2, 3, 4, 5], dtype='float32')\n",
    "arr"
   ]
  },
  {
   "cell_type": "markdown",
   "metadata": {},
   "source": [
    "Complex numbers are noted with a lowercase `j` or uppercase `J`, like this"
   ]
  },
  {
   "cell_type": "code",
   "execution_count": 56,
   "metadata": {
    "collapsed": false
   },
   "outputs": [
    {
     "name": "stdout",
     "output_type": "stream",
     "text": [
      "[ 1.+2.j  3.+4.j]\n"
     ]
    },
    {
     "data": {
      "text/plain": [
       "dtype('complex128')"
      ]
     },
     "execution_count": 56,
     "metadata": {},
     "output_type": "execute_result"
    }
   ],
   "source": [
    "cmplx = np.array([1.0+2.0j, 3.0+4.0J])\n",
    "print(cmplx)\n",
    "cmplx.dtype"
   ]
  },
  {
   "cell_type": "markdown",
   "metadata": {},
   "source": [
    "As we have seen before, arrays are like multidimensional sequences. We can create a 2D array by supplying a list of lists as the argument."
   ]
  },
  {
   "cell_type": "code",
   "execution_count": 58,
   "metadata": {
    "collapsed": false
   },
   "outputs": [
    {
     "data": {
      "text/plain": [
       "array([[ 1.,  2.,  3.],\n",
       "       [ 4.,  5.,  6.]])"
      ]
     },
     "execution_count": 58,
     "metadata": {},
     "output_type": "execute_result"
    }
   ],
   "source": [
    "arr = np.array([[1., 2., 3.,], [4., 5., 6.]])\n",
    "arr"
   ]
  },
  {
   "cell_type": "markdown",
   "metadata": {},
   "source": [
    "### Array attributes\n",
    "\n",
    "Arrays have a few other important attributes. Note attributes never have paretheses after them. Methods always do."
   ]
  },
  {
   "cell_type": "code",
   "execution_count": 59,
   "metadata": {
    "collapsed": false
   },
   "outputs": [
    {
     "data": {
      "text/plain": [
       "6"
      ]
     },
     "execution_count": 59,
     "metadata": {},
     "output_type": "execute_result"
    }
   ],
   "source": [
    "arr.size          # The number of elements in the array"
   ]
  },
  {
   "cell_type": "code",
   "execution_count": 60,
   "metadata": {
    "collapsed": false
   },
   "outputs": [
    {
     "data": {
      "text/plain": [
       "(2, 3)"
      ]
     },
     "execution_count": 60,
     "metadata": {},
     "output_type": "execute_result"
    }
   ],
   "source": [
    "arr.shape         # The shape of the array (i.e., the size of each dimension)"
   ]
  },
  {
   "cell_type": "code",
   "execution_count": 61,
   "metadata": {
    "collapsed": false
   },
   "outputs": [
    {
     "data": {
      "text/plain": [
       "2"
      ]
     },
     "execution_count": 61,
     "metadata": {},
     "output_type": "execute_result"
    }
   ],
   "source": [
    "arr.ndim          # The number of dimensions of the array"
   ]
  },
  {
   "cell_type": "markdown",
   "metadata": {},
   "source": [
    "### Setting array shape\n",
    "\n",
    "You can set the `array.shape` attribute to change the shape of the array. This attribute does not change the elements of the array, or how it is stored in memory, just how it is seen."
   ]
  },
  {
   "cell_type": "code",
   "execution_count": 62,
   "metadata": {
    "collapsed": false
   },
   "outputs": [
    {
     "data": {
      "text/plain": [
       "array([[ 1.,  2.],\n",
       "       [ 3.,  4.],\n",
       "       [ 5.,  6.]])"
      ]
     },
     "execution_count": 62,
     "metadata": {},
     "output_type": "execute_result"
    }
   ],
   "source": [
    "arr.shape = (3, 2)\n",
    "arr"
   ]
  },
  {
   "cell_type": "code",
   "execution_count": 67,
   "metadata": {
    "collapsed": false
   },
   "outputs": [
    {
     "data": {
      "text/plain": [
       "array([ 1.,  2.,  3.,  4.,  5.,  6.])"
      ]
     },
     "execution_count": 67,
     "metadata": {},
     "output_type": "execute_result"
    }
   ],
   "source": [
    "arr.shape = (6,)\n",
    "arr"
   ]
  },
  {
   "cell_type": "markdown",
   "metadata": {},
   "source": [
    "Singleton dimensions add to the dimensionality of an array. The last example was a 1D array, the next are 2D arrays."
   ]
  },
  {
   "cell_type": "code",
   "execution_count": 65,
   "metadata": {
    "collapsed": false
   },
   "outputs": [
    {
     "data": {
      "text/plain": [
       "array([[ 1.,  2.,  3.,  4.,  5.,  6.]])"
      ]
     },
     "execution_count": 65,
     "metadata": {},
     "output_type": "execute_result"
    }
   ],
   "source": [
    "arr.shape = (1, 6)\n",
    "arr   # Note that there are *two* square brackets in the output sequence."
   ]
  },
  {
   "cell_type": "code",
   "execution_count": 95,
   "metadata": {
    "collapsed": false
   },
   "outputs": [
    {
     "data": {
      "text/plain": [
       "array([[ 1.],\n",
       "       [ 2.],\n",
       "       [ 3.],\n",
       "       [ 4.],\n",
       "       [ 5.],\n",
       "       [ 6.]])"
      ]
     },
     "execution_count": 95,
     "metadata": {},
     "output_type": "execute_result"
    }
   ],
   "source": [
    "arr.shape = (6, 1)\n",
    "arr   # this is also a 2D array, like a column vector"
   ]
  },
  {
   "cell_type": "markdown",
   "metadata": {},
   "source": [
    "## Array indexing\n",
    "\n",
    "Arrays are indexed in a similar way to sequences, with `start:stop:stride` notation. Except that this is used for each dimension in the array, like"
   ]
  },
  {
   "cell_type": "code",
   "execution_count": 100,
   "metadata": {
    "collapsed": false
   },
   "outputs": [
    {
     "data": {
      "text/plain": [
       "array([[ 3,  4],\n",
       "       [13, 14]])"
      ]
     },
     "execution_count": 100,
     "metadata": {},
     "output_type": "execute_result"
    }
   ],
   "source": [
    "a = np.arange(20).reshape(4, 5)\n",
    "a[::2, 3:]"
   ]
  },
  {
   "cell_type": "markdown",
   "metadata": {},
   "source": [
    "## Array methods\n",
    "\n",
    "Arrays have a number of methods. Let's take a look at the 'mean' method as an example. "
   ]
  },
  {
   "cell_type": "code",
   "execution_count": 14,
   "metadata": {
    "collapsed": false
   },
   "outputs": [
    {
     "data": {
      "text/plain": [
       "3.5"
      ]
     },
     "execution_count": 14,
     "metadata": {},
     "output_type": "execute_result"
    }
   ],
   "source": [
    "arr = np.array([[1., 2., 3.,], [4., 5., 6.]])  # reset the array to our 2x3 array.\n",
    "\n",
    "arr.mean()        # The mean of all of the elements in the array"
   ]
  },
  {
   "cell_type": "markdown",
   "metadata": {},
   "source": [
    "Mean takes the optional argument `axis` that can be used to take the mean along a single axis of the array. Just like with indexing, the axes are reference in a zero-based system; `axis=0` means the first dimension. "
   ]
  },
  {
   "cell_type": "code",
   "execution_count": 15,
   "metadata": {
    "collapsed": false
   },
   "outputs": [
    {
     "data": {
      "text/plain": [
       "array([ 2.5,  3.5,  4.5])"
      ]
     },
     "execution_count": 15,
     "metadata": {},
     "output_type": "execute_result"
    }
   ],
   "source": [
    "arr.mean(axis=0)  # The mean "
   ]
  },
  {
   "cell_type": "markdown",
   "metadata": {},
   "source": [
    "In this case, there are two rows in the first dimension, and `arr.mean(axis=0)` takes the average in the 'row' direction, resulting in a 1D array that is the average of each column."
   ]
  },
  {
   "cell_type": "markdown",
   "metadata": {},
   "source": [
    "---\n",
    "### *Exercise*\n",
    "\n",
    "> Find the mean of the array in the 'column' direction, along `axis=1`.\n",
    "\n",
    "> Use the `sum` method of the array class to get the sum of the numbers in each column. The result should be a 1D array with three elements.\n",
    "\n",
    "---"
   ]
  },
  {
   "cell_type": "markdown",
   "metadata": {
    "collapsed": true
   },
   "source": [
    "You can also use the `reshape` method to change the shape of an array."
   ]
  },
  {
   "cell_type": "code",
   "execution_count": 91,
   "metadata": {
    "collapsed": false
   },
   "outputs": [
    {
     "data": {
      "text/plain": [
       "array([[ 1.,  2.],\n",
       "       [ 3.,  4.],\n",
       "       [ 5.,  6.]])"
      ]
     },
     "execution_count": 91,
     "metadata": {},
     "output_type": "execute_result"
    }
   ],
   "source": [
    "arr.reshape(3,2)"
   ]
  },
  {
   "cell_type": "markdown",
   "metadata": {},
   "source": [
    "You can find the mininum and maximum of an array with the `min` and `max` methods. Sometimes it is useful to find the indices of these minima and maxima. For this use `argmin` and `argmax`, like"
   ]
  },
  {
   "cell_type": "code",
   "execution_count": 94,
   "metadata": {
    "collapsed": false
   },
   "outputs": [
    {
     "name": "stdout",
     "output_type": "stream",
     "text": [
      "5 0.908494858196 0.908494858196\n"
     ]
    }
   ],
   "source": [
    "x = np.random.rand(10)\n",
    "imax = x.argmax()\n",
    "print(imax, x[imax], x.max())"
   ]
  },
  {
   "cell_type": "markdown",
   "metadata": {
    "collapsed": true
   },
   "source": [
    "## Array views\n",
    "\n",
    "The data for an array may be storred in memory using `C` or `FORTRAN` ordered memory. Typically, there is no need to think about this, some details can be found [here](http://docs.scipy.org/doc/numpy-1.10.0/reference/internals.html).\n",
    "\n",
    "However, it is important to remember that subsets of an array can produce a different 'view' of the array that addresses the same memory as the original array. This can lead to some unexpected behaviours. One way to think of this is that assignment in Python is more like a C-pointer (i.e., a reference to a memory location) than an actual value."
   ]
  },
  {
   "cell_type": "code",
   "execution_count": 17,
   "metadata": {
    "collapsed": false
   },
   "outputs": [
    {
     "name": "stdout",
     "output_type": "stream",
     "text": [
      "[ 0.  1.  2.  3.  4.  5.  6.  7.  8.  9.]\n",
      "[ 0.  2.  4.  6.  8.]\n"
     ]
    }
   ],
   "source": [
    "a = np.arange(10.0)\n",
    "b = a[::2]\n",
    "print(a)\n",
    "print(b)"
   ]
  },
  {
   "cell_type": "code",
   "execution_count": 18,
   "metadata": {
    "collapsed": false
   },
   "outputs": [
    {
     "name": "stdout",
     "output_type": "stream",
     "text": [
      "[   0.    1.    2.    3. -999.    5.    6.    7.    8.    9.]\n",
      "[   0.    2. -999.    6.    8.]\n"
     ]
    }
   ],
   "source": [
    "a[4] = -999   # this will modify b as well...\n",
    "print(a)\n",
    "print(b)"
   ]
  },
  {
   "cell_type": "code",
   "execution_count": 19,
   "metadata": {
    "collapsed": false
   },
   "outputs": [
    {
     "name": "stdout",
     "output_type": "stream",
     "text": [
      "[   0.    1.    2.    3. -999.    5.    6.    7. -888.    9.]\n",
      "[   0.    2. -999.    6. -888.]\n"
     ]
    }
   ],
   "source": [
    "b[-1] = -888  # this will modify a as well...\n",
    "print(a)\n",
    "print(b)"
   ]
  },
  {
   "cell_type": "markdown",
   "metadata": {},
   "source": [
    "Normally, this will not be a problem, but if you need to make sure that a subset of an array has it's own memory, make sure you make a `copy` of the array, like"
   ]
  },
  {
   "cell_type": "code",
   "execution_count": 20,
   "metadata": {
    "collapsed": false
   },
   "outputs": [
    {
     "name": "stdout",
     "output_type": "stream",
     "text": [
      "[   0.    1.    2.    3. -999.    5.    6.    7.    8.    9.]\n",
      "[ 0.  2.  4.  6.  8.]\n"
     ]
    }
   ],
   "source": [
    "a = np.arange(10.0)\n",
    "b = a.copy()[::2]     # or np.copy(a)\n",
    "a[4] = -999   # this will modify b as well...\n",
    "print(a)\n",
    "print(b)"
   ]
  },
  {
   "cell_type": "markdown",
   "metadata": {},
   "source": [
    "## Vectorization\n",
    "\n",
    "The best way to do mathematical operations using numpy arrays is to do `vector` operations. That is, mathematical operations are defined to be element by element, and this is done much faster than looping. As a rule of thumb, you should be very concerned if your code has more than one significant `for` loop in the numerical analysis section."
   ]
  },
  {
   "cell_type": "code",
   "execution_count": 69,
   "metadata": {
    "collapsed": false
   },
   "outputs": [],
   "source": [
    "a = np.arange(1024.0).reshape(4, 8, 16, 2)   # a 4D array using sequential numbers\n",
    "b = np.random.rand(4, 8, 16, 2)              # a 4D array using random numbers\n",
    "\n",
    "sol = a * b       # element-by-element multiplication. This operation is about as fast as it can be on your computer."
   ]
  },
  {
   "cell_type": "markdown",
   "metadata": {},
   "source": [
    "### Ufuncs\n",
    "\n",
    "`Ufunc`s or Universal functions are ways to apply a function to every element in the array. Let's check the Euler relation."
   ]
  },
  {
   "cell_type": "code",
   "execution_count": 74,
   "metadata": {
    "collapsed": false
   },
   "outputs": [
    {
     "data": {
      "text/plain": [
       "True"
      ]
     },
     "execution_count": 74,
     "metadata": {},
     "output_type": "execute_result"
    }
   ],
   "source": [
    "a = np.random.rand(3, 4, 5)\n",
    "\n",
    "res1 = np.exp(1.0J*a).real    # The `real` attribute returns the real part of a complex number\n",
    "res2 = np.cos(a)\n",
    "\n",
    "np.allclose(res1, res2)       # Checks if all of the elements are close, within some small tolerance."
   ]
  },
  {
   "cell_type": "markdown",
   "metadata": {},
   "source": [
    "## Array broadcasting\n",
    "\n",
    "Arrays may be operated on using vector operations even if they are different sized, however, they need to follow the rules of `array broadcasting`.  One way to think of this is that a larger dimension will be 'broadcast' across a singleton dimension. Generally, all of the dimensions need to be either the same size, or one of the dimensions should be of size 1. Arrays always have as many 'singleton' dimensions to the left as needed.  For example, these arrays will all 'broadcast'\n",
    "\n",
    "      a: 5 x 7 x 1 x 8\n",
    "      b:             8\n",
    "      c:     7 x 3 x 8\n",
    "      d: 5 x 1 x 3 x 1\n",
    "    \n",
    "    sol: 5 x 7 x 3 x 8   \n",
    "\n",
    "Let's create these arrays with random numbers"
   ]
  },
  {
   "cell_type": "code",
   "execution_count": 22,
   "metadata": {
    "collapsed": false
   },
   "outputs": [
    {
     "name": "stdout",
     "output_type": "stream",
     "text": [
      "(5, 7, 1, 8) (8,) (7, 3, 8) (5, 1, 3, 1)\n",
      "(5, 7, 3, 8)\n"
     ]
    }
   ],
   "source": [
    "a = np.random.rand(5, 7, 1, 8)\n",
    "b = np.random.rand(8)\n",
    "c = np.random.rand(7, 3, 8)\n",
    "d = np.random.rand(5, 1, 3, 1)\n",
    "print(a.shape, b.shape, c.shape, d.shape)\n",
    "\n",
    "sol = a * b * c * d\n",
    "print(sol.shape)"
   ]
  },
  {
   "cell_type": "markdown",
   "metadata": {},
   "source": [
    "---\n",
    "### *Exercise*\n",
    "\n",
    "> Experiment with multiplying just two of the arrays together. Try to predict the resulting shape.\n",
    "\n",
    "---"
   ]
  },
  {
   "cell_type": "code",
   "execution_count": null,
   "metadata": {
    "collapsed": true
   },
   "outputs": [],
   "source": []
  },
  {
   "cell_type": "markdown",
   "metadata": {},
   "source": [
    "## Flattening arrays with `a.flat` and `a.flatten()`\n",
    "\n",
    "There are two basic ways to turn any array into a 1D array. They are slightly different.\n",
    "\n",
    "`a.flatten()` returns a copy of an array, in one dimension."
   ]
  },
  {
   "cell_type": "code",
   "execution_count": 83,
   "metadata": {
    "collapsed": false
   },
   "outputs": [
    {
     "name": "stdout",
     "output_type": "stream",
     "text": [
      "[[ 0  1  2  3]\n",
      " [ 4  5  6  7]\n",
      " [ 8  9 10 11]]\n",
      "[ 0  1  2  3  4  5  6  7  8  9 10 11]\n"
     ]
    }
   ],
   "source": [
    "a = np.arange(12).reshape(3, 4)\n",
    "print(a)\n",
    "b = a.flatten()\n",
    "print(b)"
   ]
  },
  {
   "cell_type": "markdown",
   "metadata": {},
   "source": [
    "the `flat` ~attribute on the other hand gives a ~view of the array in 1D. It looks like an iterator object (like `range` and `zip`). This allows"
   ]
  },
  {
   "cell_type": "code",
   "execution_count": 85,
   "metadata": {
    "collapsed": false
   },
   "outputs": [
    {
     "name": "stdout",
     "output_type": "stream",
     "text": [
      "[[   0    1    2    3]\n",
      " [   4    5 -999    7]\n",
      " [   8    9   10   11]]\n"
     ]
    }
   ],
   "source": [
    "a.flat[6] = -999\n",
    "print(a)"
   ]
  },
  {
   "cell_type": "code",
   "execution_count": 88,
   "metadata": {
    "collapsed": false
   },
   "outputs": [
    {
     "name": "stdout",
     "output_type": "stream",
     "text": [
      "[[   0    1 -999    3]\n",
      " [   4    5 -999    7]\n",
      " [   8    9   10   11]]\n"
     ]
    }
   ],
   "source": [
    "a.T.flat[6] = -999\n",
    "print(a)"
   ]
  },
  {
   "cell_type": "markdown",
   "metadata": {},
   "source": [
    "Here, the `T` attribute (equivalent to the `transpose` method) gives a view of the array transposed (similar to MATLAB's tick notation)."
   ]
  },
  {
   "cell_type": "code",
   "execution_count": 89,
   "metadata": {
    "collapsed": false
   },
   "outputs": [
    {
     "name": "stdout",
     "output_type": "stream",
     "text": [
      "[[   0    4    8]\n",
      " [   1    5    9]\n",
      " [-999 -999   10]\n",
      " [   3    7   11]]\n"
     ]
    }
   ],
   "source": [
    "print(a.T)"
   ]
  },
  {
   "cell_type": "markdown",
   "metadata": {},
   "source": [
    "## Importing data\n",
    "\n",
    "One of the basic commands in numpy for loading in data is the `loadtxt` command. There are other ways to do this, such as the [`genfromtxt`](http://docs.scipy.org/doc/numpy-dev/user/basics.io.genfromtxt.html) command, but `loadtxt` is sufficient for most purposes, and is easy to use."
   ]
  },
  {
   "cell_type": "code",
   "execution_count": 80,
   "metadata": {
    "collapsed": false
   },
   "outputs": [
    {
     "data": {
      "text/plain": [
       "array([ 26.5827,  25.9263,  25.3695,  25.2304,  24.568 ,  24.6885,\n",
       "        24.7855,  24.7213,  24.5692,  24.3945,  24.3252,  24.2424,\n",
       "        24.1822,  24.1057,  23.9863,  23.9235,  23.8288,  23.7446,\n",
       "        23.6302,  23.711 ,  23.6082,  23.4458,  23.4764,  23.4612,\n",
       "        23.4353,  23.4063,  23.358 ,  23.3041,  23.2337,  23.1621,\n",
       "        23.1239,  23.045 ,  23.0066,  22.9947,  22.9833,  22.9804,  22.9798])"
      ]
     },
     "execution_count": 80,
     "metadata": {},
     "output_type": "execute_result"
    }
   ],
   "source": [
    "data = np.loadtxt('03_CTD.dat', comments='*')\n",
    "data[:,2]    # a column of data representing temperature"
   ]
  },
  {
   "cell_type": "markdown",
   "metadata": {},
   "source": [
    "## Linear algebra\n",
    "\n",
    "One of the key elements of the `numpy` package is the `numpy.linalg` subpackage that contains a number of linear algebra functions that work efficiently on arrays."
   ]
  },
  {
   "cell_type": "code",
   "execution_count": 23,
   "metadata": {
    "collapsed": false
   },
   "outputs": [],
   "source": [
    "a = np.random.randn(100, 100)\n",
    "e, v = np.linalg.eig(a)\n",
    "\n",
    "b = np.random.randn(500, 200)\n",
    "u, s, v = np.linalg.svd(b)"
   ]
  },
  {
   "cell_type": "markdown",
   "metadata": {},
   "source": [
    "## Basic performance evaluation\n",
    "\n",
    "We can do some very basic perfomance testing using the `%time` special function in ipython notebooks. Lets use this to examine the time it takes to do a singular value decomposition for different sized matricies."
   ]
  },
  {
   "cell_type": "code",
   "execution_count": 24,
   "metadata": {
    "collapsed": false
   },
   "outputs": [
    {
     "name": "stdout",
     "output_type": "stream",
     "text": [
      "CPU times: user 47.6 ms, sys: 12.3 ms, total: 59.9 ms\n",
      "Wall time: 32.8 ms\n"
     ]
    }
   ],
   "source": [
    "b = np.random.randn(500, 200)\n",
    "%time u, s, v = np.linalg.svd(b)"
   ]
  },
  {
   "cell_type": "markdown",
   "metadata": {},
   "source": [
    "If the time might change, say based on the values chosen, the `%timeit` function can be used to perform the test a number of times to get an average calculation time."
   ]
  },
  {
   "cell_type": "code",
   "execution_count": 39,
   "metadata": {
    "collapsed": false
   },
   "outputs": [
    {
     "name": "stdout",
     "output_type": "stream",
     "text": [
      "1000 loops, best of 3: 212 µs per loop\n"
     ]
    }
   ],
   "source": [
    "%timeit b = np.random.randn(50, 20); u, s, v = np.linalg.svd(b)"
   ]
  },
  {
   "cell_type": "markdown",
   "metadata": {},
   "source": [
    "## Masked arrays\n",
    "\n",
    "Masked arrays are ways to create arrays with missing values. MATLAB&trade; uses NaNs (NaN stands for 'Not a Number'), and the NaNs are the values of the arryas at those points. This approach also works in Python. Masked arrays are preffered since they retain the masked array vaules, also some plotting routines require masked arrays when plotting arrays with missing values. Masked arrays are usually created through some condition, like"
   ]
  },
  {
   "cell_type": "code",
   "execution_count": 47,
   "metadata": {
    "collapsed": false
   },
   "outputs": [
    {
     "name": "stdout",
     "output_type": "stream",
     "text": [
      "[[1.2723666854960238 -0.8239121342419344 0.9894664861617428 -- -- -- --\n",
      "  0.37294363797598096]\n",
      " [1.0514269825876492 -- -- -- 0.34006508646992323 0.14957554629418762\n",
      "  -0.28705554064624916 -0.6336500501321728]\n",
      " [-- -- -- -- -0.6491234759324382 -- 0.7173475871945186\n",
      "  -0.18589908140480962]\n",
      " [0.08376264513398139 -- -- -0.700282204464899 -- -- -- 1.2703948661623763]\n",
      " [-- -- -0.7524529067137348 0.666587460131248 -0.22613023404317867\n",
      "  0.810514312804025 0.8491930787484046 -1.5169141851167556]\n",
      " [0.08694370783798898 -0.8300427523019183 -1.9831211554177837 --\n",
      "  0.6894502530869591 -- -- -0.8113634365024346]\n",
      " [-- 1.9631344292219568 -- -- -- -- 0.3514465496397688 --]]\n"
     ]
    },
    {
     "data": {
      "text/plain": [
       "True"
      ]
     },
     "execution_count": 47,
     "metadata": {},
     "output_type": "execute_result"
    }
   ],
   "source": [
    "arr = np.random.randn(7, 8)\n",
    "cond = np.random.rand(7, 8) > 0.5   # `cond` is True for the random values greater than 0.5\n",
    "\n",
    "marr = np.ma.masked_where(cond, arr)\n",
    "\n",
    "print(marr)\n",
    "\n",
    "np.allclose(marr.data, arr)"
   ]
  },
  {
   "cell_type": "markdown",
   "metadata": {},
   "source": [
    "The mask can also be supplied explicity when creating the masked array,"
   ]
  },
  {
   "cell_type": "code",
   "execution_count": 48,
   "metadata": {
    "collapsed": false
   },
   "outputs": [
    {
     "data": {
      "text/plain": [
       "masked_array(data = [-- -- 3 4 --],\n",
       "             mask = [ True  True False False  True],\n",
       "       fill_value = 999999)"
      ]
     },
     "execution_count": 48,
     "metadata": {},
     "output_type": "execute_result"
    }
   ],
   "source": [
    "marr = np.ma.masked_array([1, 2, 3, 4, 5], mask=[True, True, False, False, True])\n",
    "marr"
   ]
  },
  {
   "cell_type": "markdown",
   "metadata": {},
   "source": [
    "## Overview of scipy packages\n",
    "\n",
    "The `scipy` package contains a number of specialized numerical computational tools. These tools are usually very specific, and in the case of the linear algebra tools, may be optimized for your particular hardware.\n",
    "\n",
    "     cluster                      --- Vector Quantization / Kmeans\n",
    "     fftpack                      --- Discrete Fourier Transform algorithms\n",
    "     integrate                    --- Integration routines\n",
    "     interpolate                  --- Interpolation Tools\n",
    "     io                           --- Data input and output\n",
    "     lib                          --- Python wrappers to external libraries\n",
    "     lib.lapack                   --- Wrappers to LAPACK library\n",
    "     linalg                       --- Linear algebra routines\n",
    "     misc                         --- Various utilities that don't have\n",
    "                                      another home.\n",
    "     ndimage                      --- n-dimensional image package\n",
    "     odr                          --- Orthogonal Distance Regression\n",
    "     optimize                     --- Optimization Tools\n",
    "     signal                       --- Signal Processing Tools\n",
    "     sparse                       --- Sparse Matrices\n",
    "     sparse.linalg                --- Sparse Linear Algebra\n",
    "     sparse.linalg.dsolve         --- Linear Solvers\n",
    "     sparse.linalg.dsolve.umfpack --- :Interface to the UMFPACK library:\n",
    "                                      Conjugate Gradient Method (LOBPCG)\n",
    "     sparse.linalg.eigen.lobpcg   --- Locally Optimal Block Preconditioned\n",
    "                                      Conjugate Gradient Method (LOBPCG) [*]\n",
    "     special                      --- Airy Functions [*]\n",
    "     lib.blas                     --- Wrappers to BLAS library [*]\n",
    "     sparse.linalg.eigen          --- Sparse Eigenvalue Solvers [*]\n",
    "     stats                        --- Statistical Functions [*]\n",
    "     lib                          --- Python wrappers to external libraries\n",
    "                                      [*]\n",
    "     lib.lapack                   --- Wrappers to LAPACK library [*]\n",
    "     integrate                    --- Integration routines [*]\n",
    "     ndimage                      --- n-dimensional image package [*]\n",
    "     linalg                       --- Linear algebra routines [*]\n",
    "     spatial                      --- Spatial data structures and algorithms\n",
    "     special                      --- Airy Functions\n",
    "     stats                        --- Statistical Functions\n"
   ]
  },
  {
   "cell_type": "code",
   "execution_count": 26,
   "metadata": {
    "collapsed": true
   },
   "outputs": [],
   "source": [
    "import scipy   # This actually does nothing. Submodules must be explicitly imported"
   ]
  },
  {
   "cell_type": "markdown",
   "metadata": {},
   "source": [
    "## `scipy.stats`"
   ]
  },
  {
   "cell_type": "code",
   "execution_count": 27,
   "metadata": {
    "collapsed": true
   },
   "outputs": [],
   "source": [
    "import scipy.stats"
   ]
  },
  {
   "cell_type": "code",
   "execution_count": 28,
   "metadata": {
    "collapsed": false
   },
   "outputs": [
    {
     "data": {
      "text/plain": [
       "array([ 0.02489353,  0.02643286,  0.02806738,  0.02980297,  0.03164588,\n",
       "        0.03360276,  0.03568063,  0.037887  ,  0.0402298 ,  0.04271748,\n",
       "        0.04535898,  0.04816382,  0.0511421 ,  0.05430455,  0.05766256,\n",
       "        0.06122821,  0.06501436,  0.06903462,  0.07330348,  0.07783632,\n",
       "        0.08264944,  0.0877602 ,  0.09318699,  0.09894935,  0.10506804,\n",
       "        0.11156508,  0.11846388,  0.12578928,  0.13356765,  0.14182701,\n",
       "        0.15059711,  0.15990951,  0.16979776,  0.18029747,  0.19144644,\n",
       "        0.20328483,  0.21585526,  0.22920301,  0.24337613,  0.25842567,\n",
       "        0.27440582,  0.29137413,  0.3093917 ,  0.32852341,  0.34883816,\n",
       "        0.37040911,  0.39331393,  0.41763511,  0.44346022,  0.47088227,\n",
       "        0.5       ,  0.47088227,  0.44346022,  0.41763511,  0.39331393,\n",
       "        0.37040911,  0.34883816,  0.32852341,  0.3093917 ,  0.29137413,\n",
       "        0.27440582,  0.25842567,  0.24337613,  0.22920301,  0.21585526,\n",
       "        0.20328483,  0.19144644,  0.18029747,  0.16979776,  0.15990951,\n",
       "        0.15059711,  0.14182701,  0.13356765,  0.12578928,  0.11846388,\n",
       "        0.11156508,  0.10506804,  0.09894935,  0.09318699,  0.0877602 ,\n",
       "        0.08264944,  0.07783632,  0.07330348,  0.06903462,  0.06501436,\n",
       "        0.06122821,  0.05766256,  0.05430455,  0.0511421 ,  0.04816382,\n",
       "        0.04535898,  0.04271748,  0.0402298 ,  0.037887  ,  0.03568063,\n",
       "        0.03360276,  0.03164588,  0.02980297,  0.02806738,  0.02643286,\n",
       "        0.02489353])"
      ]
     },
     "execution_count": 28,
     "metadata": {},
     "output_type": "execute_result"
    }
   ],
   "source": [
    "rv = scipy.stats.laplace(loc=0, scale=1)\n",
    "rv.pdf(np.linspace(-3, 3, 101))    # create a pdf of the laplace distribution with parameters loc=0, scale=1"
   ]
  },
  {
   "cell_type": "code",
   "execution_count": 38,
   "metadata": {
    "collapsed": false
   },
   "outputs": [
    {
     "data": {
      "text/plain": [
       "array([ 0.08181734,  1.14191361,  0.62753614, -1.20802505,  0.03239594,\n",
       "        4.14773233, -0.31298209, -0.71092866, -0.7254051 , -1.62571786,\n",
       "        0.12789235, -0.13519959, -2.11754686, -1.0433941 ,  1.60519633,\n",
       "        0.11881943, -1.3899649 , -1.18104482, -1.84013572,  1.88010099,\n",
       "       -2.59507154, -1.16685329,  1.13187707,  0.50882754,  0.55117584,\n",
       "        0.73636736,  2.40230004, -0.83494512,  1.06629967, -0.76967323,\n",
       "       -1.52918135,  1.17199195,  3.24585492, -0.3665115 , -0.10618313,\n",
       "       -0.34653115, -0.5797531 ,  2.63726433, -0.48556491,  1.9541071 ,\n",
       "       -0.24717151,  0.79350581,  0.49226482, -4.56001508,  0.00483018,\n",
       "       -0.4495073 ,  0.38083822,  0.41612361, -1.8221643 , -0.62896542,\n",
       "        0.77032246,  1.3797342 , -1.59519603,  2.30764068,  0.45935175,\n",
       "       -1.27059043,  0.67835771, -0.13259508, -2.64563085,  0.11463457,\n",
       "        0.01157752,  1.49543861,  1.06511107, -4.13538673, -0.45311387,\n",
       "        0.36244987, -0.48969089,  1.31105369, -0.19559256,  0.05213516,\n",
       "       -0.21835157, -0.57794868,  1.05924776, -0.54834641,  0.52099129,\n",
       "       -1.10282328, -0.84440356,  0.49051638,  0.20587353,  0.28101881,\n",
       "        0.32509776, -0.61988894, -0.68144698,  2.71730072,  1.01712228,\n",
       "       -0.62037787, -0.90351613,  1.15305304,  0.36512287, -0.63961005,\n",
       "        3.91381603, -2.24505453,  0.03699511,  0.845931  ,  0.21251064,\n",
       "        0.71289625,  3.20964513,  1.56194143,  0.02574696,  0.42992542])"
      ]
     },
     "execution_count": 38,
     "metadata": {},
     "output_type": "execute_result"
    }
   ],
   "source": [
    "r = scipy.stats.laplace.rvs(size=100) # Generate 100 random numbers based on the laplace distribution\n",
    "r"
   ]
  },
  {
   "cell_type": "markdown",
   "metadata": {},
   "source": [
    "## `scipy.integrate`"
   ]
  },
  {
   "cell_type": "code",
   "execution_count": 30,
   "metadata": {
    "collapsed": false
   },
   "outputs": [],
   "source": [
    "import scipy.integrate\n",
    "\n",
    "sigma=10.0\n",
    "beta=8.0/3.0\n",
    "rho=28.0\n",
    "\n",
    "def lorenz(state, to):\n",
    "    x, y, z = state\n",
    "    xdot = sigma*(y-x)\n",
    "    ydot = x*(rho-z)-y\n",
    "    zdot = x*y - beta*z\n",
    "    return (xdot, ydot, zdot)\n",
    "    \n",
    "t = np.linspace(0, 30, 3000)\n",
    "sol = scipy.integrate.odeint(lorenz, (1., 2., 3.), t)\n",
    "x, y, z = sol.T"
   ]
  },
  {
   "cell_type": "code",
   "execution_count": 37,
   "metadata": {
    "collapsed": false
   },
   "outputs": [
    {
     "data": {
      "text/plain": [
       "[<mpl_toolkits.mplot3d.art3d.Line3D at 0x11081c470>]"
      ]
     },
     "execution_count": 37,
     "metadata": {},
     "output_type": "execute_result"
    },
    {
     "data": {
      "image/png": "[encoded data removed]",
      "text/plain": [
       "<matplotlib.figure.Figure at 0x1108159e8>"
      ]
     },
     "metadata": {},
     "output_type": "display_data"
    }
   ],
   "source": [
    "import matplotlib.pyplot as plt\n",
    "from mpl_toolkits.mplot3d import Axes3D\n",
    "% matplotlib inline\n",
    "\n",
    "fig = plt.figure(figsize=(10, 10))\n",
    "ax = fig.add_subplot(111, projection='3d')\n",
    "ax.plot(x, y, z)"
   ]
  },
  {
   "cell_type": "code",
   "execution_count": null,
   "metadata": {
    "collapsed": true
   },
   "outputs": [],
   "source": []
  }
 ],
 "metadata": {
  "kernelspec": {
   "display_name": "Python 3",
   "language": "python",
   "name": "python3"
  },
  "language_info": {
   "codemirror_mode": {
    "name": "ipython",
    "version": 3
   },
   "file_extension": ".py",
   "mimetype": "text/x-python",
   "name": "python",
   "nbconvert_exporter": "python",
   "pygments_lexer": "ipython3",
   "version": "3.5.1"
  }
 },
 "nbformat": 4,
 "nbformat_minor": 0
}
