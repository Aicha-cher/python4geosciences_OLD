{
 "cells": [
  {
   "cell_type": "markdown",
   "metadata": {},
   "source": [
    "# Working together on GitHub\n",
    "\n",
    "Some of you will be working together on group projects and need to be able to coordinate. The easiest way to do this is to share administration rights to a repository — this is what we are doing for this class. Note that there are more sophisticated ways to collaborate on GitHub, using forks and pull requests, which you would use in a larger project.\n",
    "\n",
    "To add a [collaborator](https://help.github.com/articles/adding-collaborators-to-a-personal-repository/):\n",
    "\n",
    "1. One person create a repo in their GitHub account;\n",
    "1. Go to your new repo on GitHub;\n",
    "1. Click on Settings, then Collaborators on the left;\n",
    "1. Add their GitHub name as a collaborator.\n",
    "\n",
    "This allows you both to push your local changes to the remote GitHub repository, so that you can each work independently on your own machines, but then can combine and share your work through the website. Keep in mind that if you both make changes to the same file this means that you may need to manually merge the changes that you have made. "
   ]
  }
 ],
 "metadata": {
  "kernelspec": {
   "display_name": "Python 3",
   "language": "python",
   "name": "python3"
  },
  "language_info": {
   "codemirror_mode": {
    "name": "ipython",
    "version": 3
   },
   "file_extension": ".py",
   "mimetype": "text/x-python",
   "name": "python",
   "nbconvert_exporter": "python",
   "pygments_lexer": "ipython3",
   "version": "3.5.1"
  }
 },
 "nbformat": 4,
 "nbformat_minor": 0
}
