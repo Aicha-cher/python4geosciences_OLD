#Homework 1
## Due date
