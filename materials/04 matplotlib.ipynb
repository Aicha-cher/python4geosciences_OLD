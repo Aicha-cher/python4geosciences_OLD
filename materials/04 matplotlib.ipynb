{
 "cells": [
  {
   "cell_type": "markdown",
   "metadata": {},
   "source": [
    "# 04 matplotlib"
   ]
  },
  {
   "cell_type": "markdown",
   "metadata": {},
   "source": [
    "Data and model results can be abstract if we can't see how they look. Also, it is easy to get too removed from  calculations and end up with answers that don't make sense. A straight-forward way to investigate information and to have a reality check is by plotting it up. Here we will cover the basics for making a variety of commonly-used plots.\n",
    "\n",
    "matplotlib provides a [gallery](http://matplotlib.org/gallery.html) of plot examples, as described by text and shown as plots. This is really helpful for finding what you want to do when you don't know how to describe it, and to get ideas for what possibilities are out there.\n",
    "\n",
    "To produce figures inline in Jupyter notebooks, you need to run the command `%matplotlib inline`."
   ]
  },
  {
   "cell_type": "code",
   "execution_count": 2,
   "metadata": {
    "collapsed": false
   },
   "outputs": [],
   "source": [
    "%matplotlib inline\n",
    "import matplotlib.pyplot as plt\n",
    "import numpy as np"
   ]
  },
  {
   "cell_type": "markdown",
   "metadata": {},
   "source": [
    "A quick plot without any setup:"
   ]
  },
  {
   "cell_type": "code",
   "execution_count": 47,
   "metadata": {
    "collapsed": false
   },
   "outputs": [
    {
     "data": {
      "text/plain": [
       "[<matplotlib.lines.Line2D at 0x1087901d0>]"
      ]
     },
     "execution_count": 47,
     "metadata": {},
     "output_type": "execute_result"
    },
    {
     "data": {
      "image/png": "[encoded data removed]",
      "text/plain": [
       "<matplotlib.figure.Figure at 0x1092f0940>"
      ]
     },
     "metadata": {},
     "output_type": "display_data"
    }
   ],
   "source": [
    "x = np.linspace(0, 10)\n",
    "plt.plot(x, x)"
   ]
  },
  {
   "cell_type": "markdown",
   "metadata": {},
   "source": [
    "You can subsequently alter the plot with commands like `plt.xlabel('xlabel')` which act on the active figure, but you can only reference one figure at a time when they are not named.\n",
    "\n",
    "So, problems with this:\n",
    "\n",
    "* Less control\n",
    "* Harder to make changes later\n",
    "* Overwrites any figure you may already have open\n",
    "\n",
    "So, don't screw over future you! Set up your plot properly from the beginning"
   ]
  },
  {
   "cell_type": "markdown",
   "metadata": {},
   "source": [
    "# A. Figure overview\n",
    "\n",
    "A figure in matplotlib has several basic pieces, as shown in the following image. Note that `axes` refers to the area within a figure that is used for plotting and `axis` refers to a single x- and y-axis.\n",
    "\n",
    "![fig](http://matplotlib.org/_images/fig_map.png)\n",
    "http://matplotlib.org/faq/usage_faq.html#parts-of-a-figure\n",
    "\n",
    "\n",
    "## Figure and axes setup\n",
    "\n",
    "Steps for setting up a figure:\n",
    "\n",
    "1. Open a figure, save the object to a variable, and size it as desired.\n",
    "2. Add axes to the figure. Axes are the objects in which data is actually plotted.\n",
    "3. Add labels to clearly explain the plot, such as axis labels and a title.\n",
    "\n",
    "Here is a good way to set up a general figure so that you can easily work with it:"
   ]
  },
  {
   "cell_type": "code",
   "execution_count": 80,
   "metadata": {
    "collapsed": false
   },
   "outputs": [
    {
     "data": {
      "text/plain": [
       "<matplotlib.text.Text at 0x10a7a5c88>"
      ]
     },
     "execution_count": 80,
     "metadata": {},
     "output_type": "execute_result"
    },
    {
     "data": {
      "image/png": "[encoded data removed]",
      "text/plain": [
       "<matplotlib.figure.Figure at 0x10a49e5f8>"
      ]
     },
     "metadata": {},
     "output_type": "display_data"
    }
   ],
   "source": [
    "fig = plt.figure(figsize=(8, 3))  # figure size is given as a (width, height) tuple\n",
    "ax = fig.add_subplot(111)  # \n",
    "ax.set_xlabel('x axis [units]')\n",
    "ax.set_ylabel('y axis [units]')\n",
    "ax.set_title('Title')"
   ]
  },
  {
   "cell_type": "markdown",
   "metadata": {},
   "source": [
    "## Useful commands and keyword arguments\n",
    "\n",
    "These commands and keyword arguments should be frequently used to customize and properly label your figures. Command syntax shown is common usage, not all available options."
   ]
  },
  {
   "cell_type": "markdown",
   "metadata": {},
   "source": [
    "### labels and text\n",
    "\n",
    "`ax.set_xlabel(xlabel, fontsize, color)`, `ax.set_ylabel(ylabel, fontsize, color)`: Label the x and y axis with strings xlabel and ylabel, respectively. This is where you should state what is being plotted, and also give units.\n",
    "\n",
    "`ax.set_title(Title, fontsize, color)`: Label the top of the axes with a title describing the plot.\n",
    "\n",
    "[`fig.suptitle(Suptitle, fontsize, color)`](http://matplotlib.org/api/pyplot_api.html#matplotlib.pyplot.suptitle): Label the overall figure, above any subplot titles.\n",
    "\n",
    "[`ax.text(x, y, text, color, transform=ax.transAxes)`](http://matplotlib.org/api/text_api.html#matplotlib.text.Text): Write text in your axes. The text will appear at location (x,y) in data coordinates — often it is easier to input the location in units of the axes itself (from 0 to 1), which is done by setting transform=ax.transAxes. The text is input as a string and `color` controls the color of the text."
   ]
  },
  {
   "cell_type": "markdown",
   "metadata": {},
   "source": [
    "### [subplot](http://matplotlib.org/api/pyplot_api.html#matplotlib.pyplot.subplot)\n",
    "\n",
    "`fig.add_subplot(nrows, ncols, plot_number)`\n",
    "\n",
    "Above, we showed an example of adding a single axes to the figure, with the command `fig.add_subplot(111)`. This command can be used to add multiple axes to the figure instead of a single one. These subplots can divide up the available space in the figure only in a simple way, which is enough for most cases.\n",
    "\n",
    "An example with 1 row and 2 columns of axes is shown, with the `plot_number` increasing from 1 across the rows then columns, up to the number of axes (2, in this case)."
   ]
  },
  {
   "cell_type": "code",
   "execution_count": 81,
   "metadata": {
    "collapsed": false
   },
   "outputs": [
    {
     "data": {
      "text/plain": [
       "<matplotlib.text.Text at 0x10a4b9c88>"
      ]
     },
     "execution_count": 81,
     "metadata": {},
     "output_type": "execute_result"
    },
    {
     "data": {
      "image/png": "[encoded data removed]",
      "text/plain": [
       "<matplotlib.figure.Figure at 0x10a49a4e0>"
      ]
     },
     "metadata": {},
     "output_type": "display_data"
    }
   ],
   "source": [
    "# subplot example\n",
    "fig = plt.figure(figsize=(16, 3))\n",
    "\n",
    "ax1 = fig.add_subplot(1, 2, 1)  # 1st subplot\n",
    "ax1.set_xlabel('x axis 1', fontsize=14, color='r')\n",
    "ax1.set_ylabel('y axis 1')\n",
    "ax1.set_title('Title 1')\n",
    "\n",
    "ax2 = fig.add_subplot(1, 2, 2)  # 2nd subplot\n",
    "ax2.set_xlabel('x axis 2', fontsize=14, color='b')\n",
    "ax2.set_ylabel('y axis 2')\n",
    "ax2.set_title('Title 2')\n",
    "ax2.set_xlim(0, 0.5)\n",
    "ax2.set_ylim(0, 2)\n",
    "\n",
    "fig.suptitle('Overall title', fontsize=18)\n",
    "#fig.tight_layout()  # helper function to clean up plot"
   ]
  },
  {
   "cell_type": "markdown",
   "metadata": {},
   "source": [
    "### [subplots](http://matplotlib.org/examples/pylab_examples/subplots_demo.html)\n",
    "\n",
    "`fig, axes = plt.subplots(nrows, ncols)`\n",
    "\n",
    "If we want to use many subplots, it is more concise to save the number of axes to an array so that we can loop through them. This function allows us to have subplots with shared x, y, or both axes, which then shares the x and y limits and the ticks and tick labels.\n",
    "\n",
    "An example with 3 rows and 2 columns of axes is shown. We loop through the axes instead of listing each out\n",
    "separately. We demonstrate the ability to share the x axis."
   ]
  },
  {
   "cell_type": "code",
   "execution_count": 82,
   "metadata": {
    "collapsed": false
   },
   "outputs": [
    {
     "data": {
      "image/png": "[encoded data removed]",
      "text/plain": [
       "<matplotlib.figure.Figure at 0x10a3ffbe0>"
      ]
     },
     "metadata": {},
     "output_type": "display_data"
    }
   ],
   "source": [
    "fig, axes = plt.subplots(2, 3, sharex=True)\n",
    "\n",
    "# loop through axes\n",
    "for i, ax in enumerate(axes.flat):\n",
    "    \n",
    "    ax.set_title('plot_number=' + str(i+1))  # add 1 to plot_number since it starts counting at 1\n",
    "\n",
    "# make plot look nicer\n",
    "fig.tight_layout()"
   ]
  },
  {
   "cell_type": "markdown",
   "metadata": {},
   "source": [
    "### axes layout\n",
    "\n",
    "[`fig.tight_layout()`](http://matplotlib.org/api/figure_api.html#matplotlib.figure.Figure.tight_layout): convenience function to automatically improve spacing between subplots (already used above).\n",
    "\n",
    "[`fig.subplots_adjust(left=None, bottom=None, right=None, top=None, wspace=None, hspace=None)`](http://matplotlib.org/api/figure_api.html#matplotlib.figure.Figure.subplots_adjust): Any of the keywords listed may be used to override the default values. In order, the adjust the left, bottom, right, and top of the subplots, the width and height for space between subplots. These values can be altered graphically when using a GUI version of a plot in iPython."
   ]
  },
  {
   "cell_type": "markdown",
   "metadata": {},
   "source": [
    "### axis control\n",
    "\n",
    "`ax.set_xlim(xmin, xmax)`, `ax.set_ylim(ymin, ymax)`: Set the x and y axis limits to xmin, xmax and ymin, ymax, respectively.\n",
    "\n",
    "#### [axis](http://matplotlib.org/api/pyplot_api.html#matplotlib.pyplot.axis)\n",
    "\n",
    "The axis values by default encompass the plotted data comfortably, usually giving some space at the edges, depending on the numbers. However, this can be modified. Common usages:\n",
    "\n",
    "`axis('equal')`: sets x and y limits so that the increments on both axes are equal lengths.\n",
    "\n",
    "`axis('tight')`: sets axis limits to just encompass the data, with no extra space on the ends."
   ]
  },
  {
   "cell_type": "code",
   "execution_count": 70,
   "metadata": {
    "collapsed": false
   },
   "outputs": [
    {
     "data": {
      "text/plain": [
       "<matplotlib.text.Text at 0x10a17d198>"
      ]
     },
     "execution_count": 70,
     "metadata": {},
     "output_type": "execute_result"
    },
    {
     "data": {
      "image/png": "[encoded data removed]",
      "text/plain": [
       "<matplotlib.figure.Figure at 0x10989c748>"
      ]
     },
     "metadata": {},
     "output_type": "display_data"
    }
   ],
   "source": [
    "# axis examples\n",
    "x = np.linspace(0, 10)\n",
    "\n",
    "fig = plt.figure(figsize=(16, 3))\n",
    "\n",
    "# No adjustments to axis\n",
    "ax1 = fig.add_subplot(1, 3, 1)\n",
    "ax1.plot(x, 9.5*x)\n",
    "ax1.set_title('Default axis')\n",
    "\n",
    "# Using axis('equal')\n",
    "ax2 = fig.add_subplot(1, 3, 2)\n",
    "ax2.plot(x, 9.5*x)\n",
    "ax2.axis('equal')\n",
    "ax2.set_title(\"axis('equal')\")\n",
    "\n",
    "# Using axis('tight')\n",
    "ax3 = fig.add_subplot(1, 3, 3)\n",
    "ax3.plot(x, 9.5*x)\n",
    "ax3.axis('tight')\n",
    "ax3.set_title(\"axis('tight')\")"
   ]
  },
  {
   "cell_type": "markdown",
   "metadata": {},
   "source": [
    "### [savefig](http://matplotlib.org/api/pyplot_api.html#matplotlib.pyplot.savefig)\n",
    "\n",
    "`fig.savefig(fname, dpi=None, bbox_inches='tight')`\n",
    "\n",
    "This is how you can save the figure that you have made. Input a file name, fname and the dots per inch if you want something higher than the default. `bbox_inches='tight'` trims the white space around the figure; alternatively a number can be input to pad the figure if it cuts too close, but the 'tight' option works most of the time."
   ]
  },
  {
   "cell_type": "markdown",
   "metadata": {},
   "source": [
    "### Plotting with `datetime` objects\n",
    "\n",
    "If you want to plot with time, use `datetime` objects to hold the time/dates. Then when you plot, things will work out nicely. In fact, in the following example, the plotted dates will be formatted correctly whether or not you plot with the special function [`plot_date()`](http://matplotlib.org/api/pyplot_api.html#matplotlib.pyplot.plot_date). But, to have them be readable, we need to rotate the labels. Two ways to do this are shown."
   ]
  },
  {
   "cell_type": "code",
   "execution_count": 57,
   "metadata": {
    "collapsed": false
   },
   "outputs": [
    {
     "data": {
      "text/plain": [
       "(array([ 735964.,  735965.,  735966.,  735967.,  735968.,  735969.,\n",
       "         735970.,  735971.,  735972.,  735973.]),\n",
       " <a list of 10 Text xticklabel objects>)"
      ]
     },
     "execution_count": 57,
     "metadata": {},
     "output_type": "execute_result"
    },
    {
     "data": {
      "image/png": "[encoded data removed]",
      "text/plain": [
       "<matplotlib.figure.Figure at 0x10a4299b0>"
      ]
     },
     "metadata": {},
     "output_type": "display_data"
    }
   ],
   "source": [
    "from datetime import datetime, timedelta\n",
    "dates = []\n",
    "[dates.append(datetime(2016, 1, 1, 0, 0) + i*timedelta(days=1)) for i in range(10)]\n",
    "y = np.linspace(0, 10, 10)\n",
    "\n",
    "fig = plt.figure()\n",
    "ax1 = fig.add_subplot(1, 2, 1)\n",
    "ax1.plot_date(dates, y)\n",
    "ax1.set_title('Plotted with plot_date')\n",
    "plt.setp( ax1.xaxis.get_majorticklabels(), rotation=70 )\n",
    "\n",
    "ax2 = fig.add_subplot(1, 2, 2)\n",
    "ax2.plot(dates, y)\n",
    "ax2.set_title('Plotted with plot')\n",
    "plt.xticks(rotation=70)"
   ]
  },
  {
   "cell_type": "markdown",
   "metadata": {},
   "source": [
    "### Removing offset from axis\n",
    "\n",
    "By default, matplotlib will format the axis with a relative shift if there is a large difference in the axis value range. Sometimes this is helpful and sometimes it is annoying. We can turn this off with `ax.get_xaxis().get_major_formatter().set_useOffset(False)`."
   ]
  },
  {
   "cell_type": "code",
   "execution_count": 42,
   "metadata": {
    "collapsed": false
   },
   "outputs": [
    {
     "data": {
      "image/png": "[encoded data removed]",
      "text/plain": [
       "<matplotlib.figure.Figure at 0x1080af0f0>"
      ]
     },
     "metadata": {},
     "output_type": "display_data"
    }
   ],
   "source": [
    "fig = plt.figure()\n",
    "\n",
    "ax1 = fig.add_subplot(121)\n",
    "ax1.plot([1000, 1001, 1002], [1, 2, 3])\n",
    "ax1.set_title('default matplotlib x-axis')\n",
    "\n",
    "ax2 = fig.add_subplot(122)\n",
    "ax2.plot([1000, 1001, 1002], [1, 2, 3])\n",
    "ax2.set_title('turned off default offset')\n",
    "ax2.get_xaxis().get_major_formatter().set_useOffset(False)"
   ]
  },
  {
   "cell_type": "markdown",
   "metadata": {},
   "source": [
    "### Legends\n",
    "\n",
    "[`ax.legend([possible sequence of strings], loc)`](http://matplotlib.org/api/legend_api.html#matplotlib.legend.Legend)\n",
    "\n",
    "where loc tells where in the axes to place the legend:\n",
    "'best'         : 0, (only implemented for axes legends)\n",
    "'upper right'  : 1,\n",
    "'upper left'   : 2,\n",
    "'lower left'   : 3,\n",
    "'lower right'  : 4,\n",
    "'right'        : 5,\n",
    "'center left'  : 6,\n",
    "'center right' : 7,\n",
    "'lower center' : 8,\n",
    "'upper center' : 9,\n",
    "'center'       : 10,\n",
    "\n",
    "A legend or key for a plot can be produced by matplotlib by either labeling plots as they are plotted and then calling the legend command, or by plotting and then labeling them in order within the legend command.\n",
    "\n",
    "Note also that when a marker is used for plotting, the legend by default puts two of them in the legend, which is rather ugly. This can be changed by adding `numpoints=1` into the `legend()` call."
   ]
  },
  {
   "cell_type": "code",
   "execution_count": 63,
   "metadata": {
    "collapsed": false
   },
   "outputs": [
    {
     "data": {
      "text/plain": [
       "<matplotlib.text.Text at 0x10b13c550>"
      ]
     },
     "execution_count": 63,
     "metadata": {},
     "output_type": "execute_result"
    },
    {
     "data": {
      "image/png": "[encoded data removed]",
      "text/plain": [
       "<matplotlib.figure.Figure at 0x10b05b160>"
      ]
     },
     "metadata": {},
     "output_type": "display_data"
    }
   ],
   "source": [
    "x = np.linspace(0, 10)\n",
    "\n",
    "fig = plt.figure()\n",
    "\n",
    "# Using default legend location and labeled plots as they were plotted\n",
    "ax1 = fig.add_subplot(121)\n",
    "ax1.plot(x, x, label='y=x')\n",
    "ax1.plot(x, x**2, '.', label='y=x$^2$')\n",
    "ax1.legend()\n",
    "ax1.set_title('labeled entries,\\n default legend loc,\\n 2 markers in legend')\n",
    "\n",
    "# Chose \"best\" location for legend and labeled plots in the legend in order of plotting\n",
    "ax2 = fig.add_subplot(122)\n",
    "ax2.plot(x, x)\n",
    "ax2.plot(x, x**2, '.')\n",
    "ax2.legend(('y=x', 'y=x$^2$'), loc=0, numpoints=1)\n",
    "ax2.set_title('labeled entries in legend,\\n best legend loc,\\n 1 marker in legend')\n"
   ]
  },
  {
   "cell_type": "markdown",
   "metadata": {},
   "source": [
    "### Plotting inputs\n",
    "\n",
    "#### [colors](http://matplotlib.org/api/colors_api.html#module-matplotlib.colors)\n",
    "\n",
    "A handful of colors are available by a single letter code:\n",
    "b: blue\n",
    "g: green\n",
    "r: red\n",
    "c: cyan\n",
    "m: magenta\n",
    "y: yellow\n",
    "k: black\n",
    "w: white, \n",
    "and many more are available by (html) name:\n",
    "\n",
    "![color chart](http://i.stack.imgur.com/k2VzI.png)\n",
    "http://stackoverflow.com/questions/22408237/named-colors-in-matplotlib\n",
    "\n",
    "Other inputs to matplotlib possible:\n",
    "\n",
    "* Gray scale: a string with a float in it between 0 (black) and 1 (white)\n",
    "* Hex: '#eeefff'\n",
    "* RGB tuple in the range [0,1]: [0.1, 0.2, 0.3]\n",
    "\n",
    "#### [line styles and markers](http://matplotlib.org/1.3.1/examples/pylab_examples/line_styles.html)\n",
    "\n",
    "There are several line styles and many markers available for plotting. You can plot a marker alone, a line alone, or a combination of the two for even more options. Here are some examples:\n",
    "\n",
    "![line styles and markers](http://matplotlib.org/1.3.1/_images/line_styles.png)\n",
    "http://matplotlib.org/1.3.1/examples/pylab_examples/line_styles.html"
   ]
  },
  {
   "cell_type": "markdown",
   "metadata": {},
   "source": [
    "### Get current plot\n",
    "\n",
    "These can be used if you didn't properly set up your figure in the first place and want to be able to reference the current plot.\n",
    "\n",
    "[`plt.gca()`](http://matplotlib.org/api/pyplot_api.html#matplotlib.pyplot.gca): Gets the current Axes instance.\n",
    "\n",
    "[`plt.gcf()`](http://matplotlib.org/api/pyplot_api.html#matplotlib.pyplot.gcf): Gets the current Figure instance."
   ]
  },
  {
   "cell_type": "markdown",
   "metadata": {},
   "source": [
    "### Labels with math\n",
    "\n",
    "Sometimes we want to be able to use $\\LaTeX$ to write math in axis labels, especially for units. We can do this in matplotlib! We just have to use proper $\\LaTeX$ notation for writing the math, and put an 'r' in front of the string, though often the 'r' doesn't appear to be needed."
   ]
  },
  {
   "cell_type": "code",
   "execution_count": 59,
   "metadata": {
    "collapsed": false
   },
   "outputs": [
    {
     "data": {
      "text/plain": [
       "<matplotlib.text.Text at 0x10a9a5898>"
      ]
     },
     "execution_count": 59,
     "metadata": {},
     "output_type": "execute_result"
    },
    {
     "data": {
      "image/png": "[encoded data removed]",
      "text/plain": [
       "<matplotlib.figure.Figure at 0x10a93c278>"
      ]
     },
     "metadata": {},
     "output_type": "display_data"
    }
   ],
   "source": [
    "fig = plt.figure(figsize=(2, 1))\n",
    "ax = fig.add_subplot(111)\n",
    "ax.set_xlabel('Speed [m s$^{-1}$]')\n",
    "ax.set_ylabel('Volume [m$^{3}$]')"
   ]
  },
  {
   "cell_type": "markdown",
   "metadata": {},
   "source": [
    "# B. Line plot\n",
    "\n",
    "(after explaining plot things in the first sections, show how they are used in the specific plots\n",
    "\n",
    "legend and legend entries\n",
    "keyword arguments: linewidth, plot markers, colors, line styles\n",
    "multiple lines\n",
    "two y axes\n",
    "\n",
    "Line plots are useful for time series data. "
   ]
  },
  {
   "cell_type": "code",
   "execution_count": 14,
   "metadata": {
    "collapsed": false
   },
   "outputs": [
    {
     "data": {
      "text/plain": [
       "[<matplotlib.lines.Line2D at 0x105fe1898>]"
      ]
     },
     "execution_count": 14,
     "metadata": {},
     "output_type": "execute_result"
    },
    {
     "data": {
      "image/png": "[encoded data removed]",
      "text/plain": [
       "<matplotlib.figure.Figure at 0x106cb12b0>"
      ]
     },
     "metadata": {},
     "output_type": "display_data"
    }
   ],
   "source": [
    "# set up plot fields\n",
    "x = np.linspace(0, 10)\n",
    "y = x**2\n",
    "\n",
    "# set up figure\n",
    "fig = plt.figure()\n",
    "ax = fig.add_subplot(111)\n",
    "\n",
    "# plot line\n",
    "ax.plot(x, y)"
   ]
  },
  {
   "cell_type": "markdown",
   "metadata": {},
   "source": [
    "---\n",
    "## *Exercise*\n",
    "\n",
    "> 4 x 2 line plots sharing both axes, with a suptitle, change limits, add legend, fontsize, linewidth, color. have them figure out how to have two y axes?\n",
    "---"
   ]
  },
  {
   "cell_type": "code",
   "execution_count": null,
   "metadata": {
    "collapsed": true
   },
   "outputs": [],
   "source": []
  },
  {
   "cell_type": "markdown",
   "metadata": {},
   "source": [
    "# C. Bar plot, histogram"
   ]
  },
  {
   "cell_type": "markdown",
   "metadata": {},
   "source": [
    "---\n",
    "## *Exercise*\n",
    "\n",
    "> \n",
    "---"
   ]
  },
  {
   "cell_type": "markdown",
   "metadata": {},
   "source": [
    "# D. 2D plots (scatter, quiver, pcolor, contour)\n",
    "\n",
    "contour vs. contourf\n",
    "colorbar\n"
   ]
  },
  {
   "cell_type": "markdown",
   "metadata": {},
   "source": [
    "---\n",
    "## *Exercise*\n",
    "\n",
    "> \n",
    "---"
   ]
  },
  {
   "cell_type": "markdown",
   "metadata": {},
   "source": [
    "# E. Advanced\n",
    "\n",
    "animations\n",
    "general good design practices - chartjunk, tufte, linestyles and widths, font size, colormaps\n",
    "colormap: link to a few options like the matplotlib gallery of colormaps and my matplotlib doc page\n",
    "subplots_adjust\n",
    "overlaid axes\n",
    "complex tiling\n",
    "zoomed axes"
   ]
  },
  {
   "cell_type": "markdown",
   "metadata": {},
   "source": [
    "---\n",
    "## *Exercise*\n",
    "\n",
    "> \n",
    "---"
   ]
  },
  {
   "cell_type": "markdown",
   "metadata": {},
   "source": [
    "# F. Other plotting packages"
   ]
  }
 ],
 "metadata": {
  "kernelspec": {
   "display_name": "Python 3",
   "language": "python",
   "name": "python3"
  },
  "language_info": {
   "codemirror_mode": {
    "name": "ipython",
    "version": 3
   },
   "file_extension": ".py",
   "mimetype": "text/x-python",
   "name": "python",
   "nbconvert_exporter": "python",
   "pygments_lexer": "ipython3",
   "version": "3.5.1"
  }
 },
 "nbformat": 4,
 "nbformat_minor": 0
}
