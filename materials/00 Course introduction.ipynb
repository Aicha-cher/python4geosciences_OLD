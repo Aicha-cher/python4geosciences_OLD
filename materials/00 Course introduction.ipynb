{
 "cells": [
  {
   "cell_type": "markdown",
   "metadata": {},
   "source": [
    "# 00 Course introduction"
   ]
  },
  {
   "cell_type": "markdown",
   "metadata": {},
   "source": [
    "## A. Overview"
   ]
  },
  {
   "cell_type": "markdown",
   "metadata": {},
   "source": [
    "### Am I ready to take this course?\n",
    "\n",
    "Yes. Probably. Some programming experience will help, but is not required. There are lots of online resource that you can use to supplement things we learn in class. Some examples are:\n",
    "\n",
    " * [python.org Tutorial](https://docs.python.org/3/tutorial/index.html)\n",
    " * [software carpentry](http://software-carpentry.org)\n",
    " * [Google](http://google.com) (Just type in your question and follow the first [stackoverflow](http://stackoverflow.com) link. This is surprisingly effective; do this first.)"
   ]
  },
  {
   "cell_type": "markdown",
   "metadata": {},
   "source": [
    "### What computational resources do I need for class?\n",
    "\n",
    "We assume you have a laptop that you will bring to class and use to follow along. If you don't have access to some sort of portable device that you can use in class, please let us know as soon as possible."
   ]
  },
  {
   "cell_type": "markdown",
   "metadata": {},
   "source": [
    "### Who is teaching this class?\n",
    "\n",
    "#### Rob Hetland (hetland@tamu.edu, github: hetland, http://pong.tamu.edu/~rob/, O&M 618)\n",
    "Rob has been a professor at TAMU since 2000, and has about a decade worth of scientific python experience.\n",
    "\n",
    "#### Kristen Thyng (kthyng@tamu.edu, github: kthyng, http://kristenthyng.com, O&M 608)\n",
    "Kristen is an assistant research scientist, and has been at TAMU since 2012. She has been active in scientific python and has helped organized the Scientific Python meetings in Austin since 2014."
   ]
  },
  {
   "cell_type": "markdown",
   "metadata": {},
   "source": [
    "### There are two instructors then?\n",
    "\n",
    "Yes. We will take turns teaching and helping out with the class. Please email both of us for all class-related contact, though feel free to address whoever is most relevant, if appropriate."
   ]
  },
  {
   "cell_type": "markdown",
   "metadata": {},
   "source": [
    "### Geosciences?!?\n",
    "\n",
    "The goal of this class is to provide information for all fields in geoscience. To that end, we will try to cover topics from geology, geography, atmospheric sciences, and oceanography. Specifically, we will focus on 1D timeseries, and 2D geospatial (i.e., on a map) analysis. If you have any topics you would like to cover, please let us know, and we will do our best to accommodate."
   ]
  },
  {
   "cell_type": "markdown",
   "metadata": {},
   "source": [
    "### Which version of Python should I use.\n",
    "\n",
    "Unless you have a good reason to do differently, you should use Python 3 (as opposed to Python version 2.x). The syntax between Python 2 and 3 is very similar, but there are some subtle differences. You should learn the newest version, so you don't need to unlearn those things later.\n",
    "\n",
    "Unless you have a good reason to do differently, you should use [Anaconda scientific python](https://www.continuum.io/downloads). This is the Python distribution we will use in class. Others will also work, but the Anaconda distribution is easy to install and maintain, and has everything we will need for class. It is also free, both as in speech and as in beer."
   ]
  },
  {
   "cell_type": "markdown",
   "metadata": {},
   "source": [
    "### Class setup\n",
    "\n",
    "#### Class format\n",
    "\n",
    "We will go through course materials during class time. You should bring a laptop to class so that you can follow along and participate in exercises.\n",
    "\n",
    "\n",
    "#### Git and GitHub\n",
    "\n",
    "All class materials will be shared through a [GitHub](http://github.org) repository. GitHub is a way to share and access code online which has been version-controlled using git. Version control allows changes in code to be tracked over time; this is important for reproducibility, retrieving code in case of accidents, and working on code in groups. Git is one way to version control your code — other methods include subversion (svn), cvs, and mercurial. More information on this is provided below.\n",
    "\n",
    "\n",
    "#### Get the course materials\n",
    "\n",
    "The course materials are available in the [class repository](https://github.com/hetland/python4geosciences). To do this, in your terminal window, navigate to the location where you want the class materials, and then type: `git clone https://github.com/hetland/python4geosciences`.\n",
    "\n",
    "\n",
    "#### Access the materials\n",
    "\n",
    "* The class materials are located in `python4geosciences/materials/` and are in the form of [Jupyter notebooks](http://jupyter.org/). More information on notebooks below.\n",
    "* Navigate to the class directory on your computer, then start a local iPython notebook server with `ipython notebook`. This will open a browser window to the local server through which you can select notebooks in the `materials` directory for the class notebooks."
   ]
  },
  {
   "cell_type": "markdown",
   "metadata": {},
   "source": [
    "### How do I submit homework?\n",
    "\n",
    "You will need to submit your homework through [github](http://github.org) from your own repository that you will use for the class. Your homeworks will be in the form of Jupyter notebooks.\n",
    "\n",
    "PUT MATERIAL HERE FROM hw0"
   ]
  },
  {
   "cell_type": "markdown",
   "metadata": {},
   "source": [
    "## B. Terminal window"
   ]
  },
  {
   "cell_type": "markdown",
   "metadata": {},
   "source": [
    "## C. Jupyter notebooks\n",
    "\n",
    "This file format makes it easy to seamlessly combine text and code. The text can be plain or formatted with [Markdown](https://daringfireball.net/projects/markdown/). The code can be written in over 40 languages including Python, R, and Scala. Most importantly, the code can be interacted with when the notebook is opened in a local (that is, on your computer) iPython server. Alternatively, it can simply be viewed through a github repository (like [this very notebook](https://github.com/hetland/python4geosciences/blob/master/materials/00%20Course%20introduction.ipynb)) or through [nbviewer](http://nbviewer.ipython.org/).\n",
    "\n",
    "### Open a local iPython server\n",
    "\n",
    "Navigate to the directory on your computer with the Jupyter notebooks you want to open, then start a local iPython notebook server with `ipython notebook`. This will open a browser window to the local server through which you can select available notebooks or create new ones.\n",
    "\n",
    "### Create a new notebook\n",
    "\n",
    "Start up your local notebook server in your new repo and create a new Jupyter notebook from the local server page."
   ]
  },
  {
   "cell_type": "markdown",
   "metadata": {},
   "source": [
    "## D. Short git and GitHub tutorial\n",
    "\n",
    "Remember: you can always google to learn more! Google is an infinite resource that you can ask at any time of the day. Here we summarize a brief overview of how to use git.\n",
    "\n",
    "![XKCD](https://imgs.xkcd.com/comics/git.png)\n",
    "\n",
    "[Git as explained by XKCD](https://xkcd.com/1597/)\n",
    "\n",
    "### `git status`\n",
    "\n",
    "Type this in a git-monitored subdirectory on your computer to see the status of files that are under git version control and which files are not being monitored.\n",
    "\n",
    "### `git add`\n",
    "\n",
    "Use this to add local files to your git repository. `git add [filename]`.\n",
    "\n",
    "### `git commit`\n",
    "\n",
    "Use this to save to your repository local file changes. First you need to add the file with `git add`, then you can `git commit -m [commit message]`, where the commit message is a concise and useful note to explain what changes you have made. You may skip the `git add` step if you would like to commit at once all changes that have been made (you can see what changes would be committed by first consulting `git status`) with `git commit -am [commit message]`. The `-a` flag stands for \"all\" as in commit all changes.\n",
    "\n",
    "### `git push`\n",
    "\n",
    "To move your local changes to github so that they are saved and also for sharing with others, you need to `git push`. After making whatever commits you want to make, you can run this command to finalize your changes on github.\n",
    "\n",
    "### `git merge`\n",
    "\n",
    "If changes have been made in multiple places (say, by another person working on the same code base, or by yourself on two different machines) between `git push`es, git will try to merge if possible — which it will do if the changes don't overlap and therefore don't require your input. If the changes do overlap, you will have to merge the two versions of the code together. You probably won't need to do this in this class.\n",
    "\n",
    "\n",
    "### Get set up with GitHub\n",
    "\n",
    "You'll need an account on github if you don't already have one, and to have git installed on your computer. We will interact with github through a terminal window in class and through the website. You may also download the [GitHub Desktop application](https://desktop.github.com/) to use if you prefer, though we won't be able to help you much with the details of it.\n",
    "\n",
    "### Create a new repo\n",
    "\n",
    "In your account on the github webpage, click on the Repositories tab and then the green \"New\" button in the upper right. You'll need to keep this repo public. After creating this new repo, follow the instructions on the next page for quick setup or to create a new repository on the command line. This makes it so that you have the repo both on github and on your local machine. \n",
    "\n",
    "### Clone a repo\n",
    "\n",
    "In a terminal window in the location you want to save the repo materials, type: `git clone [repo address, e.g. https://github.com/hetland/python4geosciences]`."
   ]
  },
  {
   "cell_type": "markdown",
   "metadata": {
    "collapsed": true
   },
   "source": []
  }
 ],
 "metadata": {
  "kernelspec": {
   "display_name": "Python 3",
   "language": "python",
   "name": "python3"
  },
  "language_info": {
   "codemirror_mode": {
    "name": "ipython",
    "version": 3
   },
   "file_extension": ".py",
   "mimetype": "text/x-python",
   "name": "python",
   "nbconvert_exporter": "python",
   "pygments_lexer": "ipython3",
   "version": "3.5.1"
  }
 },
 "nbformat": 4,
 "nbformat_minor": 0
}
